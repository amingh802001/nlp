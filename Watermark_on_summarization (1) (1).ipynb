{
  "cells": [
    {
      "cell_type": "markdown",
      "metadata": {
        "id": "2qdISDcVuDpl"
      },
      "source": [
        "# load model and dependencies"
      ]
    },
    {
      "cell_type": "code",
      "execution_count": 1,
      "metadata": {
        "colab": {
          "base_uri": "https://localhost:8080/",
          "height": 1000,
          "referenced_widgets": [
            "802b4ec0e34c45a389ea35f7880cb696",
            "8fd2499fea674cc7beb5b74d319ba234",
            "21087fad810747fa9c62e82eeff92a47",
            "af81a6d00cd04edc88434fcae210badc",
            "ed848544e18445d3b585095fb06869e4",
            "88bc54ef28314ed49b72be86e278809b",
            "0e8156a052c145c1825cef078d9832ec",
            "c9bf1928b575441f93e944f84560f0d1",
            "9d13a7087b3c4825a7c52aa4b9efde9c",
            "b387ebdd62aa495284273f5c4f1930ce",
            "b40bb54bc26243e087e00bad921293aa",
            "a167be8eea1645d293bfb227d52e3667",
            "0fcaad33770b4f24ac7080d7ae776995",
            "b8b8349590b6440d97d6c930eea7e172",
            "f9e53ad24c4f4d01a1224093a2bdca44",
            "86597fcda22c4050b872ba8fc3a6ed8e",
            "c79f4a18f7744db5b9c3f0c9b4962e8b",
            "bcafdd0321464aa59d763cc9c4d90c60",
            "36edaec208154163857f1bdbf5045033",
            "b41632d6ddf8422d9d20d098d9eb8e39",
            "5275e3fba4be4101a0a2d31d7dbf1dc1",
            "c45de82ad93149a684fa969be7484aaa",
            "d01e4ee06756432c88fe8ef536adb8fb",
            "596258f0151840868fae451515813ebe",
            "692eea8ab24e478a9887720430a92f97",
            "afcee20742a644e0a5d4c0510568833a",
            "b08573626d0d48c4b1385d1cd1aa9a22",
            "aae33005b7514ab3ab47057749a5e4a7",
            "77ea28d38bd04086b0865ad78c709b07",
            "fb4e0e49f68e4298b099508c094f96ae",
            "56cc53312e4b4929954be3236e44eb9a",
            "0a30ae3d4e6746c68ac5983bb68d2699",
            "d388cde4698f4b76846224756788f040",
            "836d4604d01345b793dd172fac2ec270",
            "41a1a043447e4bae9a8497cc2a9b52da",
            "4e99745d52ae48aa9c782a40560581ba",
            "1370ef0a80aa408ea74594d0904b9178",
            "d1d75136fd924389924fdf1e02497264",
            "1862f4648e214c5086aa126cfd098ebe",
            "4d6d903f9d2e4a6ead8e04c94de4cd11",
            "85e33e4c109f4023a28e6ca72e804b63",
            "4376250d66cb41adbe50b255b2b63236",
            "a3cc397ff25443a193b4e65ed45b29cd",
            "cfbd3e039e3e4533bf80541322e7ed27",
            "03d5cc3ad6334d7ab0a87e30760fa4b2",
            "a092ee352c31434587af75b117a10609",
            "cab3cdbfae0e4416ac0101fafb5439c1",
            "7cf923871d0845f2bf552ebaf0a1e486",
            "741403383ff847a5a7dbc53db135d779",
            "7585195696ae42769e38a74e1fb2ca3b",
            "2b1e28ff0ea14c7285c357c3b80fa515",
            "09245eb217bb408fa3690b0feb4492ec",
            "1991b90803c544579b0a297e6f00249a",
            "c4a75f3592e7407db2904244798770f2",
            "ce7ccae65a4b43c9ba5b9464943542ae",
            "187a9f23de9641c297150fd5a308068e",
            "4fba94b3b10f4a1cba31d751464a19e3",
            "b800185fecb3494899c958298576af5b",
            "30d5b5b852544a178ed3c1f37e88270a",
            "17db9d00fec441d89b91d5a9ace94ff5",
            "16fe8a2f15654d79bcef9c719f0a99a8",
            "e5082fa8377f4d5690284a8a79a5d74e",
            "2efd8fef731e4d65a82a420e4430745d",
            "bc6df42769064c1985982baeb959e61d",
            "16131c18d8c04cf19808b4cc8387204f",
            "da6a97404bbe4c8183c05bbc93b77560"
          ]
        },
        "id": "KI742etVuG-n",
        "outputId": "a26b0c99-195a-4162-9de1-fb77426da243"
      },
      "outputs": [
        {
          "output_type": "stream",
          "name": "stdout",
          "text": [
            "Collecting transformers\n",
            "  Downloading transformers-4.34.1-py3-none-any.whl (7.7 MB)\n",
            "\u001b[2K     \u001b[90m━━━━━━━━━━━━━━━━━━━━━━━━━━━━━━━━━━━━━━━━\u001b[0m \u001b[32m7.7/7.7 MB\u001b[0m \u001b[31m16.9 MB/s\u001b[0m eta \u001b[36m0:00:00\u001b[0m\n",
            "\u001b[?25hRequirement already satisfied: filelock in /usr/local/lib/python3.10/dist-packages (from transformers) (3.12.4)\n",
            "Collecting huggingface-hub<1.0,>=0.16.4 (from transformers)\n",
            "  Downloading huggingface_hub-0.18.0-py3-none-any.whl (301 kB)\n",
            "\u001b[2K     \u001b[90m━━━━━━━━━━━━━━━━━━━━━━━━━━━━━━━━━━━━━━━━\u001b[0m \u001b[32m302.0/302.0 kB\u001b[0m \u001b[31m29.6 MB/s\u001b[0m eta \u001b[36m0:00:00\u001b[0m\n",
            "\u001b[?25hRequirement already satisfied: numpy>=1.17 in /usr/local/lib/python3.10/dist-packages (from transformers) (1.23.5)\n",
            "Requirement already satisfied: packaging>=20.0 in /usr/local/lib/python3.10/dist-packages (from transformers) (23.2)\n",
            "Requirement already satisfied: pyyaml>=5.1 in /usr/local/lib/python3.10/dist-packages (from transformers) (6.0.1)\n",
            "Requirement already satisfied: regex!=2019.12.17 in /usr/local/lib/python3.10/dist-packages (from transformers) (2023.6.3)\n",
            "Requirement already satisfied: requests in /usr/local/lib/python3.10/dist-packages (from transformers) (2.31.0)\n",
            "Collecting tokenizers<0.15,>=0.14 (from transformers)\n",
            "  Downloading tokenizers-0.14.1-cp310-cp310-manylinux_2_17_x86_64.manylinux2014_x86_64.whl (3.8 MB)\n",
            "\u001b[2K     \u001b[90m━━━━━━━━━━━━━━━━━━━━━━━━━━━━━━━━━━━━━━━━\u001b[0m \u001b[32m3.8/3.8 MB\u001b[0m \u001b[31m30.1 MB/s\u001b[0m eta \u001b[36m0:00:00\u001b[0m\n",
            "\u001b[?25hCollecting safetensors>=0.3.1 (from transformers)\n",
            "  Downloading safetensors-0.4.0-cp310-cp310-manylinux_2_17_x86_64.manylinux2014_x86_64.whl (1.3 MB)\n",
            "\u001b[2K     \u001b[90m━━━━━━━━━━━━━━━━━━━━━━━━━━━━━━━━━━━━━━━━\u001b[0m \u001b[32m1.3/1.3 MB\u001b[0m \u001b[31m40.9 MB/s\u001b[0m eta \u001b[36m0:00:00\u001b[0m\n",
            "\u001b[?25hRequirement already satisfied: tqdm>=4.27 in /usr/local/lib/python3.10/dist-packages (from transformers) (4.66.1)\n",
            "Requirement already satisfied: fsspec>=2023.5.0 in /usr/local/lib/python3.10/dist-packages (from huggingface-hub<1.0,>=0.16.4->transformers) (2023.6.0)\n",
            "Requirement already satisfied: typing-extensions>=3.7.4.3 in /usr/local/lib/python3.10/dist-packages (from huggingface-hub<1.0,>=0.16.4->transformers) (4.5.0)\n",
            "Collecting huggingface-hub<1.0,>=0.16.4 (from transformers)\n",
            "  Downloading huggingface_hub-0.17.3-py3-none-any.whl (295 kB)\n",
            "\u001b[2K     \u001b[90m━━━━━━━━━━━━━━━━━━━━━━━━━━━━━━━━━━━━━━━━\u001b[0m \u001b[32m295.0/295.0 kB\u001b[0m \u001b[31m26.2 MB/s\u001b[0m eta \u001b[36m0:00:00\u001b[0m\n",
            "\u001b[?25hRequirement already satisfied: charset-normalizer<4,>=2 in /usr/local/lib/python3.10/dist-packages (from requests->transformers) (3.3.0)\n",
            "Requirement already satisfied: idna<4,>=2.5 in /usr/local/lib/python3.10/dist-packages (from requests->transformers) (3.4)\n",
            "Requirement already satisfied: urllib3<3,>=1.21.1 in /usr/local/lib/python3.10/dist-packages (from requests->transformers) (2.0.6)\n",
            "Requirement already satisfied: certifi>=2017.4.17 in /usr/local/lib/python3.10/dist-packages (from requests->transformers) (2023.7.22)\n",
            "Installing collected packages: safetensors, huggingface-hub, tokenizers, transformers\n",
            "Successfully installed huggingface-hub-0.17.3 safetensors-0.4.0 tokenizers-0.14.1 transformers-4.34.1\n",
            "Requirement already satisfied: torch in /usr/local/lib/python3.10/dist-packages (2.0.1+cu118)\n",
            "Requirement already satisfied: transformers in /usr/local/lib/python3.10/dist-packages (4.34.1)\n",
            "Requirement already satisfied: filelock in /usr/local/lib/python3.10/dist-packages (from torch) (3.12.4)\n",
            "Requirement already satisfied: typing-extensions in /usr/local/lib/python3.10/dist-packages (from torch) (4.5.0)\n",
            "Requirement already satisfied: sympy in /usr/local/lib/python3.10/dist-packages (from torch) (1.12)\n",
            "Requirement already satisfied: networkx in /usr/local/lib/python3.10/dist-packages (from torch) (3.1)\n",
            "Requirement already satisfied: jinja2 in /usr/local/lib/python3.10/dist-packages (from torch) (3.1.2)\n",
            "Requirement already satisfied: triton==2.0.0 in /usr/local/lib/python3.10/dist-packages (from torch) (2.0.0)\n",
            "Requirement already satisfied: cmake in /usr/local/lib/python3.10/dist-packages (from triton==2.0.0->torch) (3.27.7)\n",
            "Requirement already satisfied: lit in /usr/local/lib/python3.10/dist-packages (from triton==2.0.0->torch) (17.0.2)\n",
            "Requirement already satisfied: huggingface-hub<1.0,>=0.16.4 in /usr/local/lib/python3.10/dist-packages (from transformers) (0.17.3)\n",
            "Requirement already satisfied: numpy>=1.17 in /usr/local/lib/python3.10/dist-packages (from transformers) (1.23.5)\n",
            "Requirement already satisfied: packaging>=20.0 in /usr/local/lib/python3.10/dist-packages (from transformers) (23.2)\n",
            "Requirement already satisfied: pyyaml>=5.1 in /usr/local/lib/python3.10/dist-packages (from transformers) (6.0.1)\n",
            "Requirement already satisfied: regex!=2019.12.17 in /usr/local/lib/python3.10/dist-packages (from transformers) (2023.6.3)\n",
            "Requirement already satisfied: requests in /usr/local/lib/python3.10/dist-packages (from transformers) (2.31.0)\n",
            "Requirement already satisfied: tokenizers<0.15,>=0.14 in /usr/local/lib/python3.10/dist-packages (from transformers) (0.14.1)\n",
            "Requirement already satisfied: safetensors>=0.3.1 in /usr/local/lib/python3.10/dist-packages (from transformers) (0.4.0)\n",
            "Requirement already satisfied: tqdm>=4.27 in /usr/local/lib/python3.10/dist-packages (from transformers) (4.66.1)\n",
            "Requirement already satisfied: fsspec in /usr/local/lib/python3.10/dist-packages (from huggingface-hub<1.0,>=0.16.4->transformers) (2023.6.0)\n",
            "Requirement already satisfied: MarkupSafe>=2.0 in /usr/local/lib/python3.10/dist-packages (from jinja2->torch) (2.1.3)\n",
            "Requirement already satisfied: charset-normalizer<4,>=2 in /usr/local/lib/python3.10/dist-packages (from requests->transformers) (3.3.0)\n",
            "Requirement already satisfied: idna<4,>=2.5 in /usr/local/lib/python3.10/dist-packages (from requests->transformers) (3.4)\n",
            "Requirement already satisfied: urllib3<3,>=1.21.1 in /usr/local/lib/python3.10/dist-packages (from requests->transformers) (2.0.6)\n",
            "Requirement already satisfied: certifi>=2017.4.17 in /usr/local/lib/python3.10/dist-packages (from requests->transformers) (2023.7.22)\n",
            "Requirement already satisfied: mpmath>=0.19 in /usr/local/lib/python3.10/dist-packages (from sympy->torch) (1.3.0)\n"
          ]
        },
        {
          "output_type": "display_data",
          "data": {
            "text/plain": [
              "Downloading (…)olve/main/vocab.json:   0%|          | 0.00/899k [00:00<?, ?B/s]"
            ],
            "application/vnd.jupyter.widget-view+json": {
              "version_major": 2,
              "version_minor": 0,
              "model_id": "802b4ec0e34c45a389ea35f7880cb696"
            }
          },
          "metadata": {}
        },
        {
          "output_type": "display_data",
          "data": {
            "text/plain": [
              "Downloading (…)olve/main/merges.txt:   0%|          | 0.00/456k [00:00<?, ?B/s]"
            ],
            "application/vnd.jupyter.widget-view+json": {
              "version_major": 2,
              "version_minor": 0,
              "model_id": "a167be8eea1645d293bfb227d52e3667"
            }
          },
          "metadata": {}
        },
        {
          "output_type": "display_data",
          "data": {
            "text/plain": [
              "Downloading (…)/main/tokenizer.json:   0%|          | 0.00/1.36M [00:00<?, ?B/s]"
            ],
            "application/vnd.jupyter.widget-view+json": {
              "version_major": 2,
              "version_minor": 0,
              "model_id": "d01e4ee06756432c88fe8ef536adb8fb"
            }
          },
          "metadata": {}
        },
        {
          "output_type": "display_data",
          "data": {
            "text/plain": [
              "Downloading (…)lve/main/config.json:   0%|          | 0.00/1.58k [00:00<?, ?B/s]"
            ],
            "application/vnd.jupyter.widget-view+json": {
              "version_major": 2,
              "version_minor": 0,
              "model_id": "836d4604d01345b793dd172fac2ec270"
            }
          },
          "metadata": {}
        },
        {
          "output_type": "display_data",
          "data": {
            "text/plain": [
              "Downloading pytorch_model.bin:   0%|          | 0.00/1.63G [00:00<?, ?B/s]"
            ],
            "application/vnd.jupyter.widget-view+json": {
              "version_major": 2,
              "version_minor": 0,
              "model_id": "03d5cc3ad6334d7ab0a87e30760fa4b2"
            }
          },
          "metadata": {}
        },
        {
          "output_type": "display_data",
          "data": {
            "text/plain": [
              "Downloading (…)neration_config.json:   0%|          | 0.00/363 [00:00<?, ?B/s]"
            ],
            "application/vnd.jupyter.widget-view+json": {
              "version_major": 2,
              "version_minor": 0,
              "model_id": "187a9f23de9641c297150fd5a308068e"
            }
          },
          "metadata": {}
        },
        {
          "output_type": "stream",
          "name": "stderr",
          "text": [
            "[nltk_data] Downloading package punkt to /root/nltk_data...\n",
            "[nltk_data]   Unzipping tokenizers/punkt.zip.\n"
          ]
        },
        {
          "output_type": "stream",
          "name": "stdout",
          "text": [
            "Collecting rouge-score\n",
            "  Downloading rouge_score-0.1.2.tar.gz (17 kB)\n",
            "  Preparing metadata (setup.py) ... \u001b[?25l\u001b[?25hdone\n",
            "Requirement already satisfied: absl-py in /usr/local/lib/python3.10/dist-packages (from rouge-score) (1.4.0)\n",
            "Requirement already satisfied: nltk in /usr/local/lib/python3.10/dist-packages (from rouge-score) (3.8.1)\n",
            "Requirement already satisfied: numpy in /usr/local/lib/python3.10/dist-packages (from rouge-score) (1.23.5)\n",
            "Requirement already satisfied: six>=1.14.0 in /usr/local/lib/python3.10/dist-packages (from rouge-score) (1.16.0)\n",
            "Requirement already satisfied: click in /usr/local/lib/python3.10/dist-packages (from nltk->rouge-score) (8.1.7)\n",
            "Requirement already satisfied: joblib in /usr/local/lib/python3.10/dist-packages (from nltk->rouge-score) (1.3.2)\n",
            "Requirement already satisfied: regex>=2021.8.3 in /usr/local/lib/python3.10/dist-packages (from nltk->rouge-score) (2023.6.3)\n",
            "Requirement already satisfied: tqdm in /usr/local/lib/python3.10/dist-packages (from nltk->rouge-score) (4.66.1)\n",
            "Building wheels for collected packages: rouge-score\n",
            "  Building wheel for rouge-score (setup.py) ... \u001b[?25l\u001b[?25hdone\n",
            "  Created wheel for rouge-score: filename=rouge_score-0.1.2-py3-none-any.whl size=24932 sha256=fa29cc2419a830fd30660aca730620523c942b1f0e36c8c54f621441683bbdea\n",
            "  Stored in directory: /root/.cache/pip/wheels/5f/dd/89/461065a73be61a532ff8599a28e9beef17985c9e9c31e541b4\n",
            "Successfully built rouge-score\n",
            "Installing collected packages: rouge-score\n",
            "Successfully installed rouge-score-0.1.2\n"
          ]
        }
      ],
      "source": [
        "!pip install transformers\n",
        "!pip install torch transformers\n",
        "\n",
        "from transformers import BartTokenizer, BartForConditionalGeneration\n",
        "\n",
        "model_name = \"facebook/bart-large-cnn\"\n",
        "tokenizer = BartTokenizer.from_pretrained(model_name)\n",
        "model = BartForConditionalGeneration.from_pretrained(model_name)\n",
        "\n",
        "model.config.output_scores = True\n",
        "import numpy as np\n",
        "import torch\n",
        "from torch.nn.functional import softmax\n",
        "import random\n",
        "import csv\n",
        "from scipy import stats\n",
        "\n",
        "import nltk\n",
        "from nltk.translate.bleu_score import sentence_bleu, SmoothingFunction\n",
        "nltk.download('punkt')\n",
        "!pip install rouge-score\n",
        "from rouge_score import rouge_scorer\n",
        "\n",
        "import pandas as pd"
      ]
    },
    {
      "cell_type": "code",
      "execution_count": 3,
      "metadata": {
        "colab": {
          "base_uri": "https://localhost:8080/"
        },
        "id": "iVcH-Ci38s_i",
        "outputId": "fd6282be-7c38-4fc8-dfa8-13d6d1e57513"
      },
      "outputs": [
        {
          "output_type": "stream",
          "name": "stdout",
          "text": [
            "Mounted at /content/gdrive\n"
          ]
        }
      ],
      "source": [
        "from google.colab import drive\n",
        "drive.mount('/content/gdrive')"
      ]
    },
    {
      "cell_type": "code",
      "execution_count": 4,
      "metadata": {
        "id": "dp28iemDAgha"
      },
      "outputs": [],
      "source": [
        "# greedy search\n",
        "model.config.num_beams = 1"
      ]
    },
    {
      "cell_type": "code",
      "execution_count": 5,
      "metadata": {
        "id": "_5j6CFepBZhH"
      },
      "outputs": [],
      "source": [
        "model.config.length_penalty = 1.0"
      ]
    },
    {
      "cell_type": "code",
      "execution_count": 6,
      "metadata": {
        "id": "wPHAvAkmInTK"
      },
      "outputs": [],
      "source": [
        "model.config.early_stopping = False"
      ]
    },
    {
      "cell_type": "code",
      "execution_count": null,
      "metadata": {
        "colab": {
          "base_uri": "https://localhost:8080/"
        },
        "id": "aC_mfrwtXTEg",
        "outputId": "db4cfc24-c3f3-4b0a-cd2f-c382c1835408"
      },
      "outputs": [
        {
          "name": "stdout",
          "output_type": "stream",
          "text": [
            "Generated Summary: D\n"
          ]
        }
      ],
      "source": [
        "original_text = text\n",
        "input_text = f\"{original_text} {tokenizer.eos_token} {partial_summary}\"\n",
        "input_ids = tokenizer.encode(input_text, return_tensors=\"pt\", truncation=True)\n",
        "generated_ids = model.generate(input_ids, max_new_tokens=3, min_length=3, return_dict_in_generate=True,output_scores=True, num_return_sequences=1)\n",
        "generated_summary = tokenizer.decode(generated_ids.sequences[0], skip_special_tokens=True)\n",
        "print(\"Generated Summary:\", generated_summary)"
      ]
    },
    {
      "cell_type": "markdown",
      "source": [
        "# Separate functions for differnt parts of the task"
      ],
      "metadata": {
        "id": "a_HPne5iVlgv"
      }
    },
    {
      "cell_type": "markdown",
      "metadata": {
        "id": "gi6TdTSjJWZZ"
      },
      "source": [
        "## greedy sequential sampling"
      ]
    },
    {
      "cell_type": "code",
      "execution_count": null,
      "metadata": {
        "id": "MTu9AHxsaUi4"
      },
      "outputs": [],
      "source": [
        "# Generating text sequentially(by choosign max probability)\n",
        "original_text = text\n",
        "partial_summary = generated_summary\n",
        "partial_summary_ids = generated_ids.sequences[0][:-1]\n",
        "\n",
        "for i in range(7):\n",
        "  gen_num = 4+i\n",
        "  input_text = f\"{original_text} {tokenizer.eos_token} {partial_summary}\"\n",
        "  input_ids = tokenizer.encode(input_text, return_tensors=\"pt\", truncation=True)\n",
        "\n",
        "  generated_ids = model.generate(input_ids, max_new_tokens=gen_num, min_length=gen_num, return_dict_in_generate=True,output_scores=True, num_return_sequences=1)\n",
        "  a = softmax(generated_ids.scores[-2][0],dim=-1)\n",
        "  next = torch.argmax(a).item()\n",
        "  generated_ids.sequences[0][:-2] = partial_summary_ids\n",
        "  generated_ids.sequences[0][-2] = next\n",
        "  partial_summary_ids = generated_ids.sequences[0][:-1]\n",
        "\n",
        "  generated_summary = tokenizer.decode(generated_ids.sequences[0], skip_special_tokens=True)\n",
        "  partial_summary = generated_summary\n",
        "  print(\"Generated Summary:\", generated_summary)\n",
        "print(generated_ids.sequences[0])"
      ]
    },
    {
      "cell_type": "code",
      "execution_count": null,
      "metadata": {
        "colab": {
          "base_uri": "https://localhost:8080/"
        },
        "id": "FxbWxKkk52ds",
        "outputId": "88ba20e8-b631-4dd5-8e0a-b97dab2115cf"
      },
      "outputs": [
        {
          "name": "stdout",
          "output_type": "stream",
          "text": [
            "tensor([  495,  4324, 15914,   102,    16,  5614,    69])\n",
            "tensor([ 4324, 15914,   102,    16,  5614,    69,   371])\n"
          ]
        }
      ],
      "source": [
        "# For i in\n",
        "print(generated_ids.sequences[0][2:-2])\n",
        "print(generated_ids.sequences[0][3:-1])\n",
        "# check if i+1 in green or red"
      ]
    },
    {
      "cell_type": "markdown",
      "metadata": {
        "id": "rFvx35iiUGQ2"
      },
      "source": [
        "## greedy sequential sampling with hard watermark"
      ]
    },
    {
      "cell_type": "code",
      "execution_count": null,
      "metadata": {
        "id": "RXE8PUrd5CFp"
      },
      "outputs": [],
      "source": [
        "# Get the model's vocabulary\n",
        "values = list(tokenizer.get_vocab().values())\n",
        "keys = list(tokenizer.get_vocab().keys())\n",
        "vocab = {}\n",
        "for i in range(len(values)):\n",
        "  vocab[values[i]] = keys[i]"
      ]
    },
    {
      "cell_type": "code",
      "execution_count": null,
      "metadata": {
        "id": "bqf65cNPV55r"
      },
      "outputs": [],
      "source": [
        "def give_watermarked(token_id, gama=0.5):\n",
        "  seed = int(token_id)\n",
        "  v = values.copy()\n",
        "  v = [i-1 for i in v]\n",
        "  random.seed(seed)\n",
        "\n",
        "  # Shuffle the vocabulary to randomize it\n",
        "  random.shuffle(v)\n",
        "\n",
        "  total_tokens = len(v)\n",
        "  green_portion = int(total_tokens * gama)\n",
        "\n",
        "  green = v[:green_portion]\n",
        "  red = v[green_portion:]\n",
        "\n",
        "  return (green, red)"
      ]
    },
    {
      "cell_type": "code",
      "execution_count": null,
      "metadata": {
        "id": "VqQro6LzRGxp"
      },
      "outputs": [],
      "source": [
        "def calculate_green(generated_sequences):\n",
        "  watermark_ids = generated_sequences[2:-2]\n",
        "  to_check_ids = generated_sequences[3:-1]\n",
        "  is_green = [to_check_ids[i].item() in give_watermarked(watermark_ids[i])[0] for i in range(len(watermark_ids))]\n",
        "  return sum(is_green)\n"
      ]
    },
    {
      "cell_type": "code",
      "execution_count": null,
      "metadata": {
        "colab": {
          "base_uri": "https://localhost:8080/"
        },
        "id": "l69j3l8WHula",
        "outputId": "4292f60b-8059-410d-f133-6518e5de0a62"
      },
      "outputs": [
        {
          "name": "stdout",
          "output_type": "stream",
          "text": [
            "Generated Summary: D\n"
          ]
        }
      ],
      "source": [
        "original_text = text\n",
        "input_text = f\"{original_text} {tokenizer.eos_token} {partial_summary}\"\n",
        "input_ids = tokenizer.encode(input_text, return_tensors=\"pt\", truncation=True)\n",
        "generated_ids = model.generate(input_ids, max_new_tokens=3, min_length=3, return_dict_in_generate=True,output_scores=True, num_return_sequences=1)\n",
        "generated_summary = tokenizer.decode(generated_ids.sequences[0], skip_special_tokens=True)\n",
        "print(\"Generated Summary:\", generated_summary)"
      ]
    },
    {
      "cell_type": "code",
      "execution_count": null,
      "metadata": {
        "id": "wyc1FmOYUfCC"
      },
      "outputs": [],
      "source": [
        "# Generating text sequentially with hard watermark (by choosign max probability)\n",
        "original_text = text\n",
        "partial_summary = generated_summary\n",
        "partial_summary_ids = generated_ids.sequences[0][:-1]\n",
        "\n",
        "for i in range(10):\n",
        "  watermark_token = partial_summary_ids[-1]\n",
        "\n",
        "  gen_num = 4+i\n",
        "  input_text = f\"{original_text} {tokenizer.eos_token} {partial_summary}\"\n",
        "  input_ids = tokenizer.encode(input_text, return_tensors=\"pt\", truncation=True)\n",
        "\n",
        "  generated_ids = model.generate(input_ids, max_new_tokens=gen_num, min_length=gen_num, return_dict_in_generate=True,output_scores=True, num_return_sequences=1)\n",
        "  logit = generated_ids.scores[-2][0]\n",
        "  indices_to_mask = give_watermarked(watermark_token, gama=0.5)[1]\n",
        "  for index in indices_to_mask:\n",
        "    logit[index] = float('-inf')\n",
        "  a = softmax(logit,dim=-1)\n",
        "  next = torch.argmax(a).item()\n",
        "  generated_ids.sequences[0][:-2] = partial_summary_ids\n",
        "  generated_ids.sequences[0][-2] = next\n",
        "  partial_summary_ids = generated_ids.sequences[0][:-1]\n",
        "\n",
        "  generated_summary = tokenizer.decode(generated_ids.sequences[0], skip_special_tokens=True)\n",
        "  partial_summary = generated_summary\n",
        "  print(\"Generated Summary:\", generated_summary)"
      ]
    },
    {
      "cell_type": "code",
      "execution_count": null,
      "metadata": {
        "id": "Fj8iPV6bVBxY"
      },
      "outputs": [],
      "source": [
        "calculate_green(generated_ids.sequences[0])"
      ]
    },
    {
      "cell_type": "markdown",
      "metadata": {
        "id": "iKeVgJjeJ1Tb"
      },
      "source": [
        "## greedy sequential sampling with soft watermark"
      ]
    },
    {
      "cell_type": "code",
      "execution_count": null,
      "metadata": {
        "colab": {
          "base_uri": "https://localhost:8080/"
        },
        "id": "BbUYQe74saiq",
        "outputId": "7dbdab27-6ec4-4dd6-b3d2-372774fdea32"
      },
      "outputs": [
        {
          "name": "stdout",
          "output_type": "stream",
          "text": [
            "Generated Summary: D\n"
          ]
        }
      ],
      "source": [
        "original_text = text\n",
        "input_text = f\"{original_text} {tokenizer.eos_token} {partial_summary}\"\n",
        "input_ids = tokenizer.encode(input_text, return_tensors=\"pt\", truncation=True)\n",
        "generated_ids = model.generate(input_ids, max_new_tokens=3, min_length=3, return_dict_in_generate=True,output_scores=True, num_return_sequences=1)\n",
        "generated_summary = tokenizer.decode(generated_ids.sequences[0], skip_special_tokens=True)\n",
        "print(\"Generated Summary:\", generated_summary)"
      ]
    },
    {
      "cell_type": "code",
      "execution_count": null,
      "metadata": {
        "id": "PeDycq16J5Qm"
      },
      "outputs": [],
      "source": [
        "# Generating text sequentially(by choosign max probability)\n",
        "original_text = text\n",
        "partial_summary = generated_summary\n",
        "partial_summary_ids = generated_ids.sequences[0][:-1]\n",
        "\n",
        "landa = 10\n",
        "# lambda =\n",
        "for i in range(7):\n",
        "  spikes = []\n",
        "  watermark_token = partial_summary_ids[-1]\n",
        "\n",
        "  gen_num = 4+i\n",
        "  input_text = f\"{original_text} {tokenizer.eos_token} {partial_summary}\"\n",
        "  input_ids = tokenizer.encode(input_text, return_tensors=\"pt\", truncation=True)\n",
        "\n",
        "  generated_ids = model.generate(input_ids, max_new_tokens=gen_num, min_length=gen_num, return_dict_in_generate=True,output_scores=True, num_return_sequences=1)\n",
        "  p = softmax(generated_ids.scores[-2][0],dim=-1)\n",
        "  spikes.append(calculate_spike(p, z=4))\n",
        "  green_indices = [index for index in give_watermarked(watermark_token, gama=0.5)[0]]\n",
        "  mask = torch.zeros_like(generated_ids.scores[-2][0])\n",
        "  mask[green_indices] = 1\n",
        "  generated_ids.scores[-2][0] = generated_ids.scores[-2][0] + (mask * landa)\n",
        "  a = softmax(generated_ids.scores[-2][0],dim=-1)\n",
        "  next = torch.argmax(a).item()\n",
        "  generated_ids.sequences[0][:-2] = partial_summary_ids\n",
        "  generated_ids.sequences[0][-2] = next\n",
        "  partial_summary_ids = generated_ids.sequences[0][:-1]\n",
        "\n",
        "  generated_summary = tokenizer.decode(generated_ids.sequences[0], skip_special_tokens=True)\n",
        "  partial_summary = generated_summary\n",
        "avg_spike = sum(spikes)/len(spikes)\n",
        "print(\"Generated Summary:\", generated_summary)\n",
        "print(avg_spike)"
      ]
    },
    {
      "cell_type": "markdown",
      "metadata": {
        "id": "puGyLiy3yy5v"
      },
      "source": [
        "## Entropy calculation"
      ]
    },
    {
      "cell_type": "code",
      "execution_count": null,
      "metadata": {
        "id": "dWYvEfDMy2ze"
      },
      "outputs": [],
      "source": [
        "import torch\n",
        "# Entropy comparison only makes sense for similar z\n",
        "# Larger z -> smaller spike, however p having value more than 1/z effect more\n",
        "# so better for comparison\n",
        "\n",
        "def calculate_spike(P, z):\n",
        "  return torch.sum(P / (1 + z * P)).item() # returns a number"
      ]
    },
    {
      "cell_type": "markdown",
      "source": [
        "## lower-bound for greens"
      ],
      "metadata": {
        "id": "F5Wo3FydztPj"
      }
    },
    {
      "cell_type": "code",
      "source": [
        "def lower_bound(avg_spike, T, landa, gama):\n",
        "  alpha = np.exp(landa)\n",
        "  E = ((gama*alpha*T)/(1+(alpha-1)*gama))*avg_spike\n",
        "  return E"
      ],
      "metadata": {
        "id": "PpPG0PAzz0LT"
      },
      "execution_count": 7,
      "outputs": []
    },
    {
      "cell_type": "code",
      "source": [
        "lower_bound(0.47, 27, 2, 0.5)"
      ],
      "metadata": {
        "colab": {
          "base_uri": "https://localhost:8080/"
        },
        "id": "g97qtVya1bKs",
        "outputId": "2c462a2b-10d1-4b85-9529-a69f0afe178d"
      },
      "execution_count": 33,
      "outputs": [
        {
          "output_type": "execute_result",
          "data": {
            "text/plain": [
              "11.177314919539329"
            ]
          },
          "metadata": {},
          "execution_count": 33
        }
      ]
    },
    {
      "cell_type": "markdown",
      "metadata": {
        "id": "tiEZ7p3xkZM0"
      },
      "source": [
        "## Calculate z-score(& p-value)"
      ]
    },
    {
      "cell_type": "code",
      "execution_count": 29,
      "metadata": {
        "id": "xvPf-P0Wy2_N"
      },
      "outputs": [],
      "source": [
        "import numpy as np\n",
        "from scipy import stats\n",
        "\n",
        "def calculate_z_score(green_tokens, text_length, gama=0.5):\n",
        "  # z-score\n",
        "  z_score = (green_tokens - (gama*text_length)) / (np.sqrt(text_length*gama*(1-gama)))\n",
        "\n",
        "  p_value = 1 * (1 - stats.norm.cdf(abs(z_score)))  # One-tailed test\n",
        "\n",
        "  return (z_score, p_value)"
      ]
    },
    {
      "cell_type": "code",
      "execution_count": 41,
      "metadata": {
        "colab": {
          "base_uri": "https://localhost:8080/"
        },
        "id": "LObzg4WrpmGU",
        "outputId": "1a7ef648-5698-48a6-bad0-252b25b35157"
      },
      "outputs": [
        {
          "output_type": "execute_result",
          "data": {
            "text/plain": [
              "0.01713200386743452"
            ]
          },
          "metadata": {},
          "execution_count": 41
        }
      ],
      "source": [
        "calculate_z_score(19, 27, gama=0.5)[1]"
      ]
    },
    {
      "cell_type": "markdown",
      "metadata": {
        "id": "ZrBlmgRqVVb_"
      },
      "source": [
        "## Calculate Bleu and Rogue"
      ]
    },
    {
      "cell_type": "code",
      "execution_count": null,
      "metadata": {
        "id": "O3iGFZsVWbSm"
      },
      "outputs": [],
      "source": [
        "nltk.download('punkt')\n",
        "\n",
        "def bleu_score(targets, predicts):\n",
        "    scores = []\n",
        "    size = len(targets)\n",
        "    for i in range(size):\n",
        "        # Reference and candidate sentences\n",
        "        reference = [nltk.word_tokenize(predicts[i])]\n",
        "        candidate = nltk.word_tokenize(targets[i])\n",
        "\n",
        "        # Calculate BLEU score with smoothing\n",
        "        smoothie = SmoothingFunction().method1  # You can choose a different smoothing method\n",
        "        bleu_score = sentence_bleu(reference, candidate, smoothing_function=smoothie)\n",
        "        scores.append(bleu_score)\n",
        "    return scores\n",
        "\n",
        "# Example usage:\n",
        "targets = [\"This is a reference sentence.\"]\n",
        "predicts = [\"This is an reference sentences.\"]\n",
        "scores = bleu_score(targets, predicts)[0]\n",
        "print(scores)\n"
      ]
    },
    {
      "cell_type": "code",
      "execution_count": null,
      "metadata": {
        "colab": {
          "base_uri": "https://localhost:8080/"
        },
        "id": "kmeK4TFodTxm",
        "outputId": "5d242a58-0f3b-4b72-e76b-11ddcf795e85"
      },
      "outputs": [
        {
          "name": "stdout",
          "output_type": "stream",
          "text": [
            "0.8000000000000002\n"
          ]
        }
      ],
      "source": [
        "# Example reference and generated summaries\n",
        "reference_summary = \"This is a reference summary.\"\n",
        "generated_summary = \"This is a generated summary.\"\n",
        "\n",
        "# Create a ROUGE scorer\n",
        "scorer = rouge_scorer.RougeScorer(['rougeL'], use_stemmer=True)\n",
        "\n",
        "# Calculate ROUGE scores\n",
        "scores = scorer.score(reference_summary, generated_summary)\n",
        "\n",
        "# Access individual ROUGE scores\n",
        "rougeL_score = scores['rougeL'].fmeasure\n",
        "\n",
        "print(rougeL_score)\n"
      ]
    },
    {
      "cell_type": "markdown",
      "metadata": {
        "id": "jMbN-9_d3XyE"
      },
      "source": [
        "# Watermark Class"
      ]
    },
    {
      "cell_type": "code",
      "execution_count": 9,
      "metadata": {
        "id": "a1BBVOb73a3U"
      },
      "outputs": [],
      "source": [
        "# Watermark class\n",
        "\n",
        "class Watermark():\n",
        "  def __init__(self, model, tokenizer, dataset, save_path= None):\n",
        "    self.model = model\n",
        "    self.tokenizer = tokenizer\n",
        "    self.save_path = save_path\n",
        "    self.dataset = dataset['test']\n",
        "    self.headers = [\"document\",\"real summary\",\"no watermark (NW)\",\"watermark (W)\",'S','Z','p','BLUE(real & NW)','ROUGE_NW','ROUGE_W','num_green']\n",
        "    self.data = {}\n",
        "\n",
        "    for head in self.headers:\n",
        "      self.data[head] = []\n",
        "\n",
        "    self.values = list(self.tokenizer.get_vocab().values())\n",
        "    self.keys = list(self.tokenizer.get_vocab().keys())\n",
        "    self.vocab = {}\n",
        "    for i in range(len(self.values)):\n",
        "      self.vocab[self.values[i]] = self.keys[i]\n",
        "\n",
        "\n",
        "  def bleu_score(self, target, predict):\n",
        "      targets = [target]\n",
        "      predicts = [predict]\n",
        "      scores = []\n",
        "      size = len(targets)\n",
        "      for i in range(size):\n",
        "          # Reference and candidate sentences\n",
        "          reference = [nltk.word_tokenize(predicts[i])]\n",
        "          candidate = nltk.word_tokenize(targets[i])\n",
        "\n",
        "          # Calculate BLEU score with smoothing\n",
        "          smoothie = SmoothingFunction().method1  # You can choose a different smoothing method\n",
        "          bleu_score = sentence_bleu(reference, candidate, smoothing_function=smoothie)\n",
        "          scores.append(bleu_score)\n",
        "      return scores[0]\n",
        "\n",
        "\n",
        "  def rouge_score(self, reference_summary, generated_summary):\n",
        "    # Create a ROUGE scorer\n",
        "    scorer = rouge_scorer.RougeScorer(['rougeL'], use_stemmer=True)\n",
        "    # Calculate ROUGE scores\n",
        "    scores = scorer.score(reference_summary, generated_summary)\n",
        "    # Access individual ROUGE scores\n",
        "    rougeL_score = scores['rougeL'].fmeasure\n",
        "    return rougeL_score\n",
        "\n",
        "\n",
        "  def lower_bound(self, avg_spike, T, landa, gama):\n",
        "    alpha = np.exp(landa)\n",
        "    E = ((gama*alpha*T)/(1+(alpha-1)*gama))*avg_spike\n",
        "    return E\n",
        "\n",
        "\n",
        "  def save(self):\n",
        "    df = pd.DataFrame(self.data)\n",
        "    path = self.save_path\n",
        "    df.to_csv(path, index=False)\n",
        "\n",
        "\n",
        "  def create_sample(self, gama, landa, samples_index, len_sample):\n",
        "    for index in samples_index:\n",
        "      document = self.dataset[index]['document']\n",
        "      real_summary = self.dataset[index]['summary']\n",
        "      no_watermark = self.generate_no_watermark(document, len_sample-1)[1]\n",
        "      generation = self.generate_soft_watermark(document, len_sample-1, gama, landa)\n",
        "      generated_sequences = generation[0]\n",
        "      generated_text = generation[1]\n",
        "      avg_spike = generation[2]\n",
        "\n",
        "      num_green = self.calculate_green(generated_sequences)\n",
        "      z_score = self.calculate_z_score(num_green, len(generated_sequences[2:-2]), gama)[0]\n",
        "      p_value = self.calculate_z_score(num_green, len(generated_sequences[2:-2]), gama)[1]\n",
        "\n",
        "      bleu_score = self.bleu_score(real_summary, no_watermark)\n",
        "      rouge_NW = self.rouge_score(real_summary, no_watermark)\n",
        "      rouge_W = self.rouge_score(real_summary, generated_text)\n",
        "      #save\n",
        "      to_save = [document, real_summary, no_watermark, generated_text, avg_spike, z_score, p_value, bleu_score, rouge_NW, rouge_W, num_green]\n",
        "      for i in range(len(self.headers)):\n",
        "        self.data[self.headers[i]].append(to_save[i])\n",
        "    self.save()\n",
        "    ## give it to the NW, and soft watermark\n",
        "    ## give result to the calculate functions to get statistics\n",
        "    # save into csv file\n",
        "\n",
        "  def calculate_green(self, generated_sequences):\n",
        "    watermark_ids = generated_sequences[2:-2]\n",
        "    to_check_ids = generated_sequences[3:-1]\n",
        "    is_green = [to_check_ids[i].item() in self.give_watermarked(watermark_ids[i])[0] for i in range(len(watermark_ids))]\n",
        "    return sum(is_green)\n",
        "\n",
        "\n",
        "  def calculate_z_score(self, green_tokens, text_length, gama=0.5):\n",
        "    # z-score\n",
        "    z_score = (green_tokens - (gama*text_length)) / (np.sqrt(text_length*gama*(1-gama)))\n",
        "    p_value = 1 * (1 - stats.norm.cdf(abs(z_score)))  # One-tailed test\n",
        "\n",
        "    return (z_score, p_value)\n",
        "\n",
        "\n",
        "  def calculate_spike(self, P, z):\n",
        "    return torch.sum(P / (1 + z * P)).item() # returns a number\n",
        "\n",
        "\n",
        "  def generate_first(self, text):\n",
        "    input_text = text\n",
        "    input_ids = self.tokenizer.encode(input_text, return_tensors=\"pt\", truncation=True)\n",
        "    generated_ids = self.model.generate(input_ids, max_new_tokens=3, min_length=3, return_dict_in_generate=True,output_scores=True, num_return_sequences=1)\n",
        "    generated_summary = self.tokenizer.decode(generated_ids.sequences[0], skip_special_tokens=True)\n",
        "    return (generated_summary, generated_ids.sequences[0][:-1])\n",
        "\n",
        "\n",
        "  def give_watermarked(self, token_id, gama=0.5):\n",
        "    seed = int(token_id)\n",
        "    v = self.values.copy()\n",
        "    v = [i-1 for i in v]\n",
        "    random.seed(seed)\n",
        "    # Shuffle the vocabulary to randomize it\n",
        "    random.shuffle(v)\n",
        "\n",
        "    total_tokens = len(v)\n",
        "    green_portion = int(total_tokens * gama)\n",
        "    green = v[:green_portion]\n",
        "    red = v[green_portion:]\n",
        "\n",
        "    return (green, red)\n",
        "\n",
        "\n",
        "  def generate_no_watermark(self, text, steps):\n",
        "    # Generating text sequentially(by choosign max probability)\n",
        "    original_text = text\n",
        "    partial_summary = self.generate_first(original_text)[0]\n",
        "    partial_summary_ids = self.generate_first(original_text)[1]\n",
        "\n",
        "    for i in range(steps):\n",
        "      gen_num = 4+i\n",
        "      input_text = f\"{original_text} {tokenizer.eos_token} {partial_summary}\"\n",
        "      input_ids = self.tokenizer.encode(input_text, return_tensors=\"pt\", truncation=True)\n",
        "\n",
        "      generated_ids = self.model.generate(input_ids, max_new_tokens=gen_num, min_length=gen_num, return_dict_in_generate=True,output_scores=True, num_return_sequences=1)\n",
        "      a = softmax(generated_ids.scores[-2][0],dim=-1)\n",
        "      next = torch.argmax(a).item()\n",
        "      generated_ids.sequences[0][:-2] = partial_summary_ids\n",
        "      generated_ids.sequences[0][-2] = next\n",
        "      partial_summary_ids = generated_ids.sequences[0][:-1]\n",
        "\n",
        "      generated_summary = tokenizer.decode(generated_ids.sequences[0], skip_special_tokens=True)\n",
        "      partial_summary = generated_summary\n",
        "\n",
        "    return (generated_ids.sequences[0], generated_summary)\n",
        "\n",
        "\n",
        "  def generate_hard_watermark(self, text, steps, gama=0.5):\n",
        "    # Generating text sequentially with hard watermark (by choosign max probability)\n",
        "    original_text = text\n",
        "    partial_summary = self.generate_first(original_text)[0]\n",
        "    partial_summary_ids = self.generate_first(original_text)[1]\n",
        "\n",
        "    for i in range(steps):\n",
        "      watermark_token = partial_summary_ids[-1]\n",
        "\n",
        "      gen_num = 4+i\n",
        "      input_text = f\"{original_text} {tokenizer.eos_token} {partial_summary}\"\n",
        "      input_ids = self.tokenizer.encode(input_text, return_tensors=\"pt\", truncation=True)\n",
        "\n",
        "      generated_ids = self.model.generate(input_ids, max_new_tokens=gen_num, min_length=gen_num, return_dict_in_generate=True,output_scores=True, num_return_sequences=1)\n",
        "      logit = generated_ids.scores[-2][0]\n",
        "      indices_to_mask = give_watermarked(watermark_token, gama=gama)[1]\n",
        "      for index in indices_to_mask:\n",
        "        logit[index] = float('-inf')\n",
        "      a = softmax(logit,dim=-1)\n",
        "      next = torch.argmax(a).item()\n",
        "      generated_ids.sequences[0][:-2] = partial_summary_ids\n",
        "      generated_ids.sequences[0][-2] = next\n",
        "      partial_summary_ids = generated_ids.sequences[0][:-1]\n",
        "\n",
        "      generated_summary = tokenizer.decode(generated_ids.sequences[0], skip_special_tokens=True)\n",
        "      partial_summary = generated_summary\n",
        "\n",
        "    return (generated_ids.sequences[0], generated_summary)\n",
        "\n",
        "\n",
        "  def generate_soft_watermark(self, text, steps, gama, landa):\n",
        "    # Generating text sequentially(by choosign max probability)\n",
        "    spikes = []\n",
        "    original_text = text\n",
        "    partial_summary = self.generate_first(original_text)[0]\n",
        "    partial_summary_ids = self.generate_first(original_text)[1]\n",
        "\n",
        "    for i in range(steps):\n",
        "      watermark_token = partial_summary_ids[-1]\n",
        "\n",
        "      gen_num = 4+i\n",
        "      input_text = f\"{original_text} {tokenizer.eos_token} {partial_summary}\"\n",
        "      input_ids = self.tokenizer.encode(input_text, return_tensors=\"pt\", truncation=True)\n",
        "\n",
        "      generated_ids = model.generate(input_ids, max_new_tokens=gen_num, min_length=gen_num, return_dict_in_generate=True,output_scores=True, num_return_sequences=1)\n",
        "      p = softmax(generated_ids.scores[-2][0],dim=-1)\n",
        "      spikes.append(self.calculate_spike(p, z=4))\n",
        "      green_indices = [index for index in self.give_watermarked(watermark_token, gama=gama)[0]]\n",
        "      mask = torch.zeros_like(generated_ids.scores[-2][0])\n",
        "      mask[green_indices] = 1\n",
        "      generated_ids.scores[-2][0] = generated_ids.scores[-2][0] + (mask * landa)\n",
        "      a = softmax(generated_ids.scores[-2][0],dim=-1)\n",
        "      next = torch.argmax(a).item()\n",
        "      generated_ids.sequences[0][:-2] = partial_summary_ids\n",
        "      generated_ids.sequences[0][-2] = next\n",
        "      partial_summary_ids = generated_ids.sequences[0][:-1]\n",
        "\n",
        "      generated_summary = tokenizer.decode(generated_ids.sequences[0], skip_special_tokens=True)\n",
        "      partial_summary = generated_summary\n",
        "    avg_spike = sum(spikes)/len(spikes)\n",
        "    return (generated_ids.sequences[0], generated_summary, avg_spike)\n",
        "\n"
      ]
    },
    {
      "cell_type": "code",
      "execution_count": null,
      "metadata": {
        "id": "Q-rhj50xdr-W"
      },
      "outputs": [],
      "source": [
        "# Hyperparameters\n",
        "gama = 0.5\n",
        "landa = 2\n",
        "seed_ = 100\n",
        "random.seed(seed_)\n",
        "l = [i for i in range(len(dataset['test']))]\n",
        "random.shuffle(l)\n",
        "samples_index = l[15:20]\n",
        "len_sample = 28"
      ]
    },
    {
      "cell_type": "code",
      "execution_count": null,
      "metadata": {
        "id": "3iViOFvPrYn0"
      },
      "outputs": [],
      "source": [
        "wm = Watermark(model, tokenizer, dataset, save_path=\"/content/gdrive/My Drive/watermark/bart_xsum_2__3.csv\")\n",
        "wm.create_sample(gama, landa, samples_index, len_sample)"
      ]
    },
    {
      "cell_type": "markdown",
      "source": [
        "# Loading saved data"
      ],
      "metadata": {
        "id": "ZH12iKKSWKDU"
      }
    },
    {
      "cell_type": "code",
      "execution_count": 10,
      "metadata": {
        "id": "clcK2vDzcbBg"
      },
      "outputs": [],
      "source": [
        "import pandas as pd\n",
        "save_path_2_0=\"/content/gdrive/My Drive/watermark/bart_xsum_2__0.csv\"\n",
        "save_path_2_1=\"/content/gdrive/My Drive/watermark/bart_xsum_2__1.csv\"\n",
        "save_path_2_2=\"/content/gdrive/My Drive/watermark/bart_xsum_2__2.csv\"\n",
        "save_path_2_3=\"/content/gdrive/My Drive/watermark/bart_xsum_2__3.csv\"\n",
        "\n",
        "save_path_5_0=\"/content/gdrive/My Drive/watermark/bart_xsum_5__0.csv\"\n",
        "save_path_5_1=\"/content/gdrive/My Drive/watermark/bart_xsum_5__1.csv\"\n",
        "\n",
        "save_path_2_len=\"/content/gdrive/My Drive/watermark/bart_xsum_2__len.csv\"\n",
        "\n",
        "df_2_0 = pd.read_csv(save_path_2_0)\n",
        "df_2_1 = pd.read_csv(save_path_2_1)\n",
        "df_2_2 = pd.read_csv(save_path_2_2)\n",
        "df_2_3 = pd.read_csv(save_path_2_3)\n",
        "\n",
        "df_5_0 = pd.read_csv(save_path_5_0)\n",
        "df_5_1 = pd.read_csv(save_path_5_1)\n",
        "\n",
        "df_2_len = pd.read_csv(save_path_2_len)"
      ]
    },
    {
      "cell_type": "code",
      "source": [
        "df_2_len.head()"
      ],
      "metadata": {
        "colab": {
          "base_uri": "https://localhost:8080/",
          "height": 403
        },
        "id": "JZIKUnLUw6MK",
        "outputId": "ce6aac1c-2211-4d5f-a6b6-6c1602017430"
      },
      "execution_count": 43,
      "outputs": [
        {
          "output_type": "execute_result",
          "data": {
            "text/plain": [
              "                                            document  \\\n",
              "0  Thirteen people were killed when British parat...   \n",
              "1  The Handlebar Club, which is holding the conte...   \n",
              "2  The move comes after faulty Poly Implant Proth...   \n",
              "\n",
              "                                        real summary  \\\n",
              "0  Detectives are continuing to question a former...   \n",
              "1  The title of best moustache is up for grabs as...   \n",
              "2  A register of patients in England with breast ...   \n",
              "\n",
              "                                   no watermark (NW)  \\\n",
              "0  Former soldier arrested in connection with Blo...   \n",
              "1  The Handlebar Club first met on 1 April 1947. ...   \n",
              "2  The Breast and Cosmetic Implant Registry will ...   \n",
              "\n",
              "                                       watermark (W)         S         Z  \\\n",
              "0  Former soldier arrested on connection with Blo...  0.442125  2.142857   \n",
              "1  The Handlebar Club first met on 1 April 1947. ...  0.479274  1.857143   \n",
              "2  The Breast and Cosmetic Implant Registry will ...  0.375912  1.285714   \n",
              "\n",
              "          p  BLUE(real & NW)  ROUGE_NW   ROUGE_W  num_green  \n",
              "0  0.016062         0.046196  0.258065  0.250000         32  \n",
              "1  0.031645         0.010541  0.142857  0.112676         31  \n",
              "2  0.099271         0.005478  0.162162  0.191781         29  "
            ],
            "text/html": [
              "\n",
              "  <div id=\"df-db69f929-85dc-4423-a3fb-5482f4931bc3\" class=\"colab-df-container\">\n",
              "    <div>\n",
              "<style scoped>\n",
              "    .dataframe tbody tr th:only-of-type {\n",
              "        vertical-align: middle;\n",
              "    }\n",
              "\n",
              "    .dataframe tbody tr th {\n",
              "        vertical-align: top;\n",
              "    }\n",
              "\n",
              "    .dataframe thead th {\n",
              "        text-align: right;\n",
              "    }\n",
              "</style>\n",
              "<table border=\"1\" class=\"dataframe\">\n",
              "  <thead>\n",
              "    <tr style=\"text-align: right;\">\n",
              "      <th></th>\n",
              "      <th>document</th>\n",
              "      <th>real summary</th>\n",
              "      <th>no watermark (NW)</th>\n",
              "      <th>watermark (W)</th>\n",
              "      <th>S</th>\n",
              "      <th>Z</th>\n",
              "      <th>p</th>\n",
              "      <th>BLUE(real &amp; NW)</th>\n",
              "      <th>ROUGE_NW</th>\n",
              "      <th>ROUGE_W</th>\n",
              "      <th>num_green</th>\n",
              "    </tr>\n",
              "  </thead>\n",
              "  <tbody>\n",
              "    <tr>\n",
              "      <th>0</th>\n",
              "      <td>Thirteen people were killed when British parat...</td>\n",
              "      <td>Detectives are continuing to question a former...</td>\n",
              "      <td>Former soldier arrested in connection with Blo...</td>\n",
              "      <td>Former soldier arrested on connection with Blo...</td>\n",
              "      <td>0.442125</td>\n",
              "      <td>2.142857</td>\n",
              "      <td>0.016062</td>\n",
              "      <td>0.046196</td>\n",
              "      <td>0.258065</td>\n",
              "      <td>0.250000</td>\n",
              "      <td>32</td>\n",
              "    </tr>\n",
              "    <tr>\n",
              "      <th>1</th>\n",
              "      <td>The Handlebar Club, which is holding the conte...</td>\n",
              "      <td>The title of best moustache is up for grabs as...</td>\n",
              "      <td>The Handlebar Club first met on 1 April 1947. ...</td>\n",
              "      <td>The Handlebar Club first met on 1 April 1947. ...</td>\n",
              "      <td>0.479274</td>\n",
              "      <td>1.857143</td>\n",
              "      <td>0.031645</td>\n",
              "      <td>0.010541</td>\n",
              "      <td>0.142857</td>\n",
              "      <td>0.112676</td>\n",
              "      <td>31</td>\n",
              "    </tr>\n",
              "    <tr>\n",
              "      <th>2</th>\n",
              "      <td>The move comes after faulty Poly Implant Proth...</td>\n",
              "      <td>A register of patients in England with breast ...</td>\n",
              "      <td>The Breast and Cosmetic Implant Registry will ...</td>\n",
              "      <td>The Breast and Cosmetic Implant Registry will ...</td>\n",
              "      <td>0.375912</td>\n",
              "      <td>1.285714</td>\n",
              "      <td>0.099271</td>\n",
              "      <td>0.005478</td>\n",
              "      <td>0.162162</td>\n",
              "      <td>0.191781</td>\n",
              "      <td>29</td>\n",
              "    </tr>\n",
              "  </tbody>\n",
              "</table>\n",
              "</div>\n",
              "    <div class=\"colab-df-buttons\">\n",
              "\n",
              "  <div class=\"colab-df-container\">\n",
              "    <button class=\"colab-df-convert\" onclick=\"convertToInteractive('df-db69f929-85dc-4423-a3fb-5482f4931bc3')\"\n",
              "            title=\"Convert this dataframe to an interactive table.\"\n",
              "            style=\"display:none;\">\n",
              "\n",
              "  <svg xmlns=\"http://www.w3.org/2000/svg\" height=\"24px\" viewBox=\"0 -960 960 960\">\n",
              "    <path d=\"M120-120v-720h720v720H120Zm60-500h600v-160H180v160Zm220 220h160v-160H400v160Zm0 220h160v-160H400v160ZM180-400h160v-160H180v160Zm440 0h160v-160H620v160ZM180-180h160v-160H180v160Zm440 0h160v-160H620v160Z\"/>\n",
              "  </svg>\n",
              "    </button>\n",
              "\n",
              "  <style>\n",
              "    .colab-df-container {\n",
              "      display:flex;\n",
              "      gap: 12px;\n",
              "    }\n",
              "\n",
              "    .colab-df-convert {\n",
              "      background-color: #E8F0FE;\n",
              "      border: none;\n",
              "      border-radius: 50%;\n",
              "      cursor: pointer;\n",
              "      display: none;\n",
              "      fill: #1967D2;\n",
              "      height: 32px;\n",
              "      padding: 0 0 0 0;\n",
              "      width: 32px;\n",
              "    }\n",
              "\n",
              "    .colab-df-convert:hover {\n",
              "      background-color: #E2EBFA;\n",
              "      box-shadow: 0px 1px 2px rgba(60, 64, 67, 0.3), 0px 1px 3px 1px rgba(60, 64, 67, 0.15);\n",
              "      fill: #174EA6;\n",
              "    }\n",
              "\n",
              "    .colab-df-buttons div {\n",
              "      margin-bottom: 4px;\n",
              "    }\n",
              "\n",
              "    [theme=dark] .colab-df-convert {\n",
              "      background-color: #3B4455;\n",
              "      fill: #D2E3FC;\n",
              "    }\n",
              "\n",
              "    [theme=dark] .colab-df-convert:hover {\n",
              "      background-color: #434B5C;\n",
              "      box-shadow: 0px 1px 3px 1px rgba(0, 0, 0, 0.15);\n",
              "      filter: drop-shadow(0px 1px 2px rgba(0, 0, 0, 0.3));\n",
              "      fill: #FFFFFF;\n",
              "    }\n",
              "  </style>\n",
              "\n",
              "    <script>\n",
              "      const buttonEl =\n",
              "        document.querySelector('#df-db69f929-85dc-4423-a3fb-5482f4931bc3 button.colab-df-convert');\n",
              "      buttonEl.style.display =\n",
              "        google.colab.kernel.accessAllowed ? 'block' : 'none';\n",
              "\n",
              "      async function convertToInteractive(key) {\n",
              "        const element = document.querySelector('#df-db69f929-85dc-4423-a3fb-5482f4931bc3');\n",
              "        const dataTable =\n",
              "          await google.colab.kernel.invokeFunction('convertToInteractive',\n",
              "                                                    [key], {});\n",
              "        if (!dataTable) return;\n",
              "\n",
              "        const docLinkHtml = 'Like what you see? Visit the ' +\n",
              "          '<a target=\"_blank\" href=https://colab.research.google.com/notebooks/data_table.ipynb>data table notebook</a>'\n",
              "          + ' to learn more about interactive tables.';\n",
              "        element.innerHTML = '';\n",
              "        dataTable['output_type'] = 'display_data';\n",
              "        await google.colab.output.renderOutput(dataTable, element);\n",
              "        const docLink = document.createElement('div');\n",
              "        docLink.innerHTML = docLinkHtml;\n",
              "        element.appendChild(docLink);\n",
              "      }\n",
              "    </script>\n",
              "  </div>\n",
              "\n",
              "\n",
              "<div id=\"df-83954d96-31dc-4279-8c3f-18690ad4bd04\">\n",
              "  <button class=\"colab-df-quickchart\" onclick=\"quickchart('df-83954d96-31dc-4279-8c3f-18690ad4bd04')\"\n",
              "            title=\"Suggest charts.\"\n",
              "            style=\"display:none;\">\n",
              "\n",
              "<svg xmlns=\"http://www.w3.org/2000/svg\" height=\"24px\"viewBox=\"0 0 24 24\"\n",
              "     width=\"24px\">\n",
              "    <g>\n",
              "        <path d=\"M19 3H5c-1.1 0-2 .9-2 2v14c0 1.1.9 2 2 2h14c1.1 0 2-.9 2-2V5c0-1.1-.9-2-2-2zM9 17H7v-7h2v7zm4 0h-2V7h2v10zm4 0h-2v-4h2v4z\"/>\n",
              "    </g>\n",
              "</svg>\n",
              "  </button>\n",
              "\n",
              "<style>\n",
              "  .colab-df-quickchart {\n",
              "      --bg-color: #E8F0FE;\n",
              "      --fill-color: #1967D2;\n",
              "      --hover-bg-color: #E2EBFA;\n",
              "      --hover-fill-color: #174EA6;\n",
              "      --disabled-fill-color: #AAA;\n",
              "      --disabled-bg-color: #DDD;\n",
              "  }\n",
              "\n",
              "  [theme=dark] .colab-df-quickchart {\n",
              "      --bg-color: #3B4455;\n",
              "      --fill-color: #D2E3FC;\n",
              "      --hover-bg-color: #434B5C;\n",
              "      --hover-fill-color: #FFFFFF;\n",
              "      --disabled-bg-color: #3B4455;\n",
              "      --disabled-fill-color: #666;\n",
              "  }\n",
              "\n",
              "  .colab-df-quickchart {\n",
              "    background-color: var(--bg-color);\n",
              "    border: none;\n",
              "    border-radius: 50%;\n",
              "    cursor: pointer;\n",
              "    display: none;\n",
              "    fill: var(--fill-color);\n",
              "    height: 32px;\n",
              "    padding: 0;\n",
              "    width: 32px;\n",
              "  }\n",
              "\n",
              "  .colab-df-quickchart:hover {\n",
              "    background-color: var(--hover-bg-color);\n",
              "    box-shadow: 0 1px 2px rgba(60, 64, 67, 0.3), 0 1px 3px 1px rgba(60, 64, 67, 0.15);\n",
              "    fill: var(--button-hover-fill-color);\n",
              "  }\n",
              "\n",
              "  .colab-df-quickchart-complete:disabled,\n",
              "  .colab-df-quickchart-complete:disabled:hover {\n",
              "    background-color: var(--disabled-bg-color);\n",
              "    fill: var(--disabled-fill-color);\n",
              "    box-shadow: none;\n",
              "  }\n",
              "\n",
              "  .colab-df-spinner {\n",
              "    border: 2px solid var(--fill-color);\n",
              "    border-color: transparent;\n",
              "    border-bottom-color: var(--fill-color);\n",
              "    animation:\n",
              "      spin 1s steps(1) infinite;\n",
              "  }\n",
              "\n",
              "  @keyframes spin {\n",
              "    0% {\n",
              "      border-color: transparent;\n",
              "      border-bottom-color: var(--fill-color);\n",
              "      border-left-color: var(--fill-color);\n",
              "    }\n",
              "    20% {\n",
              "      border-color: transparent;\n",
              "      border-left-color: var(--fill-color);\n",
              "      border-top-color: var(--fill-color);\n",
              "    }\n",
              "    30% {\n",
              "      border-color: transparent;\n",
              "      border-left-color: var(--fill-color);\n",
              "      border-top-color: var(--fill-color);\n",
              "      border-right-color: var(--fill-color);\n",
              "    }\n",
              "    40% {\n",
              "      border-color: transparent;\n",
              "      border-right-color: var(--fill-color);\n",
              "      border-top-color: var(--fill-color);\n",
              "    }\n",
              "    60% {\n",
              "      border-color: transparent;\n",
              "      border-right-color: var(--fill-color);\n",
              "    }\n",
              "    80% {\n",
              "      border-color: transparent;\n",
              "      border-right-color: var(--fill-color);\n",
              "      border-bottom-color: var(--fill-color);\n",
              "    }\n",
              "    90% {\n",
              "      border-color: transparent;\n",
              "      border-bottom-color: var(--fill-color);\n",
              "    }\n",
              "  }\n",
              "</style>\n",
              "\n",
              "  <script>\n",
              "    async function quickchart(key) {\n",
              "      const quickchartButtonEl =\n",
              "        document.querySelector('#' + key + ' button');\n",
              "      quickchartButtonEl.disabled = true;  // To prevent multiple clicks.\n",
              "      quickchartButtonEl.classList.add('colab-df-spinner');\n",
              "      try {\n",
              "        const charts = await google.colab.kernel.invokeFunction(\n",
              "            'suggestCharts', [key], {});\n",
              "      } catch (error) {\n",
              "        console.error('Error during call to suggestCharts:', error);\n",
              "      }\n",
              "      quickchartButtonEl.classList.remove('colab-df-spinner');\n",
              "      quickchartButtonEl.classList.add('colab-df-quickchart-complete');\n",
              "    }\n",
              "    (() => {\n",
              "      let quickchartButtonEl =\n",
              "        document.querySelector('#df-83954d96-31dc-4279-8c3f-18690ad4bd04 button');\n",
              "      quickchartButtonEl.style.display =\n",
              "        google.colab.kernel.accessAllowed ? 'block' : 'none';\n",
              "    })();\n",
              "  </script>\n",
              "</div>\n",
              "    </div>\n",
              "  </div>\n"
            ]
          },
          "metadata": {},
          "execution_count": 43
        }
      ]
    },
    {
      "cell_type": "code",
      "source": [
        "gg_2 = [df_2_0['num_green'],df_2_1['num_green'],df_2_2['num_green'],df_2_3['num_green']]\n",
        "g_2 = []\n",
        "for i in gg_2:\n",
        "  for j in i:\n",
        "    g_2.append(j)"
      ],
      "metadata": {
        "id": "4v7mmwyULBD_"
      },
      "execution_count": 11,
      "outputs": []
    },
    {
      "cell_type": "code",
      "source": [
        "avg_green = sum(g_2)/len(g_2)\n",
        "print('average green tokens: {}'.format(avg_green))"
      ],
      "metadata": {
        "colab": {
          "base_uri": "https://localhost:8080/"
        },
        "id": "4BcwrrH8LSIe",
        "outputId": "0dc8f61c-fc5f-4dd0-9af3-6d674e491e8f"
      },
      "execution_count": 12,
      "outputs": [
        {
          "output_type": "stream",
          "name": "stdout",
          "text": [
            "average green tokens: 18.2\n"
          ]
        }
      ]
    },
    {
      "cell_type": "code",
      "source": [
        "gg_5 = [df_5_0['num_green'],df_5_1['num_green']]\n",
        "g_5 = []\n",
        "for i in gg_5:\n",
        "  for j in i:\n",
        "    g_5.append(j)"
      ],
      "metadata": {
        "id": "W6d8cStDwVvN"
      },
      "execution_count": 22,
      "outputs": []
    },
    {
      "cell_type": "code",
      "source": [
        "avg_green = sum(g_5)/len(g_5)\n",
        "print('average green tokens: {}'.format(avg_green))"
      ],
      "metadata": {
        "colab": {
          "base_uri": "https://localhost:8080/"
        },
        "id": "FWP8XviAwm6n",
        "outputId": "e9984130-26e2-4ab3-9244-a1b60c103352"
      },
      "execution_count": 23,
      "outputs": [
        {
          "output_type": "stream",
          "name": "stdout",
          "text": [
            "average green tokens: 23.6\n"
          ]
        }
      ]
    },
    {
      "cell_type": "code",
      "source": [
        "green_19 = [i>18 for i in g_2]\n",
        "green_20 = [i>19 for i in g_2]\n",
        "print(sum(green_19))\n",
        "print(sum(green_20))"
      ],
      "metadata": {
        "colab": {
          "base_uri": "https://localhost:8080/"
        },
        "id": "yFkCiZoWLhsm",
        "outputId": "f5474844-28ab-41da-8803-9c09a55d2cf2"
      },
      "execution_count": 13,
      "outputs": [
        {
          "output_type": "stream",
          "name": "stdout",
          "text": [
            "9\n",
            "6\n"
          ]
        }
      ]
    },
    {
      "cell_type": "code",
      "source": [
        "# S\n",
        "SS_2 = [df_2_0['S'],df_2_1['S'],df_2_2['S'],df_2_3['S']]\n",
        "S_2 = []\n",
        "for i in SS_2:\n",
        "  for j in i:\n",
        "    S_2.append(j)\n",
        "\n",
        "SS_2_5 = [df_2_0['S'],df_2_1['S']]\n",
        "S_2_5 = []\n",
        "for i in SS_2_5:\n",
        "  for j in i:\n",
        "    S_2_5.append(j)\n",
        "\n",
        "SS_2_len = [df_2_0['S']]\n",
        "S_2_len = []\n",
        "for i in SS_2_len:\n",
        "  for j in i:\n",
        "    S_2_len.append(j)\n",
        "\n",
        "SS_5 = [df_5_0['S'],df_5_1['S']]\n",
        "S_5 = []\n",
        "for i in SS_5:\n",
        "  for j in i:\n",
        "    S_5.append(j)\n",
        "\n",
        "SS_len = [df_2_len['S']]\n",
        "S_len = []\n",
        "for i in SS_len:\n",
        "  for j in i:\n",
        "    S_len.append(j)"
      ],
      "metadata": {
        "id": "phYh3rKR4RvE"
      },
      "execution_count": 14,
      "outputs": []
    },
    {
      "cell_type": "code",
      "source": [
        "avg_S_2 = sum(S_2)/len(S_2)\n",
        "print('average spike S_2: {}'.format(avg_S_2))"
      ],
      "metadata": {
        "colab": {
          "base_uri": "https://localhost:8080/"
        },
        "id": "mL8Z4Mv-_VFw",
        "outputId": "25786596-bb3a-49f0-f756-74958ad23a72"
      },
      "execution_count": 15,
      "outputs": [
        {
          "output_type": "stream",
          "name": "stdout",
          "text": [
            "average spike S_2: 0.47090189782557657\n"
          ]
        }
      ]
    },
    {
      "cell_type": "code",
      "source": [
        "avg_S_2 = sum(S_2)/len(S_2)\n",
        "avg_S_2_5 = sum(S_2_5)/len(S_2_5)\n",
        "avg_S_2_len = sum(S_2_len)/len(S_2_len)\n",
        "avg_S_5 = sum(S_5)/len(S_5)\n",
        "avg_S_len = sum(S_len)/len(S_len)"
      ],
      "metadata": {
        "id": "uuCBbvaU9zyt"
      },
      "execution_count": 16,
      "outputs": []
    },
    {
      "cell_type": "code",
      "source": [
        "# Z\n",
        "ZZ_2 = [df_2_0['Z'],df_2_1['Z'],df_2_2['Z'],df_2_3['Z']]\n",
        "Z_2 = []\n",
        "for i in ZZ_2:\n",
        "  for j in i:\n",
        "    Z_2.append(j)\n",
        "\n",
        "ZZ_2_5 = [df_2_0['Z'],df_2_1['Z']]\n",
        "Z_2_5 = []\n",
        "for i in ZZ_2_5:\n",
        "  for j in i:\n",
        "    Z_2_5.append(j)\n",
        "\n",
        "ZZ_2_len = [df_2_0['Z']]\n",
        "Z_2_len = []\n",
        "for i in ZZ_2_len:\n",
        "  for j in i:\n",
        "    Z_2_len.append(j)\n",
        "\n",
        "ZZ_5 = [df_5_0['Z'],df_5_1['Z']]\n",
        "Z_5 = []\n",
        "for i in ZZ_5:\n",
        "  for j in i:\n",
        "    Z_5.append(j)\n",
        "\n",
        "ZZ_len = [df_2_len['Z']]\n",
        "Z_len = []\n",
        "for i in ZZ_len:\n",
        "  for j in i:\n",
        "    Z_len.append(j)"
      ],
      "metadata": {
        "id": "v7oQWoeK7AqB"
      },
      "execution_count": 18,
      "outputs": []
    },
    {
      "cell_type": "code",
      "source": [
        "z_20 = [i>2.5 for i in Z_5]\n",
        "z_19 = [i>2.1 for i in Z_5]\n",
        "z_4 = [i>4 for i in Z_5]\n",
        "print(sum(z_20))\n",
        "print(sum(z_19))\n",
        "print(sum(z_4))"
      ],
      "metadata": {
        "colab": {
          "base_uri": "https://localhost:8080/"
        },
        "id": "Kw0kPb-NMOzb",
        "outputId": "b6196443-2631-4157-8aa3-7790581b502c"
      },
      "execution_count": 19,
      "outputs": [
        {
          "output_type": "stream",
          "name": "stdout",
          "text": [
            "10\n",
            "10\n",
            "5\n"
          ]
        }
      ]
    },
    {
      "cell_type": "markdown",
      "source": [
        "# Visualization"
      ],
      "metadata": {
        "id": "_kXJeIXD6b6n"
      }
    },
    {
      "cell_type": "markdown",
      "source": [
        "## Relationship of S and Z"
      ],
      "metadata": {
        "id": "yjYYHGW-Gn8l"
      }
    },
    {
      "cell_type": "code",
      "source": [
        "import matplotlib.pyplot as plt\n",
        "\n",
        "x_column_2 = S_2\n",
        "y_column_2 = Z_2\n",
        "\n",
        "plt.figure(figsize=(3,3))\n",
        "\n",
        "plt.scatter(x_column_2, y_column_2, color='blue') #label =\n",
        "\n",
        "# Step 4: Add labels and title\n",
        "plt.xlabel('Entropy(S)')\n",
        "plt.ylabel('Watermark Strength(Z)')\n",
        "plt.title('Relationship between S and Z')\n",
        "plt.legend()\n",
        "\n",
        "# Display or save the plot\n",
        "plt.show()"
      ],
      "metadata": {
        "colab": {
          "base_uri": "https://localhost:8080/",
          "height": 371
        },
        "id": "gNPnvWfkGuyi",
        "outputId": "1f026411-ff3c-4417-98d1-1522f68e2d6b"
      },
      "execution_count": 20,
      "outputs": [
        {
          "output_type": "stream",
          "name": "stderr",
          "text": [
            "WARNING:matplotlib.legend:No artists with labels found to put in legend.  Note that artists whose label start with an underscore are ignored when legend() is called with no argument.\n"
          ]
        },
        {
          "output_type": "display_data",
          "data": {
            "text/plain": [
              "<Figure size 300x300 with 1 Axes>"
            ],
            "image/png": "[encoded data removed]"
          },
          "metadata": {}
        }
      ]
    },
    {
      "cell_type": "markdown",
      "source": [
        "## effect of accelerating landa on z-score"
      ],
      "metadata": {
        "id": "GqtiscmhHIjG"
      }
    },
    {
      "cell_type": "code",
      "source": [
        "import matplotlib.pyplot as plt\n",
        "\n",
        "x_column_2 = S_2_5\n",
        "y_column_2 = Z_2_5\n",
        "x_column_5 = S_2_5\n",
        "y_column_5 = Z_5\n",
        "\n",
        "plt.figure(figsize=(3,3))\n",
        "\n",
        "plt.scatter(x_column_2, y_column_2, color='blue') #label =\n",
        "plt.scatter(x_column_5, y_column_5 , color='red')\n",
        "\n",
        "# Step 4: Add labels and title\n",
        "plt.xlabel('Entropy(S)')\n",
        "plt.ylabel('Watermark Strength(Z)')\n",
        "plt.title('Relationship between S and Z for landa= 2, 5')\n",
        "plt.legend()\n",
        "\n",
        "# Display or save the plot\n",
        "plt.show()"
      ],
      "metadata": {
        "colab": {
          "base_uri": "https://localhost:8080/",
          "height": 371
        },
        "id": "8AKhwwr8zXai",
        "outputId": "043ef967-f5d9-4f62-cb61-816a881890b0"
      },
      "execution_count": 21,
      "outputs": [
        {
          "output_type": "stream",
          "name": "stderr",
          "text": [
            "WARNING:matplotlib.legend:No artists with labels found to put in legend.  Note that artists whose label start with an underscore are ignored when legend() is called with no argument.\n"
          ]
        },
        {
          "output_type": "display_data",
          "data": {
            "text/plain": [
              "<Figure size 300x300 with 1 Axes>"
            ],
            "image/png": "[encoded data removed]"
          },
          "metadata": {}
        }
      ]
    },
    {
      "cell_type": "code",
      "execution_count": null,
      "metadata": {
        "colab": {
          "base_uri": "https://localhost:8080/"
        },
        "id": "NHNSNBGNHkvl",
        "outputId": "ab6e7ed5-a0dd-41d5-96b9-b5f6a7022ec8"
      },
      "outputs": [
        {
          "output_type": "stream",
          "name": "stdout",
          "text": [
            "A register of patients in England with breast and other cosmetic implants has been set up to allow them to be traced in the event of any safety concerns.\n",
            "The Breast and Cosmetic Implant Registry will include patients treated by both NHS and private providers. It is expected to record more than 20,000\n",
            "The new and Cosmetic Implant Registry, include patients treated by both the and private providers. The will expected to record the than to,000\n"
          ]
        }
      ],
      "source": [
        "print(ds['real summary'][2])\n",
        "print(ds['no watermark (NW)'][2])\n",
        "print(ds['watermark (W)'][])"
      ]
    },
    {
      "cell_type": "markdown",
      "metadata": {
        "id": "KPnQmkJ8qPMH"
      },
      "source": [
        "# divide(& conqure)"
      ]
    },
    {
      "cell_type": "markdown",
      "metadata": {
        "id": "ua4UgCIS2oGx"
      },
      "source": [
        "# Dataset"
      ]
    },
    {
      "cell_type": "code",
      "execution_count": null,
      "metadata": {
        "id": "MZioBG493JVj"
      },
      "outputs": [],
      "source": [
        "! pip install transformers datasets\n",
        "from datasets import load_dataset\n",
        "dataset = load_dataset(\"xsum\")"
      ]
    },
    {
      "cell_type": "code",
      "execution_count": null,
      "metadata": {
        "id": "13Lf03ZvnaRr"
      },
      "outputs": [],
      "source": [
        "# Get an overview of the xsum dataset\n",
        "'''\n",
        "training_data = dataset[\"train\"]\n",
        "\n",
        "# Print a sample training example\n",
        "sample_example = training_data[0]\n",
        "print(\"Sample Training Example:\")\n",
        "print(\"Document:\", sample_example[\"document\"])\n",
        "print(\"Summary:\", sample_example[\"summary\"])\n",
        "print()\n",
        "\n",
        "# Calculate the mean number of tokens in 'document' and 'summary'\n",
        "document_lengths = []\n",
        "summary_lengths = []\n",
        "\n",
        "for example in training_data:\n",
        "    document = example[\"document\"]\n",
        "    summary = example[\"summary\"]\n",
        "    document_tokens = tokenizer.encode(document, truncation=True)\n",
        "    summary_tokens = tokenizer.encode(summary, truncation=True)\n",
        "\n",
        "    document_lengths.append(len(document_tokens))\n",
        "    summary_lengths.append(len(summary_tokens))\n",
        "\n",
        "mean_document_length = sum(document_lengths) / len(document_lengths)\n",
        "mean_summary_length = sum(summary_lengths) / len(summary_lengths)\n",
        "\n",
        "print(f\"Mean Number of Tokens in 'document': {mean_document_length:.2f}\")\n",
        "print(f\"Mean Number of Tokens in 'summary': {mean_summary_length:.2f}\")\n",
        "'''"
      ]
    },
    {
      "cell_type": "markdown",
      "metadata": {
        "id": "0I3-n2kOsT5S"
      },
      "source": [
        "Mean document Tokens  | Mean summary Tokens\n",
        "----------------------|------------------\n",
        "456.69                | 28.15\n"
      ]
    },
    {
      "cell_type": "code",
      "execution_count": null,
      "metadata": {
        "colab": {
          "base_uri": "https://localhost:8080/"
        },
        "id": "QCu6yP2o4Ku_",
        "outputId": "b2cbbe25-7914-4ade-d95a-c6f95b122cee"
      },
      "outputs": [
        {
          "name": "stdout",
          "output_type": "stream",
          "text": [
            "Original Text: Prison Link Cymru had 1,099 referrals in 2015-16 and said some ex-offenders were living rough for up to a year before finding suitable accommodation.\n",
            "Workers at the charity claim investment in housing would be cheaper than jailing homeless repeat offenders.\n",
            "The Welsh Government said more people than ever were getting help to address housing problems.\n",
            "Changes to the Housing Act in Wales, introduced in 2015, removed the right for prison leavers to be given priority for accommodation.\n",
            "Prison Link Cymru, which helps people find accommodation after their release, said things were generally good for women because issues such as children or domestic violence were now considered.\n",
            "However, the same could not be said for men, the charity said, because issues which often affect them, such as post traumatic stress disorder or drug dependency, were often viewed as less of a priority.\n",
            "Andrew Stevens, who works in Welsh prisons trying to secure housing for prison leavers, said the need for accommodation was \"chronic\".\n",
            "\"There's a desperate need for it, finding suitable accommodation for those leaving prison there is just a lack of it everywhere,\" he said.\n",
            "\"It could take six months to a year, without a lot of help they could be on the streets for six months.\n",
            "\"When you think of the consequences of either being on the street, especially with the cold weather at the moment or you may have a roof over your head, sometimes there is only one choice.\"\n",
            "Mr Stevens believes building more one-bedroom flats could help ease the problem.\n",
            "\"The average price is a hundred pounds a week to keep someone in a rented flat, prison is a lot more than that so I would imagine it would save the public purse quite a few pounds,\" he said.\n",
            "Official figures show 830 one-bedroom properties were built in the year to March 2016, of an overall total of 6,900 new properties in Wales.\n",
            "Marc, 50, who has been in and out of prison for the past 20 years for burglary offences, said he struggled to find accommodation each time he was released.\n",
            "He said he would ask himself: \"Where am I going to stay? Where am I going to live? Have I got somewhere where I can see my daughter.\"\n",
            "\"You're put out among the same sort of people doing the same sort of thing, and it's difficult, it's difficult to get away from it. It's like every man for himself, there's nothing.\"\n",
            "Marc has now found stable accommodation with homeless charity Emmaus and said it had been life changing.\n",
            "\"You feel safe, you got hot food, you've got company of people in similar situations to yourself but all dealing with different issues. It's a constructive, helpful atmosphere,\" he said.\n",
            "Tom Clarke, chief executive of Emmaus South Wales, agreed there was not enough support available.\n",
            "\"We do still see [people] homeless on the streets, so clearly they haven't got accommodation and haven't got provision,\" he said.\n",
            "\"I think the key is connecting people with the services they need. I don't delude myself that Emmaus can offer a one size fits all for everyone, we can't.\n",
            "\"But there must be other opportunities and given suitable encouragement I believe that can and should happen.\"\n",
            "A Welsh Government spokesman said the national pathway for homeless services to children, young people and adults in the secure estate had prevented many people from losing their home whilst serving their prison sentence.\n",
            "It added there were already significant demands for one-bedroom flats across the public and private sector and it was providing 20,000 new affordable homes in the next five years.\n",
            "Generated Summary: Prison Link Cymru had 1,099 referrals in 2015-16 and said some ex-offenders were living rough for up to a year before finding suitable accommodation. Welsh Government said more people than ever were getting help to address housing problems.\n"
          ]
        }
      ],
      "source": [
        "for example in dataset[\"test\"]:\n",
        "    input_text = example[\"document\"]\n",
        "    input_ids = tokenizer.encode(input_text, return_tensors=\"pt\", max_length=1024, truncation=True)\n",
        "\n",
        "    # Generate a summary\n",
        "    summary_ids = model.generate(input_ids, max_length=150, min_length=40, length_penalty=2.0, num_beams=4, early_stopping=True)\n",
        "\n",
        "    # Decode and print the generated summary\n",
        "    summary = tokenizer.decode(summary_ids[0], skip_special_tokens=True)\n",
        "    print(\"Original Text:\", input_text)\n",
        "    print(\"Generated Summary:\", summary)\n",
        "    break"
      ]
    }
  ],
  "metadata": {
    "colab": {
      "collapsed_sections": [
        "2qdISDcVuDpl",
        "_kXJeIXD6b6n",
        "ua4UgCIS2oGx"
      ],
      "provenance": []
    },
    "kernelspec": {
      "display_name": "Python 3",
      "name": "python3"
    },
    "language_info": {
      "name": "python"
    },
    "widgets": {
      "application/vnd.jupyter.widget-state+json": {
        "802b4ec0e34c45a389ea35f7880cb696": {
          "model_module": "@jupyter-widgets/controls",
          "model_name": "HBoxModel",
          "model_module_version": "1.5.0",
          "state": {
            "_dom_classes": [],
            "_model_module": "@jupyter-widgets/controls",
            "_model_module_version": "1.5.0",
            "_model_name": "HBoxModel",
            "_view_count": null,
            "_view_module": "@jupyter-widgets/controls",
            "_view_module_version": "1.5.0",
            "_view_name": "HBoxView",
            "box_style": "",
            "children": [
              "IPY_MODEL_8fd2499fea674cc7beb5b74d319ba234",
              "IPY_MODEL_21087fad810747fa9c62e82eeff92a47",
              "IPY_MODEL_af81a6d00cd04edc88434fcae210badc"
            ],
            "layout": "IPY_MODEL_ed848544e18445d3b585095fb06869e4"
          }
        },
        "8fd2499fea674cc7beb5b74d319ba234": {
          "model_module": "@jupyter-widgets/controls",
          "model_name": "HTMLModel",
          "model_module_version": "1.5.0",
          "state": {
            "_dom_classes": [],
            "_model_module": "@jupyter-widgets/controls",
            "_model_module_version": "1.5.0",
            "_model_name": "HTMLModel",
            "_view_count": null,
            "_view_module": "@jupyter-widgets/controls",
            "_view_module_version": "1.5.0",
            "_view_name": "HTMLView",
            "description": "",
            "description_tooltip": null,
            "layout": "IPY_MODEL_88bc54ef28314ed49b72be86e278809b",
            "placeholder": "​",
            "style": "IPY_MODEL_0e8156a052c145c1825cef078d9832ec",
            "value": "Downloading (…)olve/main/vocab.json: 100%"
          }
        },
        "21087fad810747fa9c62e82eeff92a47": {
          "model_module": "@jupyter-widgets/controls",
          "model_name": "FloatProgressModel",
          "model_module_version": "1.5.0",
          "state": {
            "_dom_classes": [],
            "_model_module": "@jupyter-widgets/controls",
            "_model_module_version": "1.5.0",
            "_model_name": "FloatProgressModel",
            "_view_count": null,
            "_view_module": "@jupyter-widgets/controls",
            "_view_module_version": "1.5.0",
            "_view_name": "ProgressView",
            "bar_style": "success",
            "description": "",
            "description_tooltip": null,
            "layout": "IPY_MODEL_c9bf1928b575441f93e944f84560f0d1",
            "max": 898823,
            "min": 0,
            "orientation": "horizontal",
            "style": "IPY_MODEL_9d13a7087b3c4825a7c52aa4b9efde9c",
            "value": 898823
          }
        },
        "af81a6d00cd04edc88434fcae210badc": {
          "model_module": "@jupyter-widgets/controls",
          "model_name": "HTMLModel",
          "model_module_version": "1.5.0",
          "state": {
            "_dom_classes": [],
            "_model_module": "@jupyter-widgets/controls",
            "_model_module_version": "1.5.0",
            "_model_name": "HTMLModel",
            "_view_count": null,
            "_view_module": "@jupyter-widgets/controls",
            "_view_module_version": "1.5.0",
            "_view_name": "HTMLView",
            "description": "",
            "description_tooltip": null,
            "layout": "IPY_MODEL_b387ebdd62aa495284273f5c4f1930ce",
            "placeholder": "​",
            "style": "IPY_MODEL_b40bb54bc26243e087e00bad921293aa",
            "value": " 899k/899k [00:00&lt;00:00, 4.53MB/s]"
          }
        },
        "ed848544e18445d3b585095fb06869e4": {
          "model_module": "@jupyter-widgets/base",
          "model_name": "LayoutModel",
          "model_module_version": "1.2.0",
          "state": {
            "_model_module": "@jupyter-widgets/base",
            "_model_module_version": "1.2.0",
            "_model_name": "LayoutModel",
            "_view_count": null,
            "_view_module": "@jupyter-widgets/base",
            "_view_module_version": "1.2.0",
            "_view_name": "LayoutView",
            "align_content": null,
            "align_items": null,
            "align_self": null,
            "border": null,
            "bottom": null,
            "display": null,
            "flex": null,
            "flex_flow": null,
            "grid_area": null,
            "grid_auto_columns": null,
            "grid_auto_flow": null,
            "grid_auto_rows": null,
            "grid_column": null,
            "grid_gap": null,
            "grid_row": null,
            "grid_template_areas": null,
            "grid_template_columns": null,
            "grid_template_rows": null,
            "height": null,
            "justify_content": null,
            "justify_items": null,
            "left": null,
            "margin": null,
            "max_height": null,
            "max_width": null,
            "min_height": null,
            "min_width": null,
            "object_fit": null,
            "object_position": null,
            "order": null,
            "overflow": null,
            "overflow_x": null,
            "overflow_y": null,
            "padding": null,
            "right": null,
            "top": null,
            "visibility": null,
            "width": null
          }
        },
        "88bc54ef28314ed49b72be86e278809b": {
          "model_module": "@jupyter-widgets/base",
          "model_name": "LayoutModel",
          "model_module_version": "1.2.0",
          "state": {
            "_model_module": "@jupyter-widgets/base",
            "_model_module_version": "1.2.0",
            "_model_name": "LayoutModel",
            "_view_count": null,
            "_view_module": "@jupyter-widgets/base",
            "_view_module_version": "1.2.0",
            "_view_name": "LayoutView",
            "align_content": null,
            "align_items": null,
            "align_self": null,
            "border": null,
            "bottom": null,
            "display": null,
            "flex": null,
            "flex_flow": null,
            "grid_area": null,
            "grid_auto_columns": null,
            "grid_auto_flow": null,
            "grid_auto_rows": null,
            "grid_column": null,
            "grid_gap": null,
            "grid_row": null,
            "grid_template_areas": null,
            "grid_template_columns": null,
            "grid_template_rows": null,
            "height": null,
            "justify_content": null,
            "justify_items": null,
            "left": null,
            "margin": null,
            "max_height": null,
            "max_width": null,
            "min_height": null,
            "min_width": null,
            "object_fit": null,
            "object_position": null,
            "order": null,
            "overflow": null,
            "overflow_x": null,
            "overflow_y": null,
            "padding": null,
            "right": null,
            "top": null,
            "visibility": null,
            "width": null
          }
        },
        "0e8156a052c145c1825cef078d9832ec": {
          "model_module": "@jupyter-widgets/controls",
          "model_name": "DescriptionStyleModel",
          "model_module_version": "1.5.0",
          "state": {
            "_model_module": "@jupyter-widgets/controls",
            "_model_module_version": "1.5.0",
            "_model_name": "DescriptionStyleModel",
            "_view_count": null,
            "_view_module": "@jupyter-widgets/base",
            "_view_module_version": "1.2.0",
            "_view_name": "StyleView",
            "description_width": ""
          }
        },
        "c9bf1928b575441f93e944f84560f0d1": {
          "model_module": "@jupyter-widgets/base",
          "model_name": "LayoutModel",
          "model_module_version": "1.2.0",
          "state": {
            "_model_module": "@jupyter-widgets/base",
            "_model_module_version": "1.2.0",
            "_model_name": "LayoutModel",
            "_view_count": null,
            "_view_module": "@jupyter-widgets/base",
            "_view_module_version": "1.2.0",
            "_view_name": "LayoutView",
            "align_content": null,
            "align_items": null,
            "align_self": null,
            "border": null,
            "bottom": null,
            "display": null,
            "flex": null,
            "flex_flow": null,
            "grid_area": null,
            "grid_auto_columns": null,
            "grid_auto_flow": null,
            "grid_auto_rows": null,
            "grid_column": null,
            "grid_gap": null,
            "grid_row": null,
            "grid_template_areas": null,
            "grid_template_columns": null,
            "grid_template_rows": null,
            "height": null,
            "justify_content": null,
            "justify_items": null,
            "left": null,
            "margin": null,
            "max_height": null,
            "max_width": null,
            "min_height": null,
            "min_width": null,
            "object_fit": null,
            "object_position": null,
            "order": null,
            "overflow": null,
            "overflow_x": null,
            "overflow_y": null,
            "padding": null,
            "right": null,
            "top": null,
            "visibility": null,
            "width": null
          }
        },
        "9d13a7087b3c4825a7c52aa4b9efde9c": {
          "model_module": "@jupyter-widgets/controls",
          "model_name": "ProgressStyleModel",
          "model_module_version": "1.5.0",
          "state": {
            "_model_module": "@jupyter-widgets/controls",
            "_model_module_version": "1.5.0",
            "_model_name": "ProgressStyleModel",
            "_view_count": null,
            "_view_module": "@jupyter-widgets/base",
            "_view_module_version": "1.2.0",
            "_view_name": "StyleView",
            "bar_color": null,
            "description_width": ""
          }
        },
        "b387ebdd62aa495284273f5c4f1930ce": {
          "model_module": "@jupyter-widgets/base",
          "model_name": "LayoutModel",
          "model_module_version": "1.2.0",
          "state": {
            "_model_module": "@jupyter-widgets/base",
            "_model_module_version": "1.2.0",
            "_model_name": "LayoutModel",
            "_view_count": null,
            "_view_module": "@jupyter-widgets/base",
            "_view_module_version": "1.2.0",
            "_view_name": "LayoutView",
            "align_content": null,
            "align_items": null,
            "align_self": null,
            "border": null,
            "bottom": null,
            "display": null,
            "flex": null,
            "flex_flow": null,
            "grid_area": null,
            "grid_auto_columns": null,
            "grid_auto_flow": null,
            "grid_auto_rows": null,
            "grid_column": null,
            "grid_gap": null,
            "grid_row": null,
            "grid_template_areas": null,
            "grid_template_columns": null,
            "grid_template_rows": null,
            "height": null,
            "justify_content": null,
            "justify_items": null,
            "left": null,
            "margin": null,
            "max_height": null,
            "max_width": null,
            "min_height": null,
            "min_width": null,
            "object_fit": null,
            "object_position": null,
            "order": null,
            "overflow": null,
            "overflow_x": null,
            "overflow_y": null,
            "padding": null,
            "right": null,
            "top": null,
            "visibility": null,
            "width": null
          }
        },
        "b40bb54bc26243e087e00bad921293aa": {
          "model_module": "@jupyter-widgets/controls",
          "model_name": "DescriptionStyleModel",
          "model_module_version": "1.5.0",
          "state": {
            "_model_module": "@jupyter-widgets/controls",
            "_model_module_version": "1.5.0",
            "_model_name": "DescriptionStyleModel",
            "_view_count": null,
            "_view_module": "@jupyter-widgets/base",
            "_view_module_version": "1.2.0",
            "_view_name": "StyleView",
            "description_width": ""
          }
        },
        "a167be8eea1645d293bfb227d52e3667": {
          "model_module": "@jupyter-widgets/controls",
          "model_name": "HBoxModel",
          "model_module_version": "1.5.0",
          "state": {
            "_dom_classes": [],
            "_model_module": "@jupyter-widgets/controls",
            "_model_module_version": "1.5.0",
            "_model_name": "HBoxModel",
            "_view_count": null,
            "_view_module": "@jupyter-widgets/controls",
            "_view_module_version": "1.5.0",
            "_view_name": "HBoxView",
            "box_style": "",
            "children": [
              "IPY_MODEL_0fcaad33770b4f24ac7080d7ae776995",
              "IPY_MODEL_b8b8349590b6440d97d6c930eea7e172",
              "IPY_MODEL_f9e53ad24c4f4d01a1224093a2bdca44"
            ],
            "layout": "IPY_MODEL_86597fcda22c4050b872ba8fc3a6ed8e"
          }
        },
        "0fcaad33770b4f24ac7080d7ae776995": {
          "model_module": "@jupyter-widgets/controls",
          "model_name": "HTMLModel",
          "model_module_version": "1.5.0",
          "state": {
            "_dom_classes": [],
            "_model_module": "@jupyter-widgets/controls",
            "_model_module_version": "1.5.0",
            "_model_name": "HTMLModel",
            "_view_count": null,
            "_view_module": "@jupyter-widgets/controls",
            "_view_module_version": "1.5.0",
            "_view_name": "HTMLView",
            "description": "",
            "description_tooltip": null,
            "layout": "IPY_MODEL_c79f4a18f7744db5b9c3f0c9b4962e8b",
            "placeholder": "​",
            "style": "IPY_MODEL_bcafdd0321464aa59d763cc9c4d90c60",
            "value": "Downloading (…)olve/main/merges.txt: 100%"
          }
        },
        "b8b8349590b6440d97d6c930eea7e172": {
          "model_module": "@jupyter-widgets/controls",
          "model_name": "FloatProgressModel",
          "model_module_version": "1.5.0",
          "state": {
            "_dom_classes": [],
            "_model_module": "@jupyter-widgets/controls",
            "_model_module_version": "1.5.0",
            "_model_name": "FloatProgressModel",
            "_view_count": null,
            "_view_module": "@jupyter-widgets/controls",
            "_view_module_version": "1.5.0",
            "_view_name": "ProgressView",
            "bar_style": "success",
            "description": "",
            "description_tooltip": null,
            "layout": "IPY_MODEL_36edaec208154163857f1bdbf5045033",
            "max": 456318,
            "min": 0,
            "orientation": "horizontal",
            "style": "IPY_MODEL_b41632d6ddf8422d9d20d098d9eb8e39",
            "value": 456318
          }
        },
        "f9e53ad24c4f4d01a1224093a2bdca44": {
          "model_module": "@jupyter-widgets/controls",
          "model_name": "HTMLModel",
          "model_module_version": "1.5.0",
          "state": {
            "_dom_classes": [],
            "_model_module": "@jupyter-widgets/controls",
            "_model_module_version": "1.5.0",
            "_model_name": "HTMLModel",
            "_view_count": null,
            "_view_module": "@jupyter-widgets/controls",
            "_view_module_version": "1.5.0",
            "_view_name": "HTMLView",
            "description": "",
            "description_tooltip": null,
            "layout": "IPY_MODEL_5275e3fba4be4101a0a2d31d7dbf1dc1",
            "placeholder": "​",
            "style": "IPY_MODEL_c45de82ad93149a684fa969be7484aaa",
            "value": " 456k/456k [00:00&lt;00:00, 3.43MB/s]"
          }
        },
        "86597fcda22c4050b872ba8fc3a6ed8e": {
          "model_module": "@jupyter-widgets/base",
          "model_name": "LayoutModel",
          "model_module_version": "1.2.0",
          "state": {
            "_model_module": "@jupyter-widgets/base",
            "_model_module_version": "1.2.0",
            "_model_name": "LayoutModel",
            "_view_count": null,
            "_view_module": "@jupyter-widgets/base",
            "_view_module_version": "1.2.0",
            "_view_name": "LayoutView",
            "align_content": null,
            "align_items": null,
            "align_self": null,
            "border": null,
            "bottom": null,
            "display": null,
            "flex": null,
            "flex_flow": null,
            "grid_area": null,
            "grid_auto_columns": null,
            "grid_auto_flow": null,
            "grid_auto_rows": null,
            "grid_column": null,
            "grid_gap": null,
            "grid_row": null,
            "grid_template_areas": null,
            "grid_template_columns": null,
            "grid_template_rows": null,
            "height": null,
            "justify_content": null,
            "justify_items": null,
            "left": null,
            "margin": null,
            "max_height": null,
            "max_width": null,
            "min_height": null,
            "min_width": null,
            "object_fit": null,
            "object_position": null,
            "order": null,
            "overflow": null,
            "overflow_x": null,
            "overflow_y": null,
            "padding": null,
            "right": null,
            "top": null,
            "visibility": null,
            "width": null
          }
        },
        "c79f4a18f7744db5b9c3f0c9b4962e8b": {
          "model_module": "@jupyter-widgets/base",
          "model_name": "LayoutModel",
          "model_module_version": "1.2.0",
          "state": {
            "_model_module": "@jupyter-widgets/base",
            "_model_module_version": "1.2.0",
            "_model_name": "LayoutModel",
            "_view_count": null,
            "_view_module": "@jupyter-widgets/base",
            "_view_module_version": "1.2.0",
            "_view_name": "LayoutView",
            "align_content": null,
            "align_items": null,
            "align_self": null,
            "border": null,
            "bottom": null,
            "display": null,
            "flex": null,
            "flex_flow": null,
            "grid_area": null,
            "grid_auto_columns": null,
            "grid_auto_flow": null,
            "grid_auto_rows": null,
            "grid_column": null,
            "grid_gap": null,
            "grid_row": null,
            "grid_template_areas": null,
            "grid_template_columns": null,
            "grid_template_rows": null,
            "height": null,
            "justify_content": null,
            "justify_items": null,
            "left": null,
            "margin": null,
            "max_height": null,
            "max_width": null,
            "min_height": null,
            "min_width": null,
            "object_fit": null,
            "object_position": null,
            "order": null,
            "overflow": null,
            "overflow_x": null,
            "overflow_y": null,
            "padding": null,
            "right": null,
            "top": null,
            "visibility": null,
            "width": null
          }
        },
        "bcafdd0321464aa59d763cc9c4d90c60": {
          "model_module": "@jupyter-widgets/controls",
          "model_name": "DescriptionStyleModel",
          "model_module_version": "1.5.0",
          "state": {
            "_model_module": "@jupyter-widgets/controls",
            "_model_module_version": "1.5.0",
            "_model_name": "DescriptionStyleModel",
            "_view_count": null,
            "_view_module": "@jupyter-widgets/base",
            "_view_module_version": "1.2.0",
            "_view_name": "StyleView",
            "description_width": ""
          }
        },
        "36edaec208154163857f1bdbf5045033": {
          "model_module": "@jupyter-widgets/base",
          "model_name": "LayoutModel",
          "model_module_version": "1.2.0",
          "state": {
            "_model_module": "@jupyter-widgets/base",
            "_model_module_version": "1.2.0",
            "_model_name": "LayoutModel",
            "_view_count": null,
            "_view_module": "@jupyter-widgets/base",
            "_view_module_version": "1.2.0",
            "_view_name": "LayoutView",
            "align_content": null,
            "align_items": null,
            "align_self": null,
            "border": null,
            "bottom": null,
            "display": null,
            "flex": null,
            "flex_flow": null,
            "grid_area": null,
            "grid_auto_columns": null,
            "grid_auto_flow": null,
            "grid_auto_rows": null,
            "grid_column": null,
            "grid_gap": null,
            "grid_row": null,
            "grid_template_areas": null,
            "grid_template_columns": null,
            "grid_template_rows": null,
            "height": null,
            "justify_content": null,
            "justify_items": null,
            "left": null,
            "margin": null,
            "max_height": null,
            "max_width": null,
            "min_height": null,
            "min_width": null,
            "object_fit": null,
            "object_position": null,
            "order": null,
            "overflow": null,
            "overflow_x": null,
            "overflow_y": null,
            "padding": null,
            "right": null,
            "top": null,
            "visibility": null,
            "width": null
          }
        },
        "b41632d6ddf8422d9d20d098d9eb8e39": {
          "model_module": "@jupyter-widgets/controls",
          "model_name": "ProgressStyleModel",
          "model_module_version": "1.5.0",
          "state": {
            "_model_module": "@jupyter-widgets/controls",
            "_model_module_version": "1.5.0",
            "_model_name": "ProgressStyleModel",
            "_view_count": null,
            "_view_module": "@jupyter-widgets/base",
            "_view_module_version": "1.2.0",
            "_view_name": "StyleView",
            "bar_color": null,
            "description_width": ""
          }
        },
        "5275e3fba4be4101a0a2d31d7dbf1dc1": {
          "model_module": "@jupyter-widgets/base",
          "model_name": "LayoutModel",
          "model_module_version": "1.2.0",
          "state": {
            "_model_module": "@jupyter-widgets/base",
            "_model_module_version": "1.2.0",
            "_model_name": "LayoutModel",
            "_view_count": null,
            "_view_module": "@jupyter-widgets/base",
            "_view_module_version": "1.2.0",
            "_view_name": "LayoutView",
            "align_content": null,
            "align_items": null,
            "align_self": null,
            "border": null,
            "bottom": null,
            "display": null,
            "flex": null,
            "flex_flow": null,
            "grid_area": null,
            "grid_auto_columns": null,
            "grid_auto_flow": null,
            "grid_auto_rows": null,
            "grid_column": null,
            "grid_gap": null,
            "grid_row": null,
            "grid_template_areas": null,
            "grid_template_columns": null,
            "grid_template_rows": null,
            "height": null,
            "justify_content": null,
            "justify_items": null,
            "left": null,
            "margin": null,
            "max_height": null,
            "max_width": null,
            "min_height": null,
            "min_width": null,
            "object_fit": null,
            "object_position": null,
            "order": null,
            "overflow": null,
            "overflow_x": null,
            "overflow_y": null,
            "padding": null,
            "right": null,
            "top": null,
            "visibility": null,
            "width": null
          }
        },
        "c45de82ad93149a684fa969be7484aaa": {
          "model_module": "@jupyter-widgets/controls",
          "model_name": "DescriptionStyleModel",
          "model_module_version": "1.5.0",
          "state": {
            "_model_module": "@jupyter-widgets/controls",
            "_model_module_version": "1.5.0",
            "_model_name": "DescriptionStyleModel",
            "_view_count": null,
            "_view_module": "@jupyter-widgets/base",
            "_view_module_version": "1.2.0",
            "_view_name": "StyleView",
            "description_width": ""
          }
        },
        "d01e4ee06756432c88fe8ef536adb8fb": {
          "model_module": "@jupyter-widgets/controls",
          "model_name": "HBoxModel",
          "model_module_version": "1.5.0",
          "state": {
            "_dom_classes": [],
            "_model_module": "@jupyter-widgets/controls",
            "_model_module_version": "1.5.0",
            "_model_name": "HBoxModel",
            "_view_count": null,
            "_view_module": "@jupyter-widgets/controls",
            "_view_module_version": "1.5.0",
            "_view_name": "HBoxView",
            "box_style": "",
            "children": [
              "IPY_MODEL_596258f0151840868fae451515813ebe",
              "IPY_MODEL_692eea8ab24e478a9887720430a92f97",
              "IPY_MODEL_afcee20742a644e0a5d4c0510568833a"
            ],
            "layout": "IPY_MODEL_b08573626d0d48c4b1385d1cd1aa9a22"
          }
        },
        "596258f0151840868fae451515813ebe": {
          "model_module": "@jupyter-widgets/controls",
          "model_name": "HTMLModel",
          "model_module_version": "1.5.0",
          "state": {
            "_dom_classes": [],
            "_model_module": "@jupyter-widgets/controls",
            "_model_module_version": "1.5.0",
            "_model_name": "HTMLModel",
            "_view_count": null,
            "_view_module": "@jupyter-widgets/controls",
            "_view_module_version": "1.5.0",
            "_view_name": "HTMLView",
            "description": "",
            "description_tooltip": null,
            "layout": "IPY_MODEL_aae33005b7514ab3ab47057749a5e4a7",
            "placeholder": "​",
            "style": "IPY_MODEL_77ea28d38bd04086b0865ad78c709b07",
            "value": "Downloading (…)/main/tokenizer.json: 100%"
          }
        },
        "692eea8ab24e478a9887720430a92f97": {
          "model_module": "@jupyter-widgets/controls",
          "model_name": "FloatProgressModel",
          "model_module_version": "1.5.0",
          "state": {
            "_dom_classes": [],
            "_model_module": "@jupyter-widgets/controls",
            "_model_module_version": "1.5.0",
            "_model_name": "FloatProgressModel",
            "_view_count": null,
            "_view_module": "@jupyter-widgets/controls",
            "_view_module_version": "1.5.0",
            "_view_name": "ProgressView",
            "bar_style": "success",
            "description": "",
            "description_tooltip": null,
            "layout": "IPY_MODEL_fb4e0e49f68e4298b099508c094f96ae",
            "max": 1355863,
            "min": 0,
            "orientation": "horizontal",
            "style": "IPY_MODEL_56cc53312e4b4929954be3236e44eb9a",
            "value": 1355863
          }
        },
        "afcee20742a644e0a5d4c0510568833a": {
          "model_module": "@jupyter-widgets/controls",
          "model_name": "HTMLModel",
          "model_module_version": "1.5.0",
          "state": {
            "_dom_classes": [],
            "_model_module": "@jupyter-widgets/controls",
            "_model_module_version": "1.5.0",
            "_model_name": "HTMLModel",
            "_view_count": null,
            "_view_module": "@jupyter-widgets/controls",
            "_view_module_version": "1.5.0",
            "_view_name": "HTMLView",
            "description": "",
            "description_tooltip": null,
            "layout": "IPY_MODEL_0a30ae3d4e6746c68ac5983bb68d2699",
            "placeholder": "​",
            "style": "IPY_MODEL_d388cde4698f4b76846224756788f040",
            "value": " 1.36M/1.36M [00:00&lt;00:00, 5.04MB/s]"
          }
        },
        "b08573626d0d48c4b1385d1cd1aa9a22": {
          "model_module": "@jupyter-widgets/base",
          "model_name": "LayoutModel",
          "model_module_version": "1.2.0",
          "state": {
            "_model_module": "@jupyter-widgets/base",
            "_model_module_version": "1.2.0",
            "_model_name": "LayoutModel",
            "_view_count": null,
            "_view_module": "@jupyter-widgets/base",
            "_view_module_version": "1.2.0",
            "_view_name": "LayoutView",
            "align_content": null,
            "align_items": null,
            "align_self": null,
            "border": null,
            "bottom": null,
            "display": null,
            "flex": null,
            "flex_flow": null,
            "grid_area": null,
            "grid_auto_columns": null,
            "grid_auto_flow": null,
            "grid_auto_rows": null,
            "grid_column": null,
            "grid_gap": null,
            "grid_row": null,
            "grid_template_areas": null,
            "grid_template_columns": null,
            "grid_template_rows": null,
            "height": null,
            "justify_content": null,
            "justify_items": null,
            "left": null,
            "margin": null,
            "max_height": null,
            "max_width": null,
            "min_height": null,
            "min_width": null,
            "object_fit": null,
            "object_position": null,
            "order": null,
            "overflow": null,
            "overflow_x": null,
            "overflow_y": null,
            "padding": null,
            "right": null,
            "top": null,
            "visibility": null,
            "width": null
          }
        },
        "aae33005b7514ab3ab47057749a5e4a7": {
          "model_module": "@jupyter-widgets/base",
          "model_name": "LayoutModel",
          "model_module_version": "1.2.0",
          "state": {
            "_model_module": "@jupyter-widgets/base",
            "_model_module_version": "1.2.0",
            "_model_name": "LayoutModel",
            "_view_count": null,
            "_view_module": "@jupyter-widgets/base",
            "_view_module_version": "1.2.0",
            "_view_name": "LayoutView",
            "align_content": null,
            "align_items": null,
            "align_self": null,
            "border": null,
            "bottom": null,
            "display": null,
            "flex": null,
            "flex_flow": null,
            "grid_area": null,
            "grid_auto_columns": null,
            "grid_auto_flow": null,
            "grid_auto_rows": null,
            "grid_column": null,
            "grid_gap": null,
            "grid_row": null,
            "grid_template_areas": null,
            "grid_template_columns": null,
            "grid_template_rows": null,
            "height": null,
            "justify_content": null,
            "justify_items": null,
            "left": null,
            "margin": null,
            "max_height": null,
            "max_width": null,
            "min_height": null,
            "min_width": null,
            "object_fit": null,
            "object_position": null,
            "order": null,
            "overflow": null,
            "overflow_x": null,
            "overflow_y": null,
            "padding": null,
            "right": null,
            "top": null,
            "visibility": null,
            "width": null
          }
        },
        "77ea28d38bd04086b0865ad78c709b07": {
          "model_module": "@jupyter-widgets/controls",
          "model_name": "DescriptionStyleModel",
          "model_module_version": "1.5.0",
          "state": {
            "_model_module": "@jupyter-widgets/controls",
            "_model_module_version": "1.5.0",
            "_model_name": "DescriptionStyleModel",
            "_view_count": null,
            "_view_module": "@jupyter-widgets/base",
            "_view_module_version": "1.2.0",
            "_view_name": "StyleView",
            "description_width": ""
          }
        },
        "fb4e0e49f68e4298b099508c094f96ae": {
          "model_module": "@jupyter-widgets/base",
          "model_name": "LayoutModel",
          "model_module_version": "1.2.0",
          "state": {
            "_model_module": "@jupyter-widgets/base",
            "_model_module_version": "1.2.0",
            "_model_name": "LayoutModel",
            "_view_count": null,
            "_view_module": "@jupyter-widgets/base",
            "_view_module_version": "1.2.0",
            "_view_name": "LayoutView",
            "align_content": null,
            "align_items": null,
            "align_self": null,
            "border": null,
            "bottom": null,
            "display": null,
            "flex": null,
            "flex_flow": null,
            "grid_area": null,
            "grid_auto_columns": null,
            "grid_auto_flow": null,
            "grid_auto_rows": null,
            "grid_column": null,
            "grid_gap": null,
            "grid_row": null,
            "grid_template_areas": null,
            "grid_template_columns": null,
            "grid_template_rows": null,
            "height": null,
            "justify_content": null,
            "justify_items": null,
            "left": null,
            "margin": null,
            "max_height": null,
            "max_width": null,
            "min_height": null,
            "min_width": null,
            "object_fit": null,
            "object_position": null,
            "order": null,
            "overflow": null,
            "overflow_x": null,
            "overflow_y": null,
            "padding": null,
            "right": null,
            "top": null,
            "visibility": null,
            "width": null
          }
        },
        "56cc53312e4b4929954be3236e44eb9a": {
          "model_module": "@jupyter-widgets/controls",
          "model_name": "ProgressStyleModel",
          "model_module_version": "1.5.0",
          "state": {
            "_model_module": "@jupyter-widgets/controls",
            "_model_module_version": "1.5.0",
            "_model_name": "ProgressStyleModel",
            "_view_count": null,
            "_view_module": "@jupyter-widgets/base",
            "_view_module_version": "1.2.0",
            "_view_name": "StyleView",
            "bar_color": null,
            "description_width": ""
          }
        },
        "0a30ae3d4e6746c68ac5983bb68d2699": {
          "model_module": "@jupyter-widgets/base",
          "model_name": "LayoutModel",
          "model_module_version": "1.2.0",
          "state": {
            "_model_module": "@jupyter-widgets/base",
            "_model_module_version": "1.2.0",
            "_model_name": "LayoutModel",
            "_view_count": null,
            "_view_module": "@jupyter-widgets/base",
            "_view_module_version": "1.2.0",
            "_view_name": "LayoutView",
            "align_content": null,
            "align_items": null,
            "align_self": null,
            "border": null,
            "bottom": null,
            "display": null,
            "flex": null,
            "flex_flow": null,
            "grid_area": null,
            "grid_auto_columns": null,
            "grid_auto_flow": null,
            "grid_auto_rows": null,
            "grid_column": null,
            "grid_gap": null,
            "grid_row": null,
            "grid_template_areas": null,
            "grid_template_columns": null,
            "grid_template_rows": null,
            "height": null,
            "justify_content": null,
            "justify_items": null,
            "left": null,
            "margin": null,
            "max_height": null,
            "max_width": null,
            "min_height": null,
            "min_width": null,
            "object_fit": null,
            "object_position": null,
            "order": null,
            "overflow": null,
            "overflow_x": null,
            "overflow_y": null,
            "padding": null,
            "right": null,
            "top": null,
            "visibility": null,
            "width": null
          }
        },
        "d388cde4698f4b76846224756788f040": {
          "model_module": "@jupyter-widgets/controls",
          "model_name": "DescriptionStyleModel",
          "model_module_version": "1.5.0",
          "state": {
            "_model_module": "@jupyter-widgets/controls",
            "_model_module_version": "1.5.0",
            "_model_name": "DescriptionStyleModel",
            "_view_count": null,
            "_view_module": "@jupyter-widgets/base",
            "_view_module_version": "1.2.0",
            "_view_name": "StyleView",
            "description_width": ""
          }
        },
        "836d4604d01345b793dd172fac2ec270": {
          "model_module": "@jupyter-widgets/controls",
          "model_name": "HBoxModel",
          "model_module_version": "1.5.0",
          "state": {
            "_dom_classes": [],
            "_model_module": "@jupyter-widgets/controls",
            "_model_module_version": "1.5.0",
            "_model_name": "HBoxModel",
            "_view_count": null,
            "_view_module": "@jupyter-widgets/controls",
            "_view_module_version": "1.5.0",
            "_view_name": "HBoxView",
            "box_style": "",
            "children": [
              "IPY_MODEL_41a1a043447e4bae9a8497cc2a9b52da",
              "IPY_MODEL_4e99745d52ae48aa9c782a40560581ba",
              "IPY_MODEL_1370ef0a80aa408ea74594d0904b9178"
            ],
            "layout": "IPY_MODEL_d1d75136fd924389924fdf1e02497264"
          }
        },
        "41a1a043447e4bae9a8497cc2a9b52da": {
          "model_module": "@jupyter-widgets/controls",
          "model_name": "HTMLModel",
          "model_module_version": "1.5.0",
          "state": {
            "_dom_classes": [],
            "_model_module": "@jupyter-widgets/controls",
            "_model_module_version": "1.5.0",
            "_model_name": "HTMLModel",
            "_view_count": null,
            "_view_module": "@jupyter-widgets/controls",
            "_view_module_version": "1.5.0",
            "_view_name": "HTMLView",
            "description": "",
            "description_tooltip": null,
            "layout": "IPY_MODEL_1862f4648e214c5086aa126cfd098ebe",
            "placeholder": "​",
            "style": "IPY_MODEL_4d6d903f9d2e4a6ead8e04c94de4cd11",
            "value": "Downloading (…)lve/main/config.json: 100%"
          }
        },
        "4e99745d52ae48aa9c782a40560581ba": {
          "model_module": "@jupyter-widgets/controls",
          "model_name": "FloatProgressModel",
          "model_module_version": "1.5.0",
          "state": {
            "_dom_classes": [],
            "_model_module": "@jupyter-widgets/controls",
            "_model_module_version": "1.5.0",
            "_model_name": "FloatProgressModel",
            "_view_count": null,
            "_view_module": "@jupyter-widgets/controls",
            "_view_module_version": "1.5.0",
            "_view_name": "ProgressView",
            "bar_style": "success",
            "description": "",
            "description_tooltip": null,
            "layout": "IPY_MODEL_85e33e4c109f4023a28e6ca72e804b63",
            "max": 1585,
            "min": 0,
            "orientation": "horizontal",
            "style": "IPY_MODEL_4376250d66cb41adbe50b255b2b63236",
            "value": 1585
          }
        },
        "1370ef0a80aa408ea74594d0904b9178": {
          "model_module": "@jupyter-widgets/controls",
          "model_name": "HTMLModel",
          "model_module_version": "1.5.0",
          "state": {
            "_dom_classes": [],
            "_model_module": "@jupyter-widgets/controls",
            "_model_module_version": "1.5.0",
            "_model_name": "HTMLModel",
            "_view_count": null,
            "_view_module": "@jupyter-widgets/controls",
            "_view_module_version": "1.5.0",
            "_view_name": "HTMLView",
            "description": "",
            "description_tooltip": null,
            "layout": "IPY_MODEL_a3cc397ff25443a193b4e65ed45b29cd",
            "placeholder": "​",
            "style": "IPY_MODEL_cfbd3e039e3e4533bf80541322e7ed27",
            "value": " 1.58k/1.58k [00:00&lt;00:00, 67.4kB/s]"
          }
        },
        "d1d75136fd924389924fdf1e02497264": {
          "model_module": "@jupyter-widgets/base",
          "model_name": "LayoutModel",
          "model_module_version": "1.2.0",
          "state": {
            "_model_module": "@jupyter-widgets/base",
            "_model_module_version": "1.2.0",
            "_model_name": "LayoutModel",
            "_view_count": null,
            "_view_module": "@jupyter-widgets/base",
            "_view_module_version": "1.2.0",
            "_view_name": "LayoutView",
            "align_content": null,
            "align_items": null,
            "align_self": null,
            "border": null,
            "bottom": null,
            "display": null,
            "flex": null,
            "flex_flow": null,
            "grid_area": null,
            "grid_auto_columns": null,
            "grid_auto_flow": null,
            "grid_auto_rows": null,
            "grid_column": null,
            "grid_gap": null,
            "grid_row": null,
            "grid_template_areas": null,
            "grid_template_columns": null,
            "grid_template_rows": null,
            "height": null,
            "justify_content": null,
            "justify_items": null,
            "left": null,
            "margin": null,
            "max_height": null,
            "max_width": null,
            "min_height": null,
            "min_width": null,
            "object_fit": null,
            "object_position": null,
            "order": null,
            "overflow": null,
            "overflow_x": null,
            "overflow_y": null,
            "padding": null,
            "right": null,
            "top": null,
            "visibility": null,
            "width": null
          }
        },
        "1862f4648e214c5086aa126cfd098ebe": {
          "model_module": "@jupyter-widgets/base",
          "model_name": "LayoutModel",
          "model_module_version": "1.2.0",
          "state": {
            "_model_module": "@jupyter-widgets/base",
            "_model_module_version": "1.2.0",
            "_model_name": "LayoutModel",
            "_view_count": null,
            "_view_module": "@jupyter-widgets/base",
            "_view_module_version": "1.2.0",
            "_view_name": "LayoutView",
            "align_content": null,
            "align_items": null,
            "align_self": null,
            "border": null,
            "bottom": null,
            "display": null,
            "flex": null,
            "flex_flow": null,
            "grid_area": null,
            "grid_auto_columns": null,
            "grid_auto_flow": null,
            "grid_auto_rows": null,
            "grid_column": null,
            "grid_gap": null,
            "grid_row": null,
            "grid_template_areas": null,
            "grid_template_columns": null,
            "grid_template_rows": null,
            "height": null,
            "justify_content": null,
            "justify_items": null,
            "left": null,
            "margin": null,
            "max_height": null,
            "max_width": null,
            "min_height": null,
            "min_width": null,
            "object_fit": null,
            "object_position": null,
            "order": null,
            "overflow": null,
            "overflow_x": null,
            "overflow_y": null,
            "padding": null,
            "right": null,
            "top": null,
            "visibility": null,
            "width": null
          }
        },
        "4d6d903f9d2e4a6ead8e04c94de4cd11": {
          "model_module": "@jupyter-widgets/controls",
          "model_name": "DescriptionStyleModel",
          "model_module_version": "1.5.0",
          "state": {
            "_model_module": "@jupyter-widgets/controls",
            "_model_module_version": "1.5.0",
            "_model_name": "DescriptionStyleModel",
            "_view_count": null,
            "_view_module": "@jupyter-widgets/base",
            "_view_module_version": "1.2.0",
            "_view_name": "StyleView",
            "description_width": ""
          }
        },
        "85e33e4c109f4023a28e6ca72e804b63": {
          "model_module": "@jupyter-widgets/base",
          "model_name": "LayoutModel",
          "model_module_version": "1.2.0",
          "state": {
            "_model_module": "@jupyter-widgets/base",
            "_model_module_version": "1.2.0",
            "_model_name": "LayoutModel",
            "_view_count": null,
            "_view_module": "@jupyter-widgets/base",
            "_view_module_version": "1.2.0",
            "_view_name": "LayoutView",
            "align_content": null,
            "align_items": null,
            "align_self": null,
            "border": null,
            "bottom": null,
            "display": null,
            "flex": null,
            "flex_flow": null,
            "grid_area": null,
            "grid_auto_columns": null,
            "grid_auto_flow": null,
            "grid_auto_rows": null,
            "grid_column": null,
            "grid_gap": null,
            "grid_row": null,
            "grid_template_areas": null,
            "grid_template_columns": null,
            "grid_template_rows": null,
            "height": null,
            "justify_content": null,
            "justify_items": null,
            "left": null,
            "margin": null,
            "max_height": null,
            "max_width": null,
            "min_height": null,
            "min_width": null,
            "object_fit": null,
            "object_position": null,
            "order": null,
            "overflow": null,
            "overflow_x": null,
            "overflow_y": null,
            "padding": null,
            "right": null,
            "top": null,
            "visibility": null,
            "width": null
          }
        },
        "4376250d66cb41adbe50b255b2b63236": {
          "model_module": "@jupyter-widgets/controls",
          "model_name": "ProgressStyleModel",
          "model_module_version": "1.5.0",
          "state": {
            "_model_module": "@jupyter-widgets/controls",
            "_model_module_version": "1.5.0",
            "_model_name": "ProgressStyleModel",
            "_view_count": null,
            "_view_module": "@jupyter-widgets/base",
            "_view_module_version": "1.2.0",
            "_view_name": "StyleView",
            "bar_color": null,
            "description_width": ""
          }
        },
        "a3cc397ff25443a193b4e65ed45b29cd": {
          "model_module": "@jupyter-widgets/base",
          "model_name": "LayoutModel",
          "model_module_version": "1.2.0",
          "state": {
            "_model_module": "@jupyter-widgets/base",
            "_model_module_version": "1.2.0",
            "_model_name": "LayoutModel",
            "_view_count": null,
            "_view_module": "@jupyter-widgets/base",
            "_view_module_version": "1.2.0",
            "_view_name": "LayoutView",
            "align_content": null,
            "align_items": null,
            "align_self": null,
            "border": null,
            "bottom": null,
            "display": null,
            "flex": null,
            "flex_flow": null,
            "grid_area": null,
            "grid_auto_columns": null,
            "grid_auto_flow": null,
            "grid_auto_rows": null,
            "grid_column": null,
            "grid_gap": null,
            "grid_row": null,
            "grid_template_areas": null,
            "grid_template_columns": null,
            "grid_template_rows": null,
            "height": null,
            "justify_content": null,
            "justify_items": null,
            "left": null,
            "margin": null,
            "max_height": null,
            "max_width": null,
            "min_height": null,
            "min_width": null,
            "object_fit": null,
            "object_position": null,
            "order": null,
            "overflow": null,
            "overflow_x": null,
            "overflow_y": null,
            "padding": null,
            "right": null,
            "top": null,
            "visibility": null,
            "width": null
          }
        },
        "cfbd3e039e3e4533bf80541322e7ed27": {
          "model_module": "@jupyter-widgets/controls",
          "model_name": "DescriptionStyleModel",
          "model_module_version": "1.5.0",
          "state": {
            "_model_module": "@jupyter-widgets/controls",
            "_model_module_version": "1.5.0",
            "_model_name": "DescriptionStyleModel",
            "_view_count": null,
            "_view_module": "@jupyter-widgets/base",
            "_view_module_version": "1.2.0",
            "_view_name": "StyleView",
            "description_width": ""
          }
        },
        "03d5cc3ad6334d7ab0a87e30760fa4b2": {
          "model_module": "@jupyter-widgets/controls",
          "model_name": "HBoxModel",
          "model_module_version": "1.5.0",
          "state": {
            "_dom_classes": [],
            "_model_module": "@jupyter-widgets/controls",
            "_model_module_version": "1.5.0",
            "_model_name": "HBoxModel",
            "_view_count": null,
            "_view_module": "@jupyter-widgets/controls",
            "_view_module_version": "1.5.0",
            "_view_name": "HBoxView",
            "box_style": "",
            "children": [
              "IPY_MODEL_a092ee352c31434587af75b117a10609",
              "IPY_MODEL_cab3cdbfae0e4416ac0101fafb5439c1",
              "IPY_MODEL_7cf923871d0845f2bf552ebaf0a1e486"
            ],
            "layout": "IPY_MODEL_741403383ff847a5a7dbc53db135d779"
          }
        },
        "a092ee352c31434587af75b117a10609": {
          "model_module": "@jupyter-widgets/controls",
          "model_name": "HTMLModel",
          "model_module_version": "1.5.0",
          "state": {
            "_dom_classes": [],
            "_model_module": "@jupyter-widgets/controls",
            "_model_module_version": "1.5.0",
            "_model_name": "HTMLModel",
            "_view_count": null,
            "_view_module": "@jupyter-widgets/controls",
            "_view_module_version": "1.5.0",
            "_view_name": "HTMLView",
            "description": "",
            "description_tooltip": null,
            "layout": "IPY_MODEL_7585195696ae42769e38a74e1fb2ca3b",
            "placeholder": "​",
            "style": "IPY_MODEL_2b1e28ff0ea14c7285c357c3b80fa515",
            "value": "Downloading pytorch_model.bin: 100%"
          }
        },
        "cab3cdbfae0e4416ac0101fafb5439c1": {
          "model_module": "@jupyter-widgets/controls",
          "model_name": "FloatProgressModel",
          "model_module_version": "1.5.0",
          "state": {
            "_dom_classes": [],
            "_model_module": "@jupyter-widgets/controls",
            "_model_module_version": "1.5.0",
            "_model_name": "FloatProgressModel",
            "_view_count": null,
            "_view_module": "@jupyter-widgets/controls",
            "_view_module_version": "1.5.0",
            "_view_name": "ProgressView",
            "bar_style": "success",
            "description": "",
            "description_tooltip": null,
            "layout": "IPY_MODEL_09245eb217bb408fa3690b0feb4492ec",
            "max": 1625270765,
            "min": 0,
            "orientation": "horizontal",
            "style": "IPY_MODEL_1991b90803c544579b0a297e6f00249a",
            "value": 1625270765
          }
        },
        "7cf923871d0845f2bf552ebaf0a1e486": {
          "model_module": "@jupyter-widgets/controls",
          "model_name": "HTMLModel",
          "model_module_version": "1.5.0",
          "state": {
            "_dom_classes": [],
            "_model_module": "@jupyter-widgets/controls",
            "_model_module_version": "1.5.0",
            "_model_name": "HTMLModel",
            "_view_count": null,
            "_view_module": "@jupyter-widgets/controls",
            "_view_module_version": "1.5.0",
            "_view_name": "HTMLView",
            "description": "",
            "description_tooltip": null,
            "layout": "IPY_MODEL_c4a75f3592e7407db2904244798770f2",
            "placeholder": "​",
            "style": "IPY_MODEL_ce7ccae65a4b43c9ba5b9464943542ae",
            "value": " 1.63G/1.63G [00:16&lt;00:00, 64.4MB/s]"
          }
        },
        "741403383ff847a5a7dbc53db135d779": {
          "model_module": "@jupyter-widgets/base",
          "model_name": "LayoutModel",
          "model_module_version": "1.2.0",
          "state": {
            "_model_module": "@jupyter-widgets/base",
            "_model_module_version": "1.2.0",
            "_model_name": "LayoutModel",
            "_view_count": null,
            "_view_module": "@jupyter-widgets/base",
            "_view_module_version": "1.2.0",
            "_view_name": "LayoutView",
            "align_content": null,
            "align_items": null,
            "align_self": null,
            "border": null,
            "bottom": null,
            "display": null,
            "flex": null,
            "flex_flow": null,
            "grid_area": null,
            "grid_auto_columns": null,
            "grid_auto_flow": null,
            "grid_auto_rows": null,
            "grid_column": null,
            "grid_gap": null,
            "grid_row": null,
            "grid_template_areas": null,
            "grid_template_columns": null,
            "grid_template_rows": null,
            "height": null,
            "justify_content": null,
            "justify_items": null,
            "left": null,
            "margin": null,
            "max_height": null,
            "max_width": null,
            "min_height": null,
            "min_width": null,
            "object_fit": null,
            "object_position": null,
            "order": null,
            "overflow": null,
            "overflow_x": null,
            "overflow_y": null,
            "padding": null,
            "right": null,
            "top": null,
            "visibility": null,
            "width": null
          }
        },
        "7585195696ae42769e38a74e1fb2ca3b": {
          "model_module": "@jupyter-widgets/base",
          "model_name": "LayoutModel",
          "model_module_version": "1.2.0",
          "state": {
            "_model_module": "@jupyter-widgets/base",
            "_model_module_version": "1.2.0",
            "_model_name": "LayoutModel",
            "_view_count": null,
            "_view_module": "@jupyter-widgets/base",
            "_view_module_version": "1.2.0",
            "_view_name": "LayoutView",
            "align_content": null,
            "align_items": null,
            "align_self": null,
            "border": null,
            "bottom": null,
            "display": null,
            "flex": null,
            "flex_flow": null,
            "grid_area": null,
            "grid_auto_columns": null,
            "grid_auto_flow": null,
            "grid_auto_rows": null,
            "grid_column": null,
            "grid_gap": null,
            "grid_row": null,
            "grid_template_areas": null,
            "grid_template_columns": null,
            "grid_template_rows": null,
            "height": null,
            "justify_content": null,
            "justify_items": null,
            "left": null,
            "margin": null,
            "max_height": null,
            "max_width": null,
            "min_height": null,
            "min_width": null,
            "object_fit": null,
            "object_position": null,
            "order": null,
            "overflow": null,
            "overflow_x": null,
            "overflow_y": null,
            "padding": null,
            "right": null,
            "top": null,
            "visibility": null,
            "width": null
          }
        },
        "2b1e28ff0ea14c7285c357c3b80fa515": {
          "model_module": "@jupyter-widgets/controls",
          "model_name": "DescriptionStyleModel",
          "model_module_version": "1.5.0",
          "state": {
            "_model_module": "@jupyter-widgets/controls",
            "_model_module_version": "1.5.0",
            "_model_name": "DescriptionStyleModel",
            "_view_count": null,
            "_view_module": "@jupyter-widgets/base",
            "_view_module_version": "1.2.0",
            "_view_name": "StyleView",
            "description_width": ""
          }
        },
        "09245eb217bb408fa3690b0feb4492ec": {
          "model_module": "@jupyter-widgets/base",
          "model_name": "LayoutModel",
          "model_module_version": "1.2.0",
          "state": {
            "_model_module": "@jupyter-widgets/base",
            "_model_module_version": "1.2.0",
            "_model_name": "LayoutModel",
            "_view_count": null,
            "_view_module": "@jupyter-widgets/base",
            "_view_module_version": "1.2.0",
            "_view_name": "LayoutView",
            "align_content": null,
            "align_items": null,
            "align_self": null,
            "border": null,
            "bottom": null,
            "display": null,
            "flex": null,
            "flex_flow": null,
            "grid_area": null,
            "grid_auto_columns": null,
            "grid_auto_flow": null,
            "grid_auto_rows": null,
            "grid_column": null,
            "grid_gap": null,
            "grid_row": null,
            "grid_template_areas": null,
            "grid_template_columns": null,
            "grid_template_rows": null,
            "height": null,
            "justify_content": null,
            "justify_items": null,
            "left": null,
            "margin": null,
            "max_height": null,
            "max_width": null,
            "min_height": null,
            "min_width": null,
            "object_fit": null,
            "object_position": null,
            "order": null,
            "overflow": null,
            "overflow_x": null,
            "overflow_y": null,
            "padding": null,
            "right": null,
            "top": null,
            "visibility": null,
            "width": null
          }
        },
        "1991b90803c544579b0a297e6f00249a": {
          "model_module": "@jupyter-widgets/controls",
          "model_name": "ProgressStyleModel",
          "model_module_version": "1.5.0",
          "state": {
            "_model_module": "@jupyter-widgets/controls",
            "_model_module_version": "1.5.0",
            "_model_name": "ProgressStyleModel",
            "_view_count": null,
            "_view_module": "@jupyter-widgets/base",
            "_view_module_version": "1.2.0",
            "_view_name": "StyleView",
            "bar_color": null,
            "description_width": ""
          }
        },
        "c4a75f3592e7407db2904244798770f2": {
          "model_module": "@jupyter-widgets/base",
          "model_name": "LayoutModel",
          "model_module_version": "1.2.0",
          "state": {
            "_model_module": "@jupyter-widgets/base",
            "_model_module_version": "1.2.0",
            "_model_name": "LayoutModel",
            "_view_count": null,
            "_view_module": "@jupyter-widgets/base",
            "_view_module_version": "1.2.0",
            "_view_name": "LayoutView",
            "align_content": null,
            "align_items": null,
            "align_self": null,
            "border": null,
            "bottom": null,
            "display": null,
            "flex": null,
            "flex_flow": null,
            "grid_area": null,
            "grid_auto_columns": null,
            "grid_auto_flow": null,
            "grid_auto_rows": null,
            "grid_column": null,
            "grid_gap": null,
            "grid_row": null,
            "grid_template_areas": null,
            "grid_template_columns": null,
            "grid_template_rows": null,
            "height": null,
            "justify_content": null,
            "justify_items": null,
            "left": null,
            "margin": null,
            "max_height": null,
            "max_width": null,
            "min_height": null,
            "min_width": null,
            "object_fit": null,
            "object_position": null,
            "order": null,
            "overflow": null,
            "overflow_x": null,
            "overflow_y": null,
            "padding": null,
            "right": null,
            "top": null,
            "visibility": null,
            "width": null
          }
        },
        "ce7ccae65a4b43c9ba5b9464943542ae": {
          "model_module": "@jupyter-widgets/controls",
          "model_name": "DescriptionStyleModel",
          "model_module_version": "1.5.0",
          "state": {
            "_model_module": "@jupyter-widgets/controls",
            "_model_module_version": "1.5.0",
            "_model_name": "DescriptionStyleModel",
            "_view_count": null,
            "_view_module": "@jupyter-widgets/base",
            "_view_module_version": "1.2.0",
            "_view_name": "StyleView",
            "description_width": ""
          }
        },
        "187a9f23de9641c297150fd5a308068e": {
          "model_module": "@jupyter-widgets/controls",
          "model_name": "HBoxModel",
          "model_module_version": "1.5.0",
          "state": {
            "_dom_classes": [],
            "_model_module": "@jupyter-widgets/controls",
            "_model_module_version": "1.5.0",
            "_model_name": "HBoxModel",
            "_view_count": null,
            "_view_module": "@jupyter-widgets/controls",
            "_view_module_version": "1.5.0",
            "_view_name": "HBoxView",
            "box_style": "",
            "children": [
              "IPY_MODEL_4fba94b3b10f4a1cba31d751464a19e3",
              "IPY_MODEL_b800185fecb3494899c958298576af5b",
              "IPY_MODEL_30d5b5b852544a178ed3c1f37e88270a"
            ],
            "layout": "IPY_MODEL_17db9d00fec441d89b91d5a9ace94ff5"
          }
        },
        "4fba94b3b10f4a1cba31d751464a19e3": {
          "model_module": "@jupyter-widgets/controls",
          "model_name": "HTMLModel",
          "model_module_version": "1.5.0",
          "state": {
            "_dom_classes": [],
            "_model_module": "@jupyter-widgets/controls",
            "_model_module_version": "1.5.0",
            "_model_name": "HTMLModel",
            "_view_count": null,
            "_view_module": "@jupyter-widgets/controls",
            "_view_module_version": "1.5.0",
            "_view_name": "HTMLView",
            "description": "",
            "description_tooltip": null,
            "layout": "IPY_MODEL_16fe8a2f15654d79bcef9c719f0a99a8",
            "placeholder": "​",
            "style": "IPY_MODEL_e5082fa8377f4d5690284a8a79a5d74e",
            "value": "Downloading (…)neration_config.json: 100%"
          }
        },
        "b800185fecb3494899c958298576af5b": {
          "model_module": "@jupyter-widgets/controls",
          "model_name": "FloatProgressModel",
          "model_module_version": "1.5.0",
          "state": {
            "_dom_classes": [],
            "_model_module": "@jupyter-widgets/controls",
            "_model_module_version": "1.5.0",
            "_model_name": "FloatProgressModel",
            "_view_count": null,
            "_view_module": "@jupyter-widgets/controls",
            "_view_module_version": "1.5.0",
            "_view_name": "ProgressView",
            "bar_style": "success",
            "description": "",
            "description_tooltip": null,
            "layout": "IPY_MODEL_2efd8fef731e4d65a82a420e4430745d",
            "max": 363,
            "min": 0,
            "orientation": "horizontal",
            "style": "IPY_MODEL_bc6df42769064c1985982baeb959e61d",
            "value": 363
          }
        },
        "30d5b5b852544a178ed3c1f37e88270a": {
          "model_module": "@jupyter-widgets/controls",
          "model_name": "HTMLModel",
          "model_module_version": "1.5.0",
          "state": {
            "_dom_classes": [],
            "_model_module": "@jupyter-widgets/controls",
            "_model_module_version": "1.5.0",
            "_model_name": "HTMLModel",
            "_view_count": null,
            "_view_module": "@jupyter-widgets/controls",
            "_view_module_version": "1.5.0",
            "_view_name": "HTMLView",
            "description": "",
            "description_tooltip": null,
            "layout": "IPY_MODEL_16131c18d8c04cf19808b4cc8387204f",
            "placeholder": "​",
            "style": "IPY_MODEL_da6a97404bbe4c8183c05bbc93b77560",
            "value": " 363/363 [00:00&lt;00:00, 19.1kB/s]"
          }
        },
        "17db9d00fec441d89b91d5a9ace94ff5": {
          "model_module": "@jupyter-widgets/base",
          "model_name": "LayoutModel",
          "model_module_version": "1.2.0",
          "state": {
            "_model_module": "@jupyter-widgets/base",
            "_model_module_version": "1.2.0",
            "_model_name": "LayoutModel",
            "_view_count": null,
            "_view_module": "@jupyter-widgets/base",
            "_view_module_version": "1.2.0",
            "_view_name": "LayoutView",
            "align_content": null,
            "align_items": null,
            "align_self": null,
            "border": null,
            "bottom": null,
            "display": null,
            "flex": null,
            "flex_flow": null,
            "grid_area": null,
            "grid_auto_columns": null,
            "grid_auto_flow": null,
            "grid_auto_rows": null,
            "grid_column": null,
            "grid_gap": null,
            "grid_row": null,
            "grid_template_areas": null,
            "grid_template_columns": null,
            "grid_template_rows": null,
            "height": null,
            "justify_content": null,
            "justify_items": null,
            "left": null,
            "margin": null,
            "max_height": null,
            "max_width": null,
            "min_height": null,
            "min_width": null,
            "object_fit": null,
            "object_position": null,
            "order": null,
            "overflow": null,
            "overflow_x": null,
            "overflow_y": null,
            "padding": null,
            "right": null,
            "top": null,
            "visibility": null,
            "width": null
          }
        },
        "16fe8a2f15654d79bcef9c719f0a99a8": {
          "model_module": "@jupyter-widgets/base",
          "model_name": "LayoutModel",
          "model_module_version": "1.2.0",
          "state": {
            "_model_module": "@jupyter-widgets/base",
            "_model_module_version": "1.2.0",
            "_model_name": "LayoutModel",
            "_view_count": null,
            "_view_module": "@jupyter-widgets/base",
            "_view_module_version": "1.2.0",
            "_view_name": "LayoutView",
            "align_content": null,
            "align_items": null,
            "align_self": null,
            "border": null,
            "bottom": null,
            "display": null,
            "flex": null,
            "flex_flow": null,
            "grid_area": null,
            "grid_auto_columns": null,
            "grid_auto_flow": null,
            "grid_auto_rows": null,
            "grid_column": null,
            "grid_gap": null,
            "grid_row": null,
            "grid_template_areas": null,
            "grid_template_columns": null,
            "grid_template_rows": null,
            "height": null,
            "justify_content": null,
            "justify_items": null,
            "left": null,
            "margin": null,
            "max_height": null,
            "max_width": null,
            "min_height": null,
            "min_width": null,
            "object_fit": null,
            "object_position": null,
            "order": null,
            "overflow": null,
            "overflow_x": null,
            "overflow_y": null,
            "padding": null,
            "right": null,
            "top": null,
            "visibility": null,
            "width": null
          }
        },
        "e5082fa8377f4d5690284a8a79a5d74e": {
          "model_module": "@jupyter-widgets/controls",
          "model_name": "DescriptionStyleModel",
          "model_module_version": "1.5.0",
          "state": {
            "_model_module": "@jupyter-widgets/controls",
            "_model_module_version": "1.5.0",
            "_model_name": "DescriptionStyleModel",
            "_view_count": null,
            "_view_module": "@jupyter-widgets/base",
            "_view_module_version": "1.2.0",
            "_view_name": "StyleView",
            "description_width": ""
          }
        },
        "2efd8fef731e4d65a82a420e4430745d": {
          "model_module": "@jupyter-widgets/base",
          "model_name": "LayoutModel",
          "model_module_version": "1.2.0",
          "state": {
            "_model_module": "@jupyter-widgets/base",
            "_model_module_version": "1.2.0",
            "_model_name": "LayoutModel",
            "_view_count": null,
            "_view_module": "@jupyter-widgets/base",
            "_view_module_version": "1.2.0",
            "_view_name": "LayoutView",
            "align_content": null,
            "align_items": null,
            "align_self": null,
            "border": null,
            "bottom": null,
            "display": null,
            "flex": null,
            "flex_flow": null,
            "grid_area": null,
            "grid_auto_columns": null,
            "grid_auto_flow": null,
            "grid_auto_rows": null,
            "grid_column": null,
            "grid_gap": null,
            "grid_row": null,
            "grid_template_areas": null,
            "grid_template_columns": null,
            "grid_template_rows": null,
            "height": null,
            "justify_content": null,
            "justify_items": null,
            "left": null,
            "margin": null,
            "max_height": null,
            "max_width": null,
            "min_height": null,
            "min_width": null,
            "object_fit": null,
            "object_position": null,
            "order": null,
            "overflow": null,
            "overflow_x": null,
            "overflow_y": null,
            "padding": null,
            "right": null,
            "top": null,
            "visibility": null,
            "width": null
          }
        },
        "bc6df42769064c1985982baeb959e61d": {
          "model_module": "@jupyter-widgets/controls",
          "model_name": "ProgressStyleModel",
          "model_module_version": "1.5.0",
          "state": {
            "_model_module": "@jupyter-widgets/controls",
            "_model_module_version": "1.5.0",
            "_model_name": "ProgressStyleModel",
            "_view_count": null,
            "_view_module": "@jupyter-widgets/base",
            "_view_module_version": "1.2.0",
            "_view_name": "StyleView",
            "bar_color": null,
            "description_width": ""
          }
        },
        "16131c18d8c04cf19808b4cc8387204f": {
          "model_module": "@jupyter-widgets/base",
          "model_name": "LayoutModel",
          "model_module_version": "1.2.0",
          "state": {
            "_model_module": "@jupyter-widgets/base",
            "_model_module_version": "1.2.0",
            "_model_name": "LayoutModel",
            "_view_count": null,
            "_view_module": "@jupyter-widgets/base",
            "_view_module_version": "1.2.0",
            "_view_name": "LayoutView",
            "align_content": null,
            "align_items": null,
            "align_self": null,
            "border": null,
            "bottom": null,
            "display": null,
            "flex": null,
            "flex_flow": null,
            "grid_area": null,
            "grid_auto_columns": null,
            "grid_auto_flow": null,
            "grid_auto_rows": null,
            "grid_column": null,
            "grid_gap": null,
            "grid_row": null,
            "grid_template_areas": null,
            "grid_template_columns": null,
            "grid_template_rows": null,
            "height": null,
            "justify_content": null,
            "justify_items": null,
            "left": null,
            "margin": null,
            "max_height": null,
            "max_width": null,
            "min_height": null,
            "min_width": null,
            "object_fit": null,
            "object_position": null,
            "order": null,
            "overflow": null,
            "overflow_x": null,
            "overflow_y": null,
            "padding": null,
            "right": null,
            "top": null,
            "visibility": null,
            "width": null
          }
        },
        "da6a97404bbe4c8183c05bbc93b77560": {
          "model_module": "@jupyter-widgets/controls",
          "model_name": "DescriptionStyleModel",
          "model_module_version": "1.5.0",
          "state": {
            "_model_module": "@jupyter-widgets/controls",
            "_model_module_version": "1.5.0",
            "_model_name": "DescriptionStyleModel",
            "_view_count": null,
            "_view_module": "@jupyter-widgets/base",
            "_view_module_version": "1.2.0",
            "_view_name": "StyleView",
            "description_width": ""
          }
        }
      }
    }
  },
  "nbformat": 4,
  "nbformat_minor": 0
}