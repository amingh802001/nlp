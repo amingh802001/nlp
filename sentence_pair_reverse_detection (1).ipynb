{
  "nbformat": 4,
  "nbformat_minor": 0,
  "metadata": {
    "colab": {
      "provenance": []
    },
    "kernelspec": {
      "name": "python3",
      "display_name": "Python 3"
    },
    "language_info": {
      "name": "python"
    }
  },
  "cells": [
    {
      "cell_type": "code",
      "source": [
        "from transformers import BertTokenizer, BertForSequenceClassification\n",
        "from torch.utils.data import DataLoader, Dataset\n",
        "import pandas as pd\n",
        "import torch.optim as optim\n",
        "import torch\n",
        "from tqdm import tqdm\n",
        "from sklearn.model_selection import train_test_split"
      ],
      "metadata": {
        "id": "xaGuF2CmUC5Q"
      },
      "execution_count": 24,
      "outputs": []
    },
    {
      "cell_type": "markdown",
      "source": [
        "# Data"
      ],
      "metadata": {
        "id": "gzapX7OdVSJx"
      }
    },
    {
      "cell_type": "code",
      "source": [
        "# create a dataset for feeding bert by concating two paragraphs\n",
        "\n",
        "class ParagraphDataset(Dataset):\n",
        "    def __init__(self, data, tokenizer, max_len):\n",
        "        self.data = data\n",
        "        self.tokenizer = tokenizer\n",
        "        self.max_len = max_len\n",
        "        self.label_dict = {'reverse':0, 'correct':1}\n",
        "\n",
        "    def __len__(self):\n",
        "        return len(self.data)\n",
        "\n",
        "    def __getitem__(self, idx):\n",
        "        row = self.data.iloc[idx]\n",
        "        paragraph1 = row['paragraph 1']\n",
        "        paragraph2 = row['paragraph 2']\n",
        "        label = self.label_dict[row['label']]\n",
        "\n",
        "        # Half the maximum length for each paragraph\n",
        "        half_max_len = self.max_len // 2\n",
        "\n",
        "        encoding_paragraph1 = self.tokenizer.encode_plus(\n",
        "            paragraph1,\n",
        "            add_special_tokens=True,\n",
        "            max_length=half_max_len,\n",
        "            return_token_type_ids=False,\n",
        "            padding='max_length',\n",
        "            return_attention_mask=True,\n",
        "            return_tensors='pt',\n",
        "            truncation=True\n",
        "        )\n",
        "\n",
        "        encoding_paragraph2 = self.tokenizer.encode_plus(\n",
        "            paragraph2,\n",
        "            add_special_tokens=True,\n",
        "            max_length=half_max_len,\n",
        "            return_token_type_ids=False,\n",
        "            padding='max_length',\n",
        "            return_attention_mask=True,\n",
        "            return_tensors='pt',\n",
        "            truncation=True\n",
        "        )\n",
        "\n",
        "        # Concatenate the encodings\n",
        "        input_ids = torch.cat([encoding_paragraph1['input_ids'], encoding_paragraph2['input_ids']], dim=-1)\n",
        "        attention_mask = torch.cat([encoding_paragraph1['attention_mask'], encoding_paragraph2['attention_mask']], dim=-1)\n",
        "\n",
        "        return {\n",
        "            'input_ids': input_ids.flatten(),\n",
        "            'attention_mask': attention_mask.flatten(),\n",
        "            'labels': torch.tensor(label, dtype=torch.long)\n",
        "        }"
      ],
      "metadata": {
        "id": "fhS-EKIiUIon"
      },
      "execution_count": 25,
      "outputs": []
    },
    {
      "cell_type": "code",
      "source": [
        "# bert model and tokenizer\n",
        "tokenizer = BertTokenizer.from_pretrained('bert-base-uncased')\n",
        "model = BertForSequenceClassification.from_pretrained('bert-base-uncased', num_labels=2)"
      ],
      "metadata": {
        "id": "o8mqYrV-UyxW"
      },
      "execution_count": null,
      "outputs": []
    },
    {
      "cell_type": "code",
      "source": [
        "max_len = 128\n",
        "batch_size = 16\n",
        "train_data = ParagraphDataset(pd.read_csv('train.csv'), tokenizer, max_len)\n",
        "val_data = ParagraphDataset(pd.read_csv('val.csv'), tokenizer, max_len)\n",
        "train_loader = DataLoader(train_data, batch_size=batch_size, shuffle=True)\n",
        "val_loader = DataLoader(val_data, batch_size=batch_size, shuffle=False)"
      ],
      "metadata": {
        "id": "guMNFFonU45f"
      },
      "execution_count": null,
      "outputs": []
    },
    {
      "cell_type": "markdown",
      "source": [
        "# Model and training"
      ],
      "metadata": {
        "id": "-XWlmNr7VVgP"
      }
    },
    {
      "cell_type": "code",
      "source": [
        "optimizer = optim.AdamW(model.parameters(), lr=1e-5)\n",
        "loss_fn = torch.nn.CrossEntropyLoss()\n",
        "device = torch.device('cuda' if torch.cuda.is_available() else 'cpu')\n",
        "model = model.to(device)"
      ],
      "metadata": {
        "id": "tDEYKmkUVJD5"
      },
      "execution_count": null,
      "outputs": []
    },
    {
      "cell_type": "code",
      "source": [
        "# Training loop\n",
        "num_epochs = 2\n",
        "for epoch in range(num_epochs):\n",
        "    model.train()\n",
        "    total_loss = 0\n",
        "    total_correct = 0\n",
        "    total = 0\n",
        "\n",
        "    for batch in tqdm(train_loader):\n",
        "        optimizer.zero_grad()\n",
        "        input_ids = batch['input_ids'].to(device)\n",
        "        attention_mask = batch['attention_mask'].to(device)\n",
        "        labels = batch['labels'].to(device)\n",
        "\n",
        "        outputs = model(input_ids=input_ids, attention_mask=attention_mask, labels=labels)\n",
        "        loss = outputs.loss\n",
        "        total_loss += loss.item()\n",
        "\n",
        "        _, preds = torch.max(outputs.logits, dim=1)\n",
        "        total_correct += (preds == labels).sum().item()\n",
        "        total += labels.size(0)\n",
        "\n",
        "        loss.backward()\n",
        "        optimizer.step()\n",
        "\n",
        "    avg_loss = total_loss / len(train_loader)\n",
        "    accuracy = total_correct / total\n",
        "    print(f\"Train Epoch: {epoch+1}, Loss: {avg_loss:.4f}, Accuracy: {accuracy:.4f}\")"
      ],
      "metadata": {
        "id": "SjFZt89NVOCY"
      },
      "execution_count": null,
      "outputs": []
    },
    {
      "cell_type": "markdown",
      "source": [
        "# Prediction"
      ],
      "metadata": {
        "id": "zNL_I_XgWESY"
      }
    },
    {
      "cell_type": "code",
      "source": [
        "test_data = ParagraphDataset(pd.read_csv('test.csv'), tokenizer, max_len)\n",
        "test_loader = DataLoader(test_data, batch_size=batch_size, shuffle=False)"
      ],
      "metadata": {
        "id": "uytkBwfOWDL_"
      },
      "execution_count": null,
      "outputs": []
    },
    {
      "cell_type": "code",
      "source": [
        "test_output = []\n",
        "for batch in test_loader:\n",
        "    with torch.no_grad():\n",
        "        input_ids = batch['input_ids'].to(device)\n",
        "        attention_mask = batch['attention_mask'].to(device)\n",
        "        labels = batch['labels'].to(device)\n",
        "\n",
        "        outputs = model(input_ids=input_ids, attention_mask=attention_mask, labels=labels)\n",
        "        val_loss = outputs.loss\n",
        "        total_val_loss += val_loss.item()\n",
        "\n",
        "        _, val_preds = torch.max(outputs.logits, dim=1)\n",
        "        test_output = test_output +  list(torch.unbind(val_preds))\n",
        "        total_val_correct += (val_preds == labels).sum().item()\n",
        "        total_val += labels.size(0)\n",
        "\n",
        "avg_val_loss = total_val_loss / len(val_loader)\n",
        "val_accuracy = total_val_correct / total_val\n",
        "print(f\"Val Epoch: {epoch+1}, Loss: {avg_val_loss:.4f}, Accuracy: {val_accuracy:.4f}\")"
      ],
      "metadata": {
        "id": "YO-Xrw6-WfrS"
      },
      "execution_count": null,
      "outputs": []
    }
  ]
}