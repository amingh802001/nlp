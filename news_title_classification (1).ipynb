{
  "nbformat": 4,
  "nbformat_minor": 0,
  "metadata": {
    "colab": {
      "provenance": []
    },
    "kernelspec": {
      "name": "python3",
      "display_name": "Python 3"
    },
    "language_info": {
      "name": "python"
    }
  },
  "cells": [
    {
      "cell_type": "code",
      "source": [
        "import pandas as pd\n",
        "from sklearn import naive_bayes\n",
        "from sklearn.feature_extraction.text import TfidfVectorizer"
      ],
      "metadata": {
        "id": "P9f9OU58RRyL"
      },
      "execution_count": 22,
      "outputs": []
    },
    {
      "cell_type": "code",
      "source": [
        "df_train = pd.read_csv(\"train.csv\").fillna('')\n",
        "df_test = pd.read_csv(\"test.csv\").fillna('')"
      ],
      "metadata": {
        "id": "3qCLlHRISyDt"
      },
      "execution_count": null,
      "outputs": []
    },
    {
      "cell_type": "code",
      "source": [
        "df_train['merged'] = df_train['title'] +\" \"+ df_train['abstract'] +\" \"+ df_train['body']\n",
        "df_train['embedding'] = df_train['merged'].apply(str)\n",
        "\n",
        "df_test['merged'] = df_test['title'] +\" \"+ df_test['abstract'] +\" \"+ df_test['body']\n",
        "df_test['embedding'] = df_test['merged'].apply(str)"
      ],
      "metadata": {
        "id": "c6yOutYeS1ij"
      },
      "execution_count": null,
      "outputs": []
    },
    {
      "cell_type": "code",
      "source": [
        "Train_X = df_train['embedding']\n",
        "Train_Y = df_train['subgroup']\n",
        "\n",
        "Test_X = df_test['embedding']"
      ],
      "metadata": {
        "id": "zHluEUtaS6B0"
      },
      "execution_count": null,
      "outputs": []
    },
    {
      "cell_type": "code",
      "source": [
        "df_temp = pd.concat([Train_X,Train_Y])\n",
        "\n",
        "Tfidf_vect = TfidfVectorizer(max_features=10000)\n",
        "Tfidf_vect.fit(df_temp)\n",
        "Train_X_Tfidf = Tfidf_vect.transform(Train_X)\n",
        "Test_X_Tfidf = Tfidf_vect.transform(Test_X)"
      ],
      "metadata": {
        "id": "BpbXBIQKS8bY"
      },
      "execution_count": null,
      "outputs": []
    },
    {
      "cell_type": "code",
      "source": [
        "print(Tfidf_vect.vocabulary_)"
      ],
      "metadata": {
        "id": "m54bj4y-S-Lf"
      },
      "execution_count": null,
      "outputs": []
    },
    {
      "cell_type": "code",
      "source": [
        "# fit the training dataset on the NB classifier\n",
        "Naive = naive_bayes.MultinomialNB()\n",
        "Naive.fit(Train_X_Tfidf,Train_Y)\n",
        "\n",
        "# predict the labels on validation dataset\n",
        "predictions_NB = Naive.predict(Test_X_Tfidf)"
      ],
      "metadata": {
        "id": "uM4MaPtRTBHK"
      },
      "execution_count": null,
      "outputs": []
    },
    {
      "cell_type": "code",
      "source": [
        "df = pd.DataFrame(predictions_NB, columns=['subgroup'])"
      ],
      "metadata": {
        "id": "bCIZc2JJTEF8"
      },
      "execution_count": null,
      "outputs": []
    },
    {
      "cell_type": "code",
      "source": [
        "df.subgroup.to_csv(\"output.csv\",index=False)"
      ],
      "metadata": {
        "id": "0KmIl1K0TFuf"
      },
      "execution_count": null,
      "outputs": []
    }
  ]
}