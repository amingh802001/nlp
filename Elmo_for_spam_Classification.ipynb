{
  "cells": [
    {
      "cell_type": "code",
      "source": [
        "import tensorflow.compat.v1 as tf\n",
        "import tensorflow_hub as hub\n",
        "\n",
        "tf.compat.v1.disable_eager_execution()"
      ],
      "metadata": {
        "id": "6FGj86vgKB9T"
      },
      "execution_count": null,
      "outputs": []
    },
    {
      "cell_type": "markdown",
      "source": [
        "# Elmo in a model"
      ],
      "metadata": {
        "id": "v_a3op09WBpB"
      }
    },
    {
      "cell_type": "code",
      "source": [
        "from tensorflow import keras\n",
        "from keras import Model\n",
        "from keras.layers import Input, Lambda, Dense, LSTM\n",
        "import keras.backend as K"
      ],
      "metadata": {
        "id": "972r4aQfKmZ1"
      },
      "execution_count": null,
      "outputs": []
    },
    {
      "cell_type": "code",
      "source": [
        "url= \"http://tfhub.dev/google/elmo/3\"\n",
        "embed= hub.Module(url, trainable= False)"
      ],
      "metadata": {
        "id": "8oK2s7-DL30b"
      },
      "execution_count": null,
      "outputs": []
    },
    {
      "cell_type": "code",
      "source": [
        "max_len= 100\n",
        "batch_size= 30"
      ],
      "metadata": {
        "id": "buZWinmjT1dN"
      },
      "execution_count": null,
      "outputs": []
    },
    {
      "cell_type": "code",
      "source": [
        "def ELMOEmbedding(x):\n",
        "  return embed(inputs=\n",
        "   {\"tokens\":tf.squeeze(tf.cast(x, tf.string)),\n",
        "    \"sequence_len\": tf.constant(batch_size*[max_len])\n",
        "   },\n",
        "    signature= \"tokens\",\n",
        "    as_dict= True)['elmo']"
      ],
      "metadata": {
        "id": "wKhfwu9tKuiY"
      },
      "execution_count": null,
      "outputs": []
    },
    {
      "cell_type": "code",
      "source": [
        "input_text= Input(shape=(max_len,), dtype= tf.string)\n",
        "embedding= Lambda(ELMOEmbedding, output_shape= (max_len, 1024))(input_text)\n",
        "lstm= LSTM(units= 128, return_sequences= True, recurrent_dropout= 0.2, dropout= 0.2)(embedding)\n",
        "dense= Dense(1, activation= 'sigmoid')(lstm)\n",
        "model= Model(inputs=[input_text], outputs= dense)"
      ],
      "metadata": {
        "id": "1cGiaNOZK9CP"
      },
      "execution_count": null,
      "outputs": []
    },
    {
      "cell_type": "code",
      "source": [
        "model.summary()"
      ],
      "metadata": {
        "id": "4TblMiRPLi8O",
        "colab": {
          "base_uri": "https://localhost:8080/"
        },
        "outputId": "842d782e-9a18-441b-9d65-3f3be20eb1df"
      },
      "execution_count": null,
      "outputs": [
        {
          "output_type": "stream",
          "name": "stdout",
          "text": [
            "Model: \"model\"\n",
            "_________________________________________________________________\n",
            " Layer (type)                Output Shape              Param #   \n",
            "=================================================================\n",
            " input_1 (InputLayer)        [(None, 100)]             0         \n",
            "                                                                 \n",
            " lambda (Lambda)             (30, None, 1024)          0         \n",
            "                                                                 \n",
            " lstm (LSTM)                 (30, None, 128)           590336    \n",
            "                                                                 \n",
            " dense (Dense)               (30, None, 1)             129       \n",
            "                                                                 \n",
            "=================================================================\n",
            "Total params: 590,465\n",
            "Trainable params: 590,465\n",
            "Non-trainable params: 0\n",
            "_________________________________________________________________\n"
          ]
        }
      ]
    },
    {
      "cell_type": "markdown",
      "source": [
        "# Elmo for spam Classification"
      ],
      "metadata": {
        "id": "XIFMitGR2CK5"
      }
    },
    {
      "cell_type": "code",
      "source": [
        "import pandas as pd"
      ],
      "metadata": {
        "id": "wPZ6RV5-yB3J"
      },
      "execution_count": null,
      "outputs": []
    },
    {
      "cell_type": "code",
      "source": [
        "data= pd.read_csv('spam.csv', encoding=\"latin-1\")"
      ],
      "metadata": {
        "id": "Z80jJGBEwAw0"
      },
      "execution_count": null,
      "outputs": []
    },
    {
      "cell_type": "code",
      "source": [
        "data.head()"
      ],
      "metadata": {
        "id": "sFS5vuMLy490",
        "colab": {
          "base_uri": "https://localhost:8080/",
          "height": 206
        },
        "outputId": "6cfdf04a-4b83-403f-8a80-9b6a3bae0ace"
      },
      "execution_count": null,
      "outputs": [
        {
          "output_type": "execute_result",
          "data": {
            "text/plain": [
              "     v1                                                 v2 Unnamed: 2  \\\n",
              "0   ham  Go until jurong point, crazy.. Available only ...        NaN   \n",
              "1   ham                      Ok lar... Joking wif u oni...        NaN   \n",
              "2  spam  Free entry in 2 a wkly comp to win FA Cup fina...        NaN   \n",
              "3   ham  U dun say so early hor... U c already then say...        NaN   \n",
              "4   ham  Nah I don't think he goes to usf, he lives aro...        NaN   \n",
              "\n",
              "  Unnamed: 3 Unnamed: 4  \n",
              "0        NaN        NaN  \n",
              "1        NaN        NaN  \n",
              "2        NaN        NaN  \n",
              "3        NaN        NaN  \n",
              "4        NaN        NaN  "
            ],
            "text/html": [
              "\n",
              "\n",
              "  <div id=\"df-f7eba2d9-df13-4156-b1fe-25819feea1de\">\n",
              "    <div class=\"colab-df-container\">\n",
              "      <div>\n",
              "<style scoped>\n",
              "    .dataframe tbody tr th:only-of-type {\n",
              "        vertical-align: middle;\n",
              "    }\n",
              "\n",
              "    .dataframe tbody tr th {\n",
              "        vertical-align: top;\n",
              "    }\n",
              "\n",
              "    .dataframe thead th {\n",
              "        text-align: right;\n",
              "    }\n",
              "</style>\n",
              "<table border=\"1\" class=\"dataframe\">\n",
              "  <thead>\n",
              "    <tr style=\"text-align: right;\">\n",
              "      <th></th>\n",
              "      <th>v1</th>\n",
              "      <th>v2</th>\n",
              "      <th>Unnamed: 2</th>\n",
              "      <th>Unnamed: 3</th>\n",
              "      <th>Unnamed: 4</th>\n",
              "    </tr>\n",
              "  </thead>\n",
              "  <tbody>\n",
              "    <tr>\n",
              "      <th>0</th>\n",
              "      <td>ham</td>\n",
              "      <td>Go until jurong point, crazy.. Available only ...</td>\n",
              "      <td>NaN</td>\n",
              "      <td>NaN</td>\n",
              "      <td>NaN</td>\n",
              "    </tr>\n",
              "    <tr>\n",
              "      <th>1</th>\n",
              "      <td>ham</td>\n",
              "      <td>Ok lar... Joking wif u oni...</td>\n",
              "      <td>NaN</td>\n",
              "      <td>NaN</td>\n",
              "      <td>NaN</td>\n",
              "    </tr>\n",
              "    <tr>\n",
              "      <th>2</th>\n",
              "      <td>spam</td>\n",
              "      <td>Free entry in 2 a wkly comp to win FA Cup fina...</td>\n",
              "      <td>NaN</td>\n",
              "      <td>NaN</td>\n",
              "      <td>NaN</td>\n",
              "    </tr>\n",
              "    <tr>\n",
              "      <th>3</th>\n",
              "      <td>ham</td>\n",
              "      <td>U dun say so early hor... U c already then say...</td>\n",
              "      <td>NaN</td>\n",
              "      <td>NaN</td>\n",
              "      <td>NaN</td>\n",
              "    </tr>\n",
              "    <tr>\n",
              "      <th>4</th>\n",
              "      <td>ham</td>\n",
              "      <td>Nah I don't think he goes to usf, he lives aro...</td>\n",
              "      <td>NaN</td>\n",
              "      <td>NaN</td>\n",
              "      <td>NaN</td>\n",
              "    </tr>\n",
              "  </tbody>\n",
              "</table>\n",
              "</div>\n",
              "      <button class=\"colab-df-convert\" onclick=\"convertToInteractive('df-f7eba2d9-df13-4156-b1fe-25819feea1de')\"\n",
              "              title=\"Convert this dataframe to an interactive table.\"\n",
              "              style=\"display:none;\">\n",
              "\n",
              "  <svg xmlns=\"http://www.w3.org/2000/svg\" height=\"24px\"viewBox=\"0 0 24 24\"\n",
              "       width=\"24px\">\n",
              "    <path d=\"M0 0h24v24H0V0z\" fill=\"none\"/>\n",
              "    <path d=\"M18.56 5.44l.94 2.06.94-2.06 2.06-.94-2.06-.94-.94-2.06-.94 2.06-2.06.94zm-11 1L8.5 8.5l.94-2.06 2.06-.94-2.06-.94L8.5 2.5l-.94 2.06-2.06.94zm10 10l.94 2.06.94-2.06 2.06-.94-2.06-.94-.94-2.06-.94 2.06-2.06.94z\"/><path d=\"M17.41 7.96l-1.37-1.37c-.4-.4-.92-.59-1.43-.59-.52 0-1.04.2-1.43.59L10.3 9.45l-7.72 7.72c-.78.78-.78 2.05 0 2.83L4 21.41c.39.39.9.59 1.41.59.51 0 1.02-.2 1.41-.59l7.78-7.78 2.81-2.81c.8-.78.8-2.07 0-2.86zM5.41 20L4 18.59l7.72-7.72 1.47 1.35L5.41 20z\"/>\n",
              "  </svg>\n",
              "      </button>\n",
              "\n",
              "\n",
              "\n",
              "    <div id=\"df-f5ac28b2-a62a-4c5c-b831-9f82dec7127d\">\n",
              "      <button class=\"colab-df-quickchart\" onclick=\"quickchart('df-f5ac28b2-a62a-4c5c-b831-9f82dec7127d')\"\n",
              "              title=\"Suggest charts.\"\n",
              "              style=\"display:none;\">\n",
              "\n",
              "<svg xmlns=\"http://www.w3.org/2000/svg\" height=\"24px\"viewBox=\"0 0 24 24\"\n",
              "     width=\"24px\">\n",
              "    <g>\n",
              "        <path d=\"M19 3H5c-1.1 0-2 .9-2 2v14c0 1.1.9 2 2 2h14c1.1 0 2-.9 2-2V5c0-1.1-.9-2-2-2zM9 17H7v-7h2v7zm4 0h-2V7h2v10zm4 0h-2v-4h2v4z\"/>\n",
              "    </g>\n",
              "</svg>\n",
              "      </button>\n",
              "    </div>\n",
              "\n",
              "<style>\n",
              "  .colab-df-quickchart {\n",
              "    background-color: #E8F0FE;\n",
              "    border: none;\n",
              "    border-radius: 50%;\n",
              "    cursor: pointer;\n",
              "    display: none;\n",
              "    fill: #1967D2;\n",
              "    height: 32px;\n",
              "    padding: 0 0 0 0;\n",
              "    width: 32px;\n",
              "  }\n",
              "\n",
              "  .colab-df-quickchart:hover {\n",
              "    background-color: #E2EBFA;\n",
              "    box-shadow: 0px 1px 2px rgba(60, 64, 67, 0.3), 0px 1px 3px 1px rgba(60, 64, 67, 0.15);\n",
              "    fill: #174EA6;\n",
              "  }\n",
              "\n",
              "  [theme=dark] .colab-df-quickchart {\n",
              "    background-color: #3B4455;\n",
              "    fill: #D2E3FC;\n",
              "  }\n",
              "\n",
              "  [theme=dark] .colab-df-quickchart:hover {\n",
              "    background-color: #434B5C;\n",
              "    box-shadow: 0px 1px 3px 1px rgba(0, 0, 0, 0.15);\n",
              "    filter: drop-shadow(0px 1px 2px rgba(0, 0, 0, 0.3));\n",
              "    fill: #FFFFFF;\n",
              "  }\n",
              "</style>\n",
              "\n",
              "    <script>\n",
              "      async function quickchart(key) {\n",
              "        const containerElement = document.querySelector('#' + key);\n",
              "        const charts = await google.colab.kernel.invokeFunction(\n",
              "            'suggestCharts', [key], {});\n",
              "      }\n",
              "    </script>\n",
              "\n",
              "      <script>\n",
              "\n",
              "function displayQuickchartButton(domScope) {\n",
              "  let quickchartButtonEl =\n",
              "    domScope.querySelector('#df-f5ac28b2-a62a-4c5c-b831-9f82dec7127d button.colab-df-quickchart');\n",
              "  quickchartButtonEl.style.display =\n",
              "    google.colab.kernel.accessAllowed ? 'block' : 'none';\n",
              "}\n",
              "\n",
              "        displayQuickchartButton(document);\n",
              "      </script>\n",
              "      <style>\n",
              "    .colab-df-container {\n",
              "      display:flex;\n",
              "      flex-wrap:wrap;\n",
              "      gap: 12px;\n",
              "    }\n",
              "\n",
              "    .colab-df-convert {\n",
              "      background-color: #E8F0FE;\n",
              "      border: none;\n",
              "      border-radius: 50%;\n",
              "      cursor: pointer;\n",
              "      display: none;\n",
              "      fill: #1967D2;\n",
              "      height: 32px;\n",
              "      padding: 0 0 0 0;\n",
              "      width: 32px;\n",
              "    }\n",
              "\n",
              "    .colab-df-convert:hover {\n",
              "      background-color: #E2EBFA;\n",
              "      box-shadow: 0px 1px 2px rgba(60, 64, 67, 0.3), 0px 1px 3px 1px rgba(60, 64, 67, 0.15);\n",
              "      fill: #174EA6;\n",
              "    }\n",
              "\n",
              "    [theme=dark] .colab-df-convert {\n",
              "      background-color: #3B4455;\n",
              "      fill: #D2E3FC;\n",
              "    }\n",
              "\n",
              "    [theme=dark] .colab-df-convert:hover {\n",
              "      background-color: #434B5C;\n",
              "      box-shadow: 0px 1px 3px 1px rgba(0, 0, 0, 0.15);\n",
              "      filter: drop-shadow(0px 1px 2px rgba(0, 0, 0, 0.3));\n",
              "      fill: #FFFFFF;\n",
              "    }\n",
              "  </style>\n",
              "\n",
              "      <script>\n",
              "        const buttonEl =\n",
              "          document.querySelector('#df-f7eba2d9-df13-4156-b1fe-25819feea1de button.colab-df-convert');\n",
              "        buttonEl.style.display =\n",
              "          google.colab.kernel.accessAllowed ? 'block' : 'none';\n",
              "\n",
              "        async function convertToInteractive(key) {\n",
              "          const element = document.querySelector('#df-f7eba2d9-df13-4156-b1fe-25819feea1de');\n",
              "          const dataTable =\n",
              "            await google.colab.kernel.invokeFunction('convertToInteractive',\n",
              "                                                     [key], {});\n",
              "          if (!dataTable) return;\n",
              "\n",
              "          const docLinkHtml = 'Like what you see? Visit the ' +\n",
              "            '<a target=\"_blank\" href=https://colab.research.google.com/notebooks/data_table.ipynb>data table notebook</a>'\n",
              "            + ' to learn more about interactive tables.';\n",
              "          element.innerHTML = '';\n",
              "          dataTable['output_type'] = 'display_data';\n",
              "          await google.colab.output.renderOutput(dataTable, element);\n",
              "          const docLink = document.createElement('div');\n",
              "          docLink.innerHTML = docLinkHtml;\n",
              "          element.appendChild(docLink);\n",
              "        }\n",
              "      </script>\n",
              "    </div>\n",
              "  </div>\n"
            ]
          },
          "metadata": {},
          "execution_count": 11
        }
      ]
    },
    {
      "cell_type": "code",
      "source": [
        "y= list(data['v1'])\n",
        "x= list(data['v2'])"
      ],
      "metadata": {
        "id": "uwxlz3-0ydYb"
      },
      "execution_count": null,
      "outputs": []
    },
    {
      "cell_type": "code",
      "source": [
        "from sklearn import preprocessing\n",
        "import numpy as np"
      ],
      "metadata": {
        "id": "Ey-YI2zqzeGX"
      },
      "execution_count": null,
      "outputs": []
    },
    {
      "cell_type": "code",
      "source": [
        "le= preprocessing.LabelEncoder()\n",
        "le.fit(y)\n",
        "le.classes_\n",
        "le.transform([y[0]])"
      ],
      "metadata": {
        "id": "6CBcHVkEywmq",
        "colab": {
          "base_uri": "https://localhost:8080/"
        },
        "outputId": "9dbd3b08-ea2f-43a2-970d-51d99455379f"
      },
      "execution_count": null,
      "outputs": [
        {
          "output_type": "execute_result",
          "data": {
            "text/plain": [
              "array([0])"
            ]
          },
          "metadata": {},
          "execution_count": 14
        }
      ]
    },
    {
      "cell_type": "code",
      "source": [
        "def encode(le, labels):\n",
        "  enc= le.transform(labels)\n",
        "  return keras.utils.to_categorical(enc)\n",
        "\n",
        "def decode(le, one_hot):\n",
        "  dec= np.argmax(one_hot, axis=1)\n",
        "  return le.inverse_transform(dec)"
      ],
      "metadata": {
        "id": "WMRhpKqwzXq0"
      },
      "execution_count": null,
      "outputs": []
    },
    {
      "cell_type": "code",
      "source": [
        "test= encode(le, ['ham','spam','ham'])\n",
        "print(test)\n",
        "dec_test= decode(le, test)\n",
        "print(dec_test)"
      ],
      "metadata": {
        "id": "ZwrcQGz60grG",
        "colab": {
          "base_uri": "https://localhost:8080/"
        },
        "outputId": "2918b11f-31e5-41b5-969a-51f02b8c549d"
      },
      "execution_count": null,
      "outputs": [
        {
          "output_type": "stream",
          "name": "stdout",
          "text": [
            "[[1. 0.]\n",
            " [0. 1.]\n",
            " [1. 0.]]\n",
            "['ham' 'spam' 'ham']\n"
          ]
        }
      ]
    },
    {
      "cell_type": "code",
      "source": [
        "print(x[0])"
      ],
      "metadata": {
        "id": "dqRh_3lX1KKR",
        "colab": {
          "base_uri": "https://localhost:8080/"
        },
        "outputId": "5e1a8315-26c4-4acd-88ab-027495329655"
      },
      "execution_count": null,
      "outputs": [
        {
          "output_type": "stream",
          "name": "stdout",
          "text": [
            "Go until jurong point, crazy.. Available only in bugis n great world la e buffet... Cine there got amore wat...\n"
          ]
        }
      ]
    },
    {
      "cell_type": "code",
      "source": [
        "x_enc= x #cuz using elmo\n",
        "y_enc= encode(le, y)\n",
        "\n",
        "x_train= np.array(x_enc[:5000])\n",
        "y_train= np.array(y_enc[:5000])\n",
        "\n",
        "x_test= np.array(x_enc[5000:])\n",
        "y_test= np.array(y_enc[5000:])"
      ],
      "metadata": {
        "id": "lPE9OAGr0y3N"
      },
      "execution_count": null,
      "outputs": []
    },
    {
      "cell_type": "code",
      "source": [
        "# Sentence Representation\n",
        "\n",
        "def ELMOEmbed(x):\n",
        "  return embed(inputs=\n",
        "    tf.squeeze(tf.cast(x, tf.string)),\n",
        "    signature= \"default\",\n",
        "    as_dict= True)['default']"
      ],
      "metadata": {
        "id": "FrmSrrh0x08Z"
      },
      "execution_count": null,
      "outputs": []
    },
    {
      "cell_type": "code",
      "source": [
        "from keras.layers import Input, Lambda, Dense\n",
        "from keras.models import Model\n",
        "import keras.backend as K"
      ],
      "metadata": {
        "id": "1P4HK9UQ1f64"
      },
      "execution_count": null,
      "outputs": []
    },
    {
      "cell_type": "code",
      "source": [
        "input= Input(shape=(None, ), dtype= tf.string)\n",
        "x= Lambda(ELMOEmbed, output_shape= (None, 1024))(input)\n",
        "x= Dense(128, activation= 'relu')(x)\n",
        "pred= Dense(2, activation= 'softmax')(x)\n",
        "\n",
        "model= Model(inputs= [input], outputs= pred)\n",
        "model.compile(loss= 'categorical_crossentropy', optimizer= 'adam', metrics= ['accuracy'])"
      ],
      "metadata": {
        "id": "w2VSJn7GyvN2"
      },
      "execution_count": null,
      "outputs": []
    },
    {
      "cell_type": "code",
      "source": [
        "# Input to ELMO Embedding layer is string\n",
        "# Input for labels is a one_hot vector\n",
        "\n",
        "print(x_train[0])\n",
        "print(y_train[0])"
      ],
      "metadata": {
        "id": "SdDIDurW0wdJ",
        "colab": {
          "base_uri": "https://localhost:8080/"
        },
        "outputId": "167fd5cb-da21-424f-c28c-00c37315732c"
      },
      "execution_count": null,
      "outputs": [
        {
          "output_type": "stream",
          "name": "stdout",
          "text": [
            "Go until jurong point, crazy.. Available only in bugis n great world la e buffet... Cine there got amore wat...\n",
            "[1. 0.]\n"
          ]
        }
      ]
    },
    {
      "cell_type": "code",
      "source": [
        "with tf.Session() as session:\n",
        "  K.set_session(session)\n",
        "  #Sets up our model\n",
        "  session.run(tf.global_variables_initializer())\n",
        "  session.run(tf.tables_initializer())\n",
        "  history= model.fit(x_train, y_train, epochs=1, batch_size= 32)\n",
        "  # Give a path to Save the model Weights\n",
        "  model.save_weights('./elmo_for_email_spam.h5')"
      ],
      "metadata": {
        "colab": {
          "base_uri": "https://localhost:8080/"
        },
        "id": "Y53eJc_nzyyx",
        "outputId": "ce4a302e-90f2-488c-8cc3-1b4dfebba39b"
      },
      "execution_count": null,
      "outputs": [
        {
          "output_type": "stream",
          "name": "stdout",
          "text": [
            "Train on 5000 samples\n",
            "3712/5000 [=====================>........] - ETA: 6:30 - loss: 0.1037 - accuracy: 0.9591"
          ]
        }
      ]
    },
    {
      "cell_type": "code",
      "source": [
        "# Prediction\n",
        "\n",
        "predicts= model.predict(x_test, batch_size= 32)\n",
        "y_test= decode(le, y_test)\n",
        "y_preds= decode(le, predicts)\n",
        "print(y_preds)"
      ],
      "metadata": {
        "id": "dIacHkYz2XEf"
      },
      "execution_count": null,
      "outputs": []
    },
    {
      "cell_type": "markdown",
      "source": [
        "# Shakespear Dataset"
      ],
      "metadata": {
        "id": "SLhhXcwjylXW"
      }
    },
    {
      "cell_type": "code",
      "source": [
        "! pip install datasets"
      ],
      "metadata": {
        "id": "iFx_Dqkf1De_"
      },
      "execution_count": null,
      "outputs": []
    },
    {
      "cell_type": "code",
      "source": [
        "import os\n",
        "import requests\n",
        "\n",
        "# download the data and manually split it into two train and test sets  or other wise use directly\n",
        "\n",
        "file_name = \"shakespeare.txt\"\n",
        "if not os.path.isfile(file_name):\n",
        "\turl = \"https://raw.githubusercontent.com/karpathy/char-rnn/master/data/tinyshakespeare/input.txt\"\n",
        "\tdata = requests.get(url)\n",
        "\n",
        "\twith open(file_name, 'w') as f:\n",
        "\t\tf.write(data.text)"
      ],
      "metadata": {
        "id": "o1CXHIjJ1G08"
      },
      "execution_count": null,
      "outputs": []
    },
    {
      "cell_type": "code",
      "source": [
        "with open(file_name) as f:\n",
        "  lines= f.readlines()\n"
      ],
      "metadata": {
        "id": "_2w6nhRQ1Z-E"
      },
      "execution_count": null,
      "outputs": []
    },
    {
      "cell_type": "code",
      "source": [
        "t= 'this is a fuckign joke'\n",
        "t= t.split(' ')\n",
        "t= str.join(' ', t)\n",
        "print(t)"
      ],
      "metadata": {
        "colab": {
          "base_uri": "https://localhost:8080/"
        },
        "id": "5QM0XIZ_7O-p",
        "outputId": "890a5276-db5d-4e3c-8237-62aa9544ad73"
      },
      "execution_count": null,
      "outputs": [
        {
          "output_type": "stream",
          "name": "stdout",
          "text": [
            "this is a fuckign joke\n"
          ]
        }
      ]
    },
    {
      "cell_type": "code",
      "source": [
        "# Preprocessing\n",
        "\n",
        "for line in lines:\n",
        "  line= line.split(' ')\n",
        "  line= str.join(' ', line)\n"
      ],
      "metadata": {
        "id": "OyJOEH877JQ4"
      },
      "execution_count": null,
      "outputs": []
    },
    {
      "cell_type": "code",
      "source": [
        "import tensorflow as tf\n",
        "import tensorflow_hub as hub\n",
        "from tensorflow.keras.preprocessing.text import Tokenizer\n",
        "from tensorflow.keras.preprocessing.sequence import pad_sequences\n",
        "from tensorflow.keras.layers import Input, LSTM, Dense, Embedding, Concatenate, TimeDistributed, Bidirectional\n",
        "from tensorflow.keras.models import Model\n",
        "\n",
        "# Load the Shakespeare dataset\n",
        "with open('shakespeare.txt', 'r') as f:\n",
        "    text = f.read()\n",
        "\n",
        "\n"
      ],
      "metadata": {
        "id": "4hkXp4EZI2JP"
      },
      "execution_count": null,
      "outputs": []
    },
    {
      "cell_type": "code",
      "source": [
        "with open(file_name) as f:\n",
        "  text= f.readlines()"
      ],
      "metadata": {
        "id": "sQakGMZXOJ4x"
      },
      "execution_count": null,
      "outputs": []
    },
    {
      "cell_type": "code",
      "source": [
        "print(text[:10])"
      ],
      "metadata": {
        "colab": {
          "base_uri": "https://localhost:8080/"
        },
        "id": "6sp5qlbAPvyv",
        "outputId": "aeabe227-419a-4345-dce5-2f5cb1c71bb4"
      },
      "execution_count": null,
      "outputs": [
        {
          "output_type": "stream",
          "name": "stdout",
          "text": [
            "['First Citizen:\\n', 'Before we proceed any further, hear me speak.\\n', '\\n', 'All:\\n', 'Speak, speak.\\n', '\\n', 'First Citizen:\\n', 'You are all resolved rather to die than to famish?\\n', '\\n', 'All:\\n']\n"
          ]
        }
      ]
    },
    {
      "cell_type": "code",
      "source": [
        "# Preprocess the data\n",
        "tokenizer = Tokenizer(filters='')\n",
        "tokenizer.fit_on_texts([text])\n",
        "sequences = tokenizer.texts_to_sequences([text])[0]"
      ],
      "metadata": {
        "id": "Hi4ktyucOEXr"
      },
      "execution_count": null,
      "outputs": []
    },
    {
      "cell_type": "code",
      "source": [
        "print(len(sequences))"
      ],
      "metadata": {
        "colab": {
          "base_uri": "https://localhost:8080/"
        },
        "id": "kU3U1rJgO98a",
        "outputId": "6ebeaa90-dd55-4b1d-b769-1f66a3558022"
      },
      "execution_count": null,
      "outputs": [
        {
          "output_type": "stream",
          "name": "stdout",
          "text": [
            "40000\n"
          ]
        }
      ]
    },
    {
      "cell_type": "code",
      "source": [
        "max_len = max([len(seq) for seq in sequences])\n",
        "vocab_size = len(tokenizer.word_index) + 1\n",
        "data = pad_sequences(sequences, maxlen=max_len, padding='post')"
      ],
      "metadata": {
        "id": "WDrsMgQxO8jQ"
      },
      "execution_count": null,
      "outputs": []
    },
    {
      "cell_type": "code",
      "source": [],
      "metadata": {
        "id": "5qUwtlWKNW1O"
      },
      "execution_count": null,
      "outputs": []
    },
    {
      "cell_type": "markdown",
      "source": [
        "# Yelp"
      ],
      "metadata": {
        "id": "fXE95_YQp6h5"
      }
    },
    {
      "cell_type": "code",
      "source": [
        "! pip install datasets"
      ],
      "metadata": {
        "id": "ht7TQUSlxyqc"
      },
      "execution_count": null,
      "outputs": []
    },
    {
      "cell_type": "code",
      "source": [
        "import tensorflow_datasets as tfds"
      ],
      "metadata": {
        "id": "R6tzRGj_p7-B"
      },
      "execution_count": null,
      "outputs": []
    },
    {
      "cell_type": "code",
      "source": [
        "ds = tfds.load('huggingface:yelp_review_full/yelp_review_full')"
      ],
      "metadata": {
        "id": "PpNCimPqqVhZ"
      },
      "execution_count": null,
      "outputs": []
    },
    {
      "cell_type": "code",
      "source": [
        "for i in ds:\n",
        "  print(i)"
      ],
      "metadata": {
        "colab": {
          "base_uri": "https://localhost:8080/"
        },
        "id": "HO8Mp3eX1NT0",
        "outputId": "99104a28-c752-46fc-80fa-99a03d177662"
      },
      "execution_count": null,
      "outputs": [
        {
          "output_type": "stream",
          "name": "stdout",
          "text": [
            "train\n",
            "test\n"
          ]
        }
      ]
    },
    {
      "cell_type": "code",
      "source": [
        "train_label= []\n",
        "train_text= []\n",
        "\n",
        "test_label= []\n",
        "test_text= []\n",
        "\n",
        "for review in ds['train']:\n",
        "  train_label.append(review['label'])\n",
        "  train_text.append(review['text'])\n",
        "\n",
        "for review in ds['test']:\n",
        "  test_label.append(review['label'])\n",
        "  test_text.append(review['text'])\n"
      ],
      "metadata": {
        "id": "n_vHdVdhz_Cb"
      },
      "execution_count": null,
      "outputs": []
    },
    {
      "cell_type": "code",
      "source": [
        "print(test_label[0])"
      ],
      "metadata": {
        "colab": {
          "base_uri": "https://localhost:8080/"
        },
        "id": "_aPLrkGf7N_b",
        "outputId": "0e92c4c0-da3d-4a99-9bd9-fcfe27fc7389"
      },
      "execution_count": null,
      "outputs": [
        {
          "output_type": "stream",
          "name": "stdout",
          "text": [
            "tf.Tensor(0, shape=(), dtype=int64)\n"
          ]
        }
      ]
    },
    {
      "cell_type": "code",
      "source": [
        "print(train_text[0])\n",
        "print(type(train_text[0]))"
      ],
      "metadata": {
        "colab": {
          "base_uri": "https://localhost:8080/"
        },
        "id": "4t9jASlN58sZ",
        "outputId": "fdb4e141-77a7-48c5-9122-c5c6279f3c39"
      },
      "execution_count": null,
      "outputs": [
        {
          "output_type": "stream",
          "name": "stdout",
          "text": [
            "tf.Tensor(b\"My husband and I LOVE Red Devil. We eat Ina few times a month and order take out at least twice a week. Red Devil never fails to deliver an excellent meal. We generally eat dinner late (after 8pm) so we rarely wait for a table. Dinner hours expect a wait, but definitely well worth every minute!! The take out guys are awesome!! The entire menu is delicious! You can't go wrong with red devil. Enjoy!!\", shape=(), dtype=string)\n",
            "<class 'tensorflow.python.framework.ops.EagerTensor'>\n"
          ]
        }
      ]
    },
    {
      "cell_type": "code",
      "source": [
        "t= str(train_text[100])\n",
        "print(t[12:-26])"
      ],
      "metadata": {
        "colab": {
          "base_uri": "https://localhost:8080/"
        },
        "id": "WpAcNTpU6Pon",
        "outputId": "a2152d66-8b5c-478f-97f7-45cad28bd148"
      },
      "execution_count": null,
      "outputs": [
        {
          "output_type": "stream",
          "name": "stdout",
          "text": [
            "It's a little bitter sweet for me here...I just never know what to expect is what i mean by that.\\\\n\\\\nNow I have gone to Lulu's countless times...every time being unique in it's own way, whether it's the food or the service and mostly not in a good way. I can't be a full supporter like most people are because the people that like Lulu's don't agree with my restaurant choices and only think Lulu's is God's gift to Plaza Midwood or to Charlotte at that, and will always put it at the top of they're list to recommend to people!!! That's fine but I really can't take their recommendation on anything else in this town then,sorry!! \\\\n\\\\nI came here two Sundays ago and will say that my service and food were both good (this time). It was also 2pm and they were very quiet I assumed we got there after their Brunch rush.\\\\n\\\\nOn all of my other visits here their has always been something wrong the service is my biggest of issues and then the food because one person can get something that is really good and the other person (me) get's something that is not...I'm really not that picky and am very tolerable but for some reason they have some of the worst servers in town (not to offend them)and they have one of the smallest restaurants in town so i think that's what really confuses me how is it humanly possible to not see that we are sitting there and have been w/o anything to drink or with no food for an extreme amount of time. \\\\n\\\\nI still go because like I said its everyone's favorite restaurant so either I dine alone at my favorites or I suck it up and hope for the best and get some mediocre food with some good friends! \\\\n\\\\nAgain for those that LOVE it I'm not knocking you for liking it I'm simply suggesting it not be your #1 suggestion all of the time...  ;)\n"
          ]
        }
      ]
    },
    {
      "cell_type": "code",
      "source": [
        "train__text= [str(i) for i in train_text]\n",
        "train__text= [i[12:-26] for i in train__text]\n",
        "print(type(train__text[0]))\n",
        "print(train__text[:10])"
      ],
      "metadata": {
        "colab": {
          "base_uri": "https://localhost:8080/"
        },
        "id": "LJHKjgAp8sif",
        "outputId": "55b7b75e-f8e3-4a80-c0bc-db61d1229923"
      },
      "execution_count": null,
      "outputs": [
        {
          "output_type": "stream",
          "name": "stdout",
          "text": [
            "<class 'str'>\n",
            "[\"My husband and I LOVE Red Devil. We eat Ina few times a month and order take out at least twice a week. Red Devil never fails to deliver an excellent meal. We generally eat dinner late (after 8pm) so we rarely wait for a table. Dinner hours expect a wait, but definitely well worth every minute!! The take out guys are awesome!! The entire menu is delicious! You can't go wrong with red devil. Enjoy!!\", 'Their food size is pretty good one . But honestly the dumplings we got were way worse than my home made ones ... Too plain to have it . My order was pork stone rice which was super plain ...totally killed our appetite that night . Hope they can boost their food flavor up.', 'My mom and I go here quite a bit when we come to the Bellagio to look at the garden display.  The line was not too long but we probably waited about 20 minutes for a table.  Not too bad for this place.  \\\\\\\\n\\\\\\\\nIt did take a bit for someone to come over to the table.  The drink person took our drink order and then finally the waitress came to take our order.\\\\\\\\n\\\\\\\\nI had the Thai salad with shrimp.  My mom had the bbq bacon burger with fries.  My salad was really good.  The shrimp were just okay.  They were grilled which was nice but they were not very flavorful shrimp.  The rest of the salad was really tasty though.  It would have been nice though to bring the bread before the entrees as we barely touched the bread and it went to waste.  My mom enjoyed her burger.  It was bit messy but she like the taste.  The fries were good too.  \\\\\\\\n\\\\\\\\nWe had to flag the waitress down to get our check but she did get us refills for our sodas.  Even though the service was not that good we will probably be back as the food is pretty good.', \"There are a million breakfast places in Montreal that serve this stuff (or better) for less than Chez Cora charges...\\\\\\\\nIf you don't take chances on other places, for sure you'll think this is the best breakfast ever...\", \"I've been to the Boardwalk Billy's near UNCC a few times but this was our first time here.  It is an average place with average food, but our waitress was very nice.  We though this place would be packed for the AFC Wild Card game but it was pretty empty.  This location is also much smaller than the UNCC location.  There was nothing inherently wrong with the food except maybe the slaw having too much of a vinegar taste to it.  Fried shrimp, steampot, and fish tacos were all par.  They don't have too much craft beer on tap except for Fat Tire, but that's better than nothing.  We may go again if in the area, but also may not make a special trip to go.\", 'How did I know when I found the perfect carpet and tile cleaner for my new home?? The guy brought out a black light to inspect the carpet when he came for the consultation! That\\\\\\'s right, a black light!!!\\\\\\\\n\\\\\\\\nMy husband and I found a home to rent with a pool. I am totally against having carpet in a home and, unfortunately, the entire upstairs is carpeted. My husband could not see past the pool, to what may be living in the carpet from past tenants, so I begged the listing agent to have the carpet replaced. That was a big fat no. The carpets were so dirty they were black (supposed to be beige) and the listing agent said they would have them professionally cleaned and I would be pleased. Liar. We signed the lease, went back in the home (after the cleaning) and the carpet was beige again, but was \\\\\\\\\"crunchy\\\\\\\\\". My husband agreed to have them re-cleaned by the company of my choice to make me happy. After a quick search on Yelp I found Bradley\\\\\\'s Carpet Cleaning. Brian and his brother, Kurt, met us at the house and were both SO super nice. He ran his hand on the carpet to see how crunchy it was and dust started coming out of the carpet like a dust storm. He thought, at first, it was probably residue from the prior carpet cleaner and then whipped out the black light. This was like a slow motion horror show for my husband; he couldn\\\\\\'t get across the room quick enough to try to stop him. I am a huge germaphobe and my husband knew whatever was lurking in the carpet could keep me from moving in. My horrors were confirmed.... Either a crazy cat lady with 20 cats lived there or a family with 2 non house broken Saint Bernard\\\\\\'s.  Now, I am not insensitive to those with pets, I get it. I have 3 of my own, but they are housebroken and I would like to keep them that way. My fears started towards them \\\\\\\\\"marking their territory\\\\\\\\\" if they could smell urine from another animal. Brian was just as disgusted as I was but seemed confident he could help me. \\\\\\\\nBrian went over ways I could pre treat the carpet myself with commercial grade enzymes, liquid alive, etc to save money and emailed me estimates for 3 different processes he could do for my carpets in different price points. He even gave me a store and contact person to purchase all the products! I never felt he was trying to up sell me. My husband was going out of town for work, and I was left behind to pack the old house up myself so I went with a treatment option that included them doing all the work over a few days. This is where it gets impressive...\\\\\\\\nI found a few crickets in the garage and know they are a food source for scorpions. Our old house had a ton of them and I am hoping to not have the same issue again so I called an exterminator. They called me with a last minute opening and I left work to run and meet them at the house. This was the day Bradley\\\\\\'s Carpet Cleaning was coming out to do the initial pretreatment and had no idea I would be stopping by. I left a key for them in a lock box to come and go as they please while they treated the floors so I wouldn\\\\\\'t have to be there every time. When I walked in, they were well on their way working on the carpet. They were both on their hands and knees- black lights in their left hand, treatment solution in their right, making sure to get every single spot! At one point, I walked in when Brian was on the stairs and he was scrubbing the front of each stair with treatment solution! Not just the tops! They paid such close attention to detail, it was as if they were going to live there themselves! \\\\\\\\nBasically, they cleaned twice after treating the carpet, which was three times overall and I am confident they got them as clean as possible and the only other option would be to totally replace the carpet. Since it\\\\\\'s a rental this doesn\\\\\\'t make sense for us. Unfortunately, we were still getting dust when we ran our hands across certain areas. Brian stayed on the case and eventually figured out it was tons and tons and tons of carpet fresh from the old tenants! He emailed me his findings and I replied with a passing comment that now I was no longer worried my pets would mark the carpet, but they are both habitual paw lickers and now I was concerned they would end up poisoned by carpet fresh. I envisioned my life for the next year constantly washing their paws! Not even a  1/2 hour later Brian responded- he had contacted WD-40, the makers of carpet fresh, to inquire about it possibly being hazardous to my dog\\\\\\'s health and the best way to get it out of the carpet. This floored me, talk about going above and beyond! In case anyone was wondering, it is non toxic to animals! Turns out, Brian is a huge animal lover and his wife is a pet sitter! \\\\\\\\nHe also did an awesome job on the tile and grout. It looks brand new! We will definitely hire Bradley\\\\\\'s Carpet Cleaning in the future and I have recommended them to everyone I know. My company has also now hired them to clean our lobby and office areas!', \"Great service and clean place,  as for the food it was around the typical chinese food buffet style, they did offer a mongolian and sushi section.\\\\\\\\nThey had quite a few isles with a variety of different items, some you don't find at a  regular Chinese buffet.\", 'Make sure you head over to the Bellagio to check out the beautiful botanical gardens.  When I was here, the Icelandic poppies were in bloom and it filled most of the lobby with a great flowery smell that cancelled out the smoke from the casino.  The butterfly garden and fountains also provided awesome tourist attractions and picture taking spots.  Make sure you bring plenty of patience along with you because there are always massive crowds in the Bellagio.\\\\\\\\n\\\\\\\\nThe Bellagio has classy architecture, beautiful fountains and a unique botanical garden that all can enjoy but at times the Bellagio seemed more like Disneyland than a posh Vegas hotel/casino.  It is clearly stated on the Bellagio website that unattended children and strollers are absolutely not allowed in the Bellagio.  However, when I was at the Bellagio there were strollers galore and marauding children all over the place.  The Bellagio could do much better in living up to their five star reputation and create a more adult friendly atmosphere by adhering to their own self stated policy involving children.', \"Bouchon, this is such a tough rating. I really struggled with how to rate this restaurant. I begged my husband to come here. I saw this restaurant on Anthony Bourdain and  he said that the fries at Bouchon were better than at his restaurant. The atmosphere was great.\\\\\\\\nWe went in for breakfast and I ordered the bread pudding French toast. It was bland. It wasn't bad but it really isn't worth mentioning or trying. I love bread pudding and I love French toast so I thought it would be amazing. My husband on the other hand ordered the sourdough waffle...it was AMAZING.  It was so good I wanted to eat it slowly so it would last. We went back the next day and ordered the waffles again...they were wonderful.\\\\\\\\nMy issues, neither the waffle nor the bread pudding came with a side and for the price and portion size it should come with a side. As for the fries, well we ordered a side and they were so overcooked we sent them back. They brought us out another side of fries and they weren't much better. They were too hard and too crispy. If you like the small, hard and crispy fries these may be for you. But I didn't think they were very good. \\\\\\\\nThe service was also good. So with how wonderful the waffles were but with how average almost everything else is... I still have to give this place 4. More than I remember any of the average aspects....I remember how wonderful those waffles taste.\", \"Every year we celebrate joint birthdays with our best friends at a SPECIAL restaurant. Over the years, we have always enjoyed our dining  experiences- that is until we went to Del Frisco this year. My friend and I always order a rib eye or NY strip. Every so often, we'll have prime rib. Our wives invariably order lobster, etc.\\\\\\\\nThis evening, the waitress convicted us to order their special 12oz. Rib eye and crab cake including veggies and dessert. We thought it strange when she told us we could get the promotion for only $99 per couple. We questioned her about the quality of the meat and amount of filler in the crab cakes. She assured our every skepticism, so we agreed to the special.\\\\\\\\nThe steak was thin and so over seasoned that my wife, who never complains, called for the waitress. An assistant manager came over and was very apologetic, replaced her steak, and sent over the manager. When we questioned him about the steak quality, he began to explain about butchering. Since we weren't interested in his explanation, he  comped the meal. We thought that was the right thing to do under the circumstances. \\\\\\\\nWhen I go to a highly touted Restaurant, the last thing I was is to be comped because the steak is not top quality. It is an admission of their failure to live up to the billing.\"]\n"
          ]
        }
      ]
    },
    {
      "cell_type": "code",
      "source": [
        "test__text= [str(i) for i in test_text]\n",
        "test__text= [i[12:-26] for i in test__text]\n",
        "print(type(test__text[0]))\n",
        "print(test__text[:10])"
      ],
      "metadata": {
        "colab": {
          "base_uri": "https://localhost:8080/"
        },
        "id": "bodftzgV-wGJ",
        "outputId": "2aec3462-cc5f-4bec-ebf9-77b0069390f3"
      },
      "execution_count": null,
      "outputs": [
        {
          "output_type": "stream",
          "name": "stdout",
          "text": [
            "<class 'str'>\n",
            "[\"I was so disappointed in my order from them today.   Ordered the pizza special with Canadian bacon and pineapple for delivery.  Both were thrown on top of a previously baked pizza with no cheese added.  In fact it wasn't Canadian bacon but rough cut large unevenly diced chunks of ham.  I asked multiple people in the office and they had never seen anything like it.  Wish I could upload a picture. I usually eat there at least once a week so I tried to call and talk to a manager.  The phone was answered with please hold in an annoyed voice, followed by another person picking up the phone with a yeah.  I asked to speak to a manager and was told the person who put me on hold was the manager.  I repeated that I needed the manager and was informed that both the manager ( who was yelling in the background I don't have time for this) and the employee didn't have time to talk to me.   HORRIBLE customer service won't be eating here again.\", 'Great price for the breakfast deal $4.99 chicken steak & eggs, friendly staff good food and price. Music is little loud. But it is a bar, what can you say right ??', \"Apparently they don't have room for new customers, but they do have a list of competitors you can have but they don't know how well these guys work so that's really of no use. Sorry you're too busy! I'll find my own company.\", 'We have been going to T-Bone for several years.  The food is good (steaks). We loved their olive bread but they no longer serve it. Adam the bus boy told us they are trying to get a healthier menu. I told him I do not go to a steakhouse to eat healthy. Adam was great. The waitress Jocelyn  was not as  friendly. Mushrooms too sweet in a wine sauce. Wish they just had wild mushrooms with butter and garlic like at Gordon Ramsey Steak House. Steaks are good .', 'There are so many things wrong with this gym that I could probably write a small book on its gross lack of customer service and inattentiveness to detail, but I\\\\\\'ll try to sum it up in under 20 paragraphs.\\\\\\\\n\\\\\\\\nPF puts far more emphasis on the customer it\\\\\\'s trying to court than the one it already has. Basically, a sell-sell-sell attitude. Once you are a member, you\\\\\\'re nothing to them anymore.\\\\\\\\n\\\\\\\\n-I\\\\\\'ve tried to get the tv put on to no avail sometimes. PF has numerous tvs and often a big game will be showing where people are doing cardio but where people (moslty men) are lifting free weights, we\\\\\\'ll get news or golf. \\\\\\\\\"I don\\\\\\'t know how to work the tv\\\\\\\\\" or \\\\\\\\\"I\\\\\\'ll ask someone to do it\\\\\\\\\" are popular responses. I\\\\\\'ve even been turned down trying to get an ASU game on and that\\\\\\'s the local team. Disappointing for a gym with satellite tv.\\\\\\\\n\\\\\\\\n- PF has lowered rates for new customers and done nothing for their existing ones. They\\\\\\'ve even given equipment away to one of their other gyms meaning you\\\\\\'re getting less for your money. \\\\\\\\n\\\\\\\\n- Trainers hold special aerobics classes inside the gym. No, not inside the aerobics room, inside the gym where people work out. It\\\\\\'s not unusual to see people doing wind sprints up and down the hallway or a group of people doing ab work in front of a machine you\\\\\\'d like to use. \\\\\\\\n\\\\\\\\n-For years this place didn\\\\\\'t provide paper towels. If you wanted to clean down equipment or your brow, you had to buy a towel or bring your own. The bathroom only had heated dryers or toilet paper. \\\\\\\\nIt now has paper towel dispensers but some are often empty and workers rarely care. Patrons here do a great job cleaning up after themselves. \\\\\\\\n\\\\\\\\n- Pushing supplements is more important than pushing you to work harder. This location has a very hard time keeping female trainers. Women are constantly being hired, but they don\\\\\\'t last long. I\\\\\\'m told being  a trainer there is very difficult because you are not just required to recruit a stable of people to train, you have to sell them supplements as well. PF sells its own brand of supps  and trainers will tell you how wonderful they are, better prices than stores, etc. I think the trainers are competent, I\\\\\\'m told they\\\\\\'re required to sell stuff though and convincing one that Apex is better than name brands and much cheaper is not what we want to hear during our training. \\\\\\\\n\\\\\\\\n- Loose or damaged equipment is often left unattended. From week to week some of the same dumb bells are loose and I once reported a bent bar on the bench press and no one there cared to remove it. I told multiple employees too.\\\\\\\\n\\\\\\\\n- Aerobics classes are subpar and so are the times. Some of the classes are titled one thing and then when you get into the class they\\\\\\'re doing something else. I once did a kickboxing class and the girl had us doing wind sprints and some kind of standing aerobic movements that didn\\\\\\'t involve punching or kicking. Many of their better classes start at like 5 p.m. It\\\\\\'s almost as if their schedule is geared around students. \\\\\\\\n\\\\\\\\nThere\\\\\\'s a high turnover rate at this gym too. From the front desk girls to the trainers (many of the male trainers have been there a while) to the managers. There\\\\\\'s literally a different manager there every few weeks and the guy who introduces himself to you on a Wednesday and says \\\\\\'If you have any problems my name\\\\\\'s Bob,\\\\\\\\\" will be named Steve a few weeks later and Mark after that.\\\\\\\\n\\\\\\\\nCompetitive pricing compared to other gyms, convenience and decent, clean equipment keep me going there.\\\\\\\\n\\\\\\\\nUnless this gym is really convenient for you or the price is well below what other gyms are charging, check into your other options.', 'Good for breakfast and brunch. It is located in a rough part of the city. I recently moved closer to downtown so I drop by often. \\\\\\\\n\\\\\\\\nNova/lox sandwiches are my favorite. Be careful, Lox can get too salty (or was it the other way around??). You can get all your standard bagels. All of them freshly baked. Hash corned beef is very good. A side of them is big enough for 2. \\\\\\\\n\\\\\\\\nit is a good deli in that part of the city.  Not a world-class place  but good for Vegas and the best you can get in that area.', 'I don\\\\\\'t want to be a party pooper for not giving 5 stars, but I\\\\\\'m doing this to help you have slightly less high expectations going in.  My expectations were sooooo high based on the reviews I had read, that it was fairly impossible for a show to live up to them.\\\\\\\\n\\\\\\\\n    Also, the ticket prices for this show must have gone up since some of these reviews have been written.  They now start at $79.  We bought ours at the Tix 4 Tonite place at the Fashion Mall for $59...had to take the vouchers to the ticket booth near the show\\\\\\'s entrance.  No big deal. It was quick and easy. We went to the 8:00 Sunday show.\\\\\\\\n\\\\\\\\n   That being said, I very much enjoyed it.  I\\\\\\'m pretty short, so our choice of seats turned out to be good...we sat along the back wall on stools near the bar(another reason it was a good choice). Not comfy, but it helped to be able to see. And we weren\\\\\\'t crammed close with the majority.  \\\\\\\\n\\\\\\\\nTIP:  DON\\\\\\'T ask the bartender what kind of wine he has.  He will snap red and white.  Pick one. Quickly.  Waitresses will come around with the \\\\\\\\\"special drink of the day\\\\\\\\\".  Husband got one of those.  He said it tasted like boozy kool-aid.  To which I would say \\\\\\\\\"to each his own\\\\\\\\\".\\\\\\\\n\\\\\\\\n   I loved the comedy, the acrobats were all very talented.  I hate that the roller skaters aren\\\\\\'t still with them, because I think an act like that would\\\\\\'ve added more variety to the show. I wish we could\\\\\\'ve seen them.\\\\\\\\n\\\\\\\\n   Our goal for a Vegas show was to see something we can\\\\\\'t see anywhere else.  We wanted something that truly says Vegas without the super high Vegas show prices for most of the shows.  And that\\\\\\'s exactly what we got.', 'Not that good, over-priced, bad service, tables were dirty.', \"Servce was very disappointing.  Waited 20 minutes for someone to take just our drink order.   Getting our ckeck wasn't any easier  this was my second attempt at this location. First time was a to go order, got all the way back to work an only had half my order No Pita!!  I-ronic ugh!!    Never again sad to say i love the food.\", 'My friends and I went there after everything was closing in Downtown. Though the service was okay, the food came out horrible. Worst of all, I ordered an Irish Coffee. They charged me $4.50 for the Irish Coffee and then $5.00 for Baileys.  A $9.00 Irish Coffee. When I complained , the manager said I had to call the General Manager and the District Manager to get any recourse. Never going there again. I absolutely do NOT recommend it.']\n"
          ]
        }
      ]
    },
    {
      "cell_type": "code",
      "source": [
        "train__label= [str(i) for i in train_label]\n",
        "train__label= [int(i[10]) for i in train__label]\n",
        "print(type(train__label[0]))\n",
        "print(train__label[:10])"
      ],
      "metadata": {
        "colab": {
          "base_uri": "https://localhost:8080/"
        },
        "id": "BoCAwYr_2zMi",
        "outputId": "a3301b3c-de91-4db0-80c1-bd2edb82c784"
      },
      "execution_count": null,
      "outputs": [
        {
          "output_type": "stream",
          "name": "stdout",
          "text": [
            "<class 'int'>\n",
            "[4, 0, 2, 1, 2, 4, 2, 3, 3, 1]\n"
          ]
        }
      ]
    },
    {
      "cell_type": "code",
      "source": [
        "print(max(train__label))\n",
        "print(min(train__label))"
      ],
      "metadata": {
        "colab": {
          "base_uri": "https://localhost:8080/"
        },
        "id": "y7cPQGPT5unP",
        "outputId": "0e433c3f-437d-490d-8d2e-af17a700b50d"
      },
      "execution_count": null,
      "outputs": [
        {
          "output_type": "stream",
          "name": "stdout",
          "text": [
            "4\n",
            "0\n"
          ]
        }
      ]
    },
    {
      "cell_type": "code",
      "source": [
        "test__label= [str(i) for i in test_label]\n",
        "test__label= [int(i[10]) for i in test__label]\n",
        "print(type(test__label[0]))\n",
        "print(test__label[:10])"
      ],
      "metadata": {
        "colab": {
          "base_uri": "https://localhost:8080/"
        },
        "id": "YFfsYeXk60vx",
        "outputId": "b8cc04dc-6eb0-4c73-ec38-9a68f3426261"
      },
      "execution_count": null,
      "outputs": [
        {
          "output_type": "stream",
          "name": "stdout",
          "text": [
            "<class 'int'>\n",
            "[0, 4, 0, 2, 1, 3, 3, 0, 0, 0]\n"
          ]
        }
      ]
    },
    {
      "cell_type": "code",
      "source": [
        "import pandas as pd\n",
        "\n",
        "dic_train= {'text': train__text, 'label': train__label}\n",
        "dic_test= {'text': test__text, 'label': test__label}\n",
        "\n",
        "df_train= pd.DataFrame(dic_train)\n",
        "df_test= pd.DataFrame(dic_test)"
      ],
      "metadata": {
        "id": "hQStbsY25MhN"
      },
      "execution_count": null,
      "outputs": []
    },
    {
      "cell_type": "code",
      "source": [
        "print(df_train)"
      ],
      "metadata": {
        "id": "zqykPr7o_y1h"
      },
      "execution_count": null,
      "outputs": []
    },
    {
      "cell_type": "code",
      "source": [
        "df_train.to_csv('yelp_train')\n",
        "df_test.to_csv('yelp_test')"
      ],
      "metadata": {
        "id": "kQOXYh8YyAVC"
      },
      "execution_count": null,
      "outputs": []
    },
    {
      "cell_type": "code",
      "source": [
        "data= pd.read_csv('yelp_train.csv')\n",
        "data.head()"
      ],
      "metadata": {
        "id": "SODf-SYdAc0A"
      },
      "execution_count": null,
      "outputs": []
    }
  ],
  "metadata": {
    "colab": {
      "provenance": [],
      "gpuType": "T4"
    },
    "kernelspec": {
      "display_name": "Python 3",
      "name": "python3"
    },
    "language_info": {
      "name": "python"
    }
  },
  "nbformat": 4,
  "nbformat_minor": 0
}